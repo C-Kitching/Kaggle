{
 "cells": [
  {
   "cell_type": "markdown",
   "id": "085d10d1",
   "metadata": {
    "papermill": {
     "duration": 0.008777,
     "end_time": "2023-02-04T13:47:58.293961",
     "exception": false,
     "start_time": "2023-02-04T13:47:58.285184",
     "status": "completed"
    },
    "tags": []
   },
   "source": [
    "# Titanic Competition"
   ]
  },
  {
   "cell_type": "markdown",
   "id": "3d348bd1",
   "metadata": {
    "papermill": {
     "duration": 0.006344,
     "end_time": "2023-02-04T13:47:58.307539",
     "exception": false,
     "start_time": "2023-02-04T13:47:58.301195",
     "status": "completed"
    },
    "tags": []
   },
   "source": [
    "## Imports and config"
   ]
  },
  {
   "cell_type": "code",
   "execution_count": 1,
   "id": "2dd22b98",
   "metadata": {
    "execution": {
     "iopub.execute_input": "2023-02-04T13:47:58.324117Z",
     "iopub.status.busy": "2023-02-04T13:47:58.323034Z",
     "iopub.status.idle": "2023-02-04T13:47:59.838958Z",
     "shell.execute_reply": "2023-02-04T13:47:59.837615Z"
    },
    "papermill": {
     "duration": 1.528589,
     "end_time": "2023-02-04T13:47:59.842714",
     "exception": false,
     "start_time": "2023-02-04T13:47:58.314125",
     "status": "completed"
    },
    "tags": []
   },
   "outputs": [],
   "source": [
    "# essentials\n",
    "import numpy as np\n",
    "import scipy\n",
    "import pandas as pd\n",
    "import datetime\n",
    "import seaborn as sns\n",
    "import matplotlib.pyplot as plt\n",
    "import random\n",
    "\n",
    "# scipy\n",
    "from scipy import stats\n",
    "from scipy.stats import kstest, boxcox, skew, norm, boxcox_normmax, yeojohnson\n",
    "from scipy.special import boxcox1p\n",
    "\n",
    "# models\n",
    "from sklearn.ensemble import RandomForestClassifier\n",
    "from sklearn.ensemble import GradientBoostingClassifier\n",
    "from sklearn.linear_model import LogisticRegression\n",
    "from sklearn.linear_model import SGDClassifier\n",
    "from sklearn.svm import SVC\n",
    "\n",
    "# misc\n",
    "from sklearn.metrics import accuracy_score\n",
    "from sklearn.model_selection import train_test_split\n",
    "\n",
    "pd.set_option('display.max_columns', None)\n",
    "\n",
    "# Ignore useless warnings\n",
    "import warnings\n",
    "warnings.filterwarnings(action=\"ignore\")\n",
    "pd.options.display.max_seq_items = 8000\n",
    "pd.options.display.max_rows = 8000"
   ]
  },
  {
   "cell_type": "markdown",
   "id": "72636caa",
   "metadata": {
    "papermill": {
     "duration": 0.006431,
     "end_time": "2023-02-04T13:47:59.856199",
     "exception": false,
     "start_time": "2023-02-04T13:47:59.849768",
     "status": "completed"
    },
    "tags": []
   },
   "source": [
    "## Data loading"
   ]
  },
  {
   "cell_type": "code",
   "execution_count": 2,
   "id": "46de072a",
   "metadata": {
    "execution": {
     "iopub.execute_input": "2023-02-04T13:47:59.880348Z",
     "iopub.status.busy": "2023-02-04T13:47:59.879446Z",
     "iopub.status.idle": "2023-02-04T13:47:59.909754Z",
     "shell.execute_reply": "2023-02-04T13:47:59.908680Z"
    },
    "papermill": {
     "duration": 0.045857,
     "end_time": "2023-02-04T13:47:59.912643",
     "exception": false,
     "start_time": "2023-02-04T13:47:59.866786",
     "status": "completed"
    },
    "tags": []
   },
   "outputs": [],
   "source": [
    "def read_data():\n",
    "    train = pd.read_csv(\"/kaggle/input/titanic/train.csv\")\n",
    "    test = pd.read_csv(\"/kaggle/input/titanic/test.csv\")\n",
    "    return train, test\n",
    "\n",
    "train, test = read_data()"
   ]
  },
  {
   "cell_type": "code",
   "execution_count": 3,
   "id": "8e47e2a9",
   "metadata": {
    "execution": {
     "iopub.execute_input": "2023-02-04T13:47:59.928720Z",
     "iopub.status.busy": "2023-02-04T13:47:59.928274Z",
     "iopub.status.idle": "2023-02-04T13:47:59.954235Z",
     "shell.execute_reply": "2023-02-04T13:47:59.953131Z"
    },
    "papermill": {
     "duration": 0.037576,
     "end_time": "2023-02-04T13:47:59.957365",
     "exception": false,
     "start_time": "2023-02-04T13:47:59.919789",
     "status": "completed"
    },
    "tags": []
   },
   "outputs": [
    {
     "data": {
      "text/html": [
       "<div>\n",
       "<style scoped>\n",
       "    .dataframe tbody tr th:only-of-type {\n",
       "        vertical-align: middle;\n",
       "    }\n",
       "\n",
       "    .dataframe tbody tr th {\n",
       "        vertical-align: top;\n",
       "    }\n",
       "\n",
       "    .dataframe thead th {\n",
       "        text-align: right;\n",
       "    }\n",
       "</style>\n",
       "<table border=\"1\" class=\"dataframe\">\n",
       "  <thead>\n",
       "    <tr style=\"text-align: right;\">\n",
       "      <th></th>\n",
       "      <th>PassengerId</th>\n",
       "      <th>Survived</th>\n",
       "      <th>Pclass</th>\n",
       "      <th>Name</th>\n",
       "      <th>Sex</th>\n",
       "      <th>Age</th>\n",
       "      <th>SibSp</th>\n",
       "      <th>Parch</th>\n",
       "      <th>Ticket</th>\n",
       "      <th>Fare</th>\n",
       "      <th>Cabin</th>\n",
       "      <th>Embarked</th>\n",
       "    </tr>\n",
       "  </thead>\n",
       "  <tbody>\n",
       "    <tr>\n",
       "      <th>0</th>\n",
       "      <td>1</td>\n",
       "      <td>0</td>\n",
       "      <td>3</td>\n",
       "      <td>Braund, Mr. Owen Harris</td>\n",
       "      <td>male</td>\n",
       "      <td>22.0</td>\n",
       "      <td>1</td>\n",
       "      <td>0</td>\n",
       "      <td>A/5 21171</td>\n",
       "      <td>7.2500</td>\n",
       "      <td>NaN</td>\n",
       "      <td>S</td>\n",
       "    </tr>\n",
       "    <tr>\n",
       "      <th>1</th>\n",
       "      <td>2</td>\n",
       "      <td>1</td>\n",
       "      <td>1</td>\n",
       "      <td>Cumings, Mrs. John Bradley (Florence Briggs Th...</td>\n",
       "      <td>female</td>\n",
       "      <td>38.0</td>\n",
       "      <td>1</td>\n",
       "      <td>0</td>\n",
       "      <td>PC 17599</td>\n",
       "      <td>71.2833</td>\n",
       "      <td>C85</td>\n",
       "      <td>C</td>\n",
       "    </tr>\n",
       "    <tr>\n",
       "      <th>2</th>\n",
       "      <td>3</td>\n",
       "      <td>1</td>\n",
       "      <td>3</td>\n",
       "      <td>Heikkinen, Miss. Laina</td>\n",
       "      <td>female</td>\n",
       "      <td>26.0</td>\n",
       "      <td>0</td>\n",
       "      <td>0</td>\n",
       "      <td>STON/O2. 3101282</td>\n",
       "      <td>7.9250</td>\n",
       "      <td>NaN</td>\n",
       "      <td>S</td>\n",
       "    </tr>\n",
       "    <tr>\n",
       "      <th>3</th>\n",
       "      <td>4</td>\n",
       "      <td>1</td>\n",
       "      <td>1</td>\n",
       "      <td>Futrelle, Mrs. Jacques Heath (Lily May Peel)</td>\n",
       "      <td>female</td>\n",
       "      <td>35.0</td>\n",
       "      <td>1</td>\n",
       "      <td>0</td>\n",
       "      <td>113803</td>\n",
       "      <td>53.1000</td>\n",
       "      <td>C123</td>\n",
       "      <td>S</td>\n",
       "    </tr>\n",
       "    <tr>\n",
       "      <th>4</th>\n",
       "      <td>5</td>\n",
       "      <td>0</td>\n",
       "      <td>3</td>\n",
       "      <td>Allen, Mr. William Henry</td>\n",
       "      <td>male</td>\n",
       "      <td>35.0</td>\n",
       "      <td>0</td>\n",
       "      <td>0</td>\n",
       "      <td>373450</td>\n",
       "      <td>8.0500</td>\n",
       "      <td>NaN</td>\n",
       "      <td>S</td>\n",
       "    </tr>\n",
       "  </tbody>\n",
       "</table>\n",
       "</div>"
      ],
      "text/plain": [
       "   PassengerId  Survived  Pclass  \\\n",
       "0            1         0       3   \n",
       "1            2         1       1   \n",
       "2            3         1       3   \n",
       "3            4         1       1   \n",
       "4            5         0       3   \n",
       "\n",
       "                                                Name     Sex   Age  SibSp  \\\n",
       "0                            Braund, Mr. Owen Harris    male  22.0      1   \n",
       "1  Cumings, Mrs. John Bradley (Florence Briggs Th...  female  38.0      1   \n",
       "2                             Heikkinen, Miss. Laina  female  26.0      0   \n",
       "3       Futrelle, Mrs. Jacques Heath (Lily May Peel)  female  35.0      1   \n",
       "4                           Allen, Mr. William Henry    male  35.0      0   \n",
       "\n",
       "   Parch            Ticket     Fare Cabin Embarked  \n",
       "0      0         A/5 21171   7.2500   NaN        S  \n",
       "1      0          PC 17599  71.2833   C85        C  \n",
       "2      0  STON/O2. 3101282   7.9250   NaN        S  \n",
       "3      0            113803  53.1000  C123        S  \n",
       "4      0            373450   8.0500   NaN        S  "
      ]
     },
     "execution_count": 3,
     "metadata": {},
     "output_type": "execute_result"
    }
   ],
   "source": [
    "train.head()"
   ]
  },
  {
   "cell_type": "code",
   "execution_count": 4,
   "id": "2442790d",
   "metadata": {
    "execution": {
     "iopub.execute_input": "2023-02-04T13:47:59.974364Z",
     "iopub.status.busy": "2023-02-04T13:47:59.973126Z",
     "iopub.status.idle": "2023-02-04T13:47:59.979706Z",
     "shell.execute_reply": "2023-02-04T13:47:59.978926Z"
    },
    "papermill": {
     "duration": 0.016918,
     "end_time": "2023-02-04T13:47:59.981626",
     "exception": false,
     "start_time": "2023-02-04T13:47:59.964708",
     "status": "completed"
    },
    "tags": []
   },
   "outputs": [
    {
     "data": {
      "text/plain": [
       "(891, 12)"
      ]
     },
     "execution_count": 4,
     "metadata": {},
     "output_type": "execute_result"
    }
   ],
   "source": [
    "train.shape"
   ]
  },
  {
   "cell_type": "code",
   "execution_count": 5,
   "id": "c9cd1674",
   "metadata": {
    "execution": {
     "iopub.execute_input": "2023-02-04T13:47:59.997898Z",
     "iopub.status.busy": "2023-02-04T13:47:59.997459Z",
     "iopub.status.idle": "2023-02-04T13:48:00.014041Z",
     "shell.execute_reply": "2023-02-04T13:48:00.012948Z"
    },
    "papermill": {
     "duration": 0.027882,
     "end_time": "2023-02-04T13:48:00.016780",
     "exception": false,
     "start_time": "2023-02-04T13:47:59.988898",
     "status": "completed"
    },
    "tags": []
   },
   "outputs": [
    {
     "data": {
      "text/html": [
       "<div>\n",
       "<style scoped>\n",
       "    .dataframe tbody tr th:only-of-type {\n",
       "        vertical-align: middle;\n",
       "    }\n",
       "\n",
       "    .dataframe tbody tr th {\n",
       "        vertical-align: top;\n",
       "    }\n",
       "\n",
       "    .dataframe thead th {\n",
       "        text-align: right;\n",
       "    }\n",
       "</style>\n",
       "<table border=\"1\" class=\"dataframe\">\n",
       "  <thead>\n",
       "    <tr style=\"text-align: right;\">\n",
       "      <th></th>\n",
       "      <th>PassengerId</th>\n",
       "      <th>Pclass</th>\n",
       "      <th>Name</th>\n",
       "      <th>Sex</th>\n",
       "      <th>Age</th>\n",
       "      <th>SibSp</th>\n",
       "      <th>Parch</th>\n",
       "      <th>Ticket</th>\n",
       "      <th>Fare</th>\n",
       "      <th>Cabin</th>\n",
       "      <th>Embarked</th>\n",
       "    </tr>\n",
       "  </thead>\n",
       "  <tbody>\n",
       "    <tr>\n",
       "      <th>0</th>\n",
       "      <td>892</td>\n",
       "      <td>3</td>\n",
       "      <td>Kelly, Mr. James</td>\n",
       "      <td>male</td>\n",
       "      <td>34.5</td>\n",
       "      <td>0</td>\n",
       "      <td>0</td>\n",
       "      <td>330911</td>\n",
       "      <td>7.8292</td>\n",
       "      <td>NaN</td>\n",
       "      <td>Q</td>\n",
       "    </tr>\n",
       "    <tr>\n",
       "      <th>1</th>\n",
       "      <td>893</td>\n",
       "      <td>3</td>\n",
       "      <td>Wilkes, Mrs. James (Ellen Needs)</td>\n",
       "      <td>female</td>\n",
       "      <td>47.0</td>\n",
       "      <td>1</td>\n",
       "      <td>0</td>\n",
       "      <td>363272</td>\n",
       "      <td>7.0000</td>\n",
       "      <td>NaN</td>\n",
       "      <td>S</td>\n",
       "    </tr>\n",
       "    <tr>\n",
       "      <th>2</th>\n",
       "      <td>894</td>\n",
       "      <td>2</td>\n",
       "      <td>Myles, Mr. Thomas Francis</td>\n",
       "      <td>male</td>\n",
       "      <td>62.0</td>\n",
       "      <td>0</td>\n",
       "      <td>0</td>\n",
       "      <td>240276</td>\n",
       "      <td>9.6875</td>\n",
       "      <td>NaN</td>\n",
       "      <td>Q</td>\n",
       "    </tr>\n",
       "    <tr>\n",
       "      <th>3</th>\n",
       "      <td>895</td>\n",
       "      <td>3</td>\n",
       "      <td>Wirz, Mr. Albert</td>\n",
       "      <td>male</td>\n",
       "      <td>27.0</td>\n",
       "      <td>0</td>\n",
       "      <td>0</td>\n",
       "      <td>315154</td>\n",
       "      <td>8.6625</td>\n",
       "      <td>NaN</td>\n",
       "      <td>S</td>\n",
       "    </tr>\n",
       "    <tr>\n",
       "      <th>4</th>\n",
       "      <td>896</td>\n",
       "      <td>3</td>\n",
       "      <td>Hirvonen, Mrs. Alexander (Helga E Lindqvist)</td>\n",
       "      <td>female</td>\n",
       "      <td>22.0</td>\n",
       "      <td>1</td>\n",
       "      <td>1</td>\n",
       "      <td>3101298</td>\n",
       "      <td>12.2875</td>\n",
       "      <td>NaN</td>\n",
       "      <td>S</td>\n",
       "    </tr>\n",
       "  </tbody>\n",
       "</table>\n",
       "</div>"
      ],
      "text/plain": [
       "   PassengerId  Pclass                                          Name     Sex  \\\n",
       "0          892       3                              Kelly, Mr. James    male   \n",
       "1          893       3              Wilkes, Mrs. James (Ellen Needs)  female   \n",
       "2          894       2                     Myles, Mr. Thomas Francis    male   \n",
       "3          895       3                              Wirz, Mr. Albert    male   \n",
       "4          896       3  Hirvonen, Mrs. Alexander (Helga E Lindqvist)  female   \n",
       "\n",
       "    Age  SibSp  Parch   Ticket     Fare Cabin Embarked  \n",
       "0  34.5      0      0   330911   7.8292   NaN        Q  \n",
       "1  47.0      1      0   363272   7.0000   NaN        S  \n",
       "2  62.0      0      0   240276   9.6875   NaN        Q  \n",
       "3  27.0      0      0   315154   8.6625   NaN        S  \n",
       "4  22.0      1      1  3101298  12.2875   NaN        S  "
      ]
     },
     "execution_count": 5,
     "metadata": {},
     "output_type": "execute_result"
    }
   ],
   "source": [
    "test.head()"
   ]
  },
  {
   "cell_type": "code",
   "execution_count": 6,
   "id": "3f84f199",
   "metadata": {
    "execution": {
     "iopub.execute_input": "2023-02-04T13:48:00.033522Z",
     "iopub.status.busy": "2023-02-04T13:48:00.033075Z",
     "iopub.status.idle": "2023-02-04T13:48:00.039990Z",
     "shell.execute_reply": "2023-02-04T13:48:00.038934Z"
    },
    "papermill": {
     "duration": 0.018041,
     "end_time": "2023-02-04T13:48:00.042334",
     "exception": false,
     "start_time": "2023-02-04T13:48:00.024293",
     "status": "completed"
    },
    "tags": []
   },
   "outputs": [
    {
     "data": {
      "text/plain": [
       "(418, 11)"
      ]
     },
     "execution_count": 6,
     "metadata": {},
     "output_type": "execute_result"
    }
   ],
   "source": [
    "test.shape"
   ]
  },
  {
   "cell_type": "markdown",
   "id": "63e4e986",
   "metadata": {
    "papermill": {
     "duration": 0.00842,
     "end_time": "2023-02-04T13:48:00.058324",
     "exception": false,
     "start_time": "2023-02-04T13:48:00.049904",
     "status": "completed"
    },
    "tags": []
   },
   "source": [
    "No columns present in one data set and not in the other which is convinient."
   ]
  },
  {
   "cell_type": "markdown",
   "id": "3f2e1967",
   "metadata": {
    "papermill": {
     "duration": 0.006926,
     "end_time": "2023-02-04T13:48:00.072588",
     "exception": false,
     "start_time": "2023-02-04T13:48:00.065662",
     "status": "completed"
    },
    "tags": []
   },
   "source": [
    "## EDA"
   ]
  },
  {
   "cell_type": "code",
   "execution_count": 7,
   "id": "c8d5ade4",
   "metadata": {
    "execution": {
     "iopub.execute_input": "2023-02-04T13:48:00.090096Z",
     "iopub.status.busy": "2023-02-04T13:48:00.089581Z",
     "iopub.status.idle": "2023-02-04T13:48:00.106157Z",
     "shell.execute_reply": "2023-02-04T13:48:00.104978Z"
    },
    "papermill": {
     "duration": 0.028622,
     "end_time": "2023-02-04T13:48:00.108509",
     "exception": false,
     "start_time": "2023-02-04T13:48:00.079887",
     "status": "completed"
    },
    "tags": []
   },
   "outputs": [
    {
     "data": {
      "text/plain": [
       "((891, 11), (418, 10))"
      ]
     },
     "execution_count": 7,
     "metadata": {},
     "output_type": "execute_result"
    }
   ],
   "source": [
    "def drop_ID(X):\n",
    "    \"\"\"\n",
    "    Drop the ID column since it is unique and so useless for ML\n",
    "    \n",
    "    Args:\n",
    "        X (pandas dataframe) : dataframe whose ID col we want to trop\n",
    "    \n",
    "    Returns:\n",
    "        X (pandas dataframe) : dataframe with ID's dropped\n",
    "    \"\"\"\n",
    "    X.drop(['PassengerId'], axis = 1, inplace = True)\n",
    "    return X\n",
    "\n",
    "train = drop_ID(train)\n",
    "test = drop_ID(test)\n",
    "train.shape, test.shape"
   ]
  },
  {
   "cell_type": "markdown",
   "id": "628bab8c",
   "metadata": {
    "papermill": {
     "duration": 0.00756,
     "end_time": "2023-02-04T13:48:00.123791",
     "exception": false,
     "start_time": "2023-02-04T13:48:00.116231",
     "status": "completed"
    },
    "tags": []
   },
   "source": [
    "## Prepare for cleaning"
   ]
  },
  {
   "cell_type": "code",
   "execution_count": 8,
   "id": "12301bef",
   "metadata": {
    "execution": {
     "iopub.execute_input": "2023-02-04T13:48:00.140786Z",
     "iopub.status.busy": "2023-02-04T13:48:00.140306Z",
     "iopub.status.idle": "2023-02-04T13:48:00.154645Z",
     "shell.execute_reply": "2023-02-04T13:48:00.153581Z"
    },
    "papermill": {
     "duration": 0.02567,
     "end_time": "2023-02-04T13:48:00.156970",
     "exception": false,
     "start_time": "2023-02-04T13:48:00.131300",
     "status": "completed"
    },
    "tags": []
   },
   "outputs": [
    {
     "data": {
      "text/plain": [
       "((891,), (891, 10))"
      ]
     },
     "execution_count": 8,
     "metadata": {},
     "output_type": "execute_result"
    }
   ],
   "source": [
    "def drop_target(train, target_name):\n",
    "    \"\"\"\n",
    "    Drop the target from the train data\n",
    "    \n",
    "    Args:\n",
    "        train (pandas dataframe) : train data\n",
    "        target_name (string) : name of target\n",
    "        \n",
    "    Returns:\n",
    "        train (pandas dataframe) : train data with target dropped\n",
    "        y_train (pandas series) : target\n",
    "    \"\"\"\n",
    "    y_train = train[target_name].reset_index(drop=True)\n",
    "    train = train.drop([target_name], axis=1) # drop the target\n",
    "    return y_train, train\n",
    "\n",
    "target_name = \"Survived\"\n",
    "target, train = drop_target(train, target_name)\n",
    "target.shape, train.shape"
   ]
  },
  {
   "cell_type": "code",
   "execution_count": 9,
   "id": "25737adb",
   "metadata": {
    "execution": {
     "iopub.execute_input": "2023-02-04T13:48:00.173645Z",
     "iopub.status.busy": "2023-02-04T13:48:00.173227Z",
     "iopub.status.idle": "2023-02-04T13:48:00.187006Z",
     "shell.execute_reply": "2023-02-04T13:48:00.185994Z"
    },
    "papermill": {
     "duration": 0.02465,
     "end_time": "2023-02-04T13:48:00.189072",
     "exception": false,
     "start_time": "2023-02-04T13:48:00.164422",
     "status": "completed"
    },
    "tags": []
   },
   "outputs": [
    {
     "data": {
      "text/plain": [
       "(1309, 10)"
      ]
     },
     "execution_count": 9,
     "metadata": {},
     "output_type": "execute_result"
    }
   ],
   "source": [
    "def combine_train_and_test(train, test):\n",
    "    \"\"\"\n",
    "    Prepare datasets for cleaning by dropping target and combining into one dataset\n",
    "    \n",
    "    Args:\n",
    "        train (pandas dataframe) : train dataset\n",
    "        test (pandas dataframe) : test dataset\n",
    "    \n",
    "    Returns:\n",
    "        X (pandas dataframe) : combined data\n",
    "    \"\"\"\n",
    "    X = pd.concat([train, test]).reset_index(drop=True) # combine train and test\n",
    "    \n",
    "    return X\n",
    "\n",
    "X = combine_train_and_test(train, test)\n",
    "X.shape"
   ]
  },
  {
   "cell_type": "code",
   "execution_count": 10,
   "id": "a2c7352c",
   "metadata": {
    "execution": {
     "iopub.execute_input": "2023-02-04T13:48:00.207201Z",
     "iopub.status.busy": "2023-02-04T13:48:00.206717Z",
     "iopub.status.idle": "2023-02-04T13:48:00.212879Z",
     "shell.execute_reply": "2023-02-04T13:48:00.211697Z"
    },
    "papermill": {
     "duration": 0.018061,
     "end_time": "2023-02-04T13:48:00.215228",
     "exception": false,
     "start_time": "2023-02-04T13:48:00.197167",
     "status": "completed"
    },
    "tags": []
   },
   "outputs": [],
   "source": [
    "def split_train_and_test(X, target):\n",
    "    \"\"\"\n",
    "    Extract the train and test sets from the combined data\n",
    "    \n",
    "    Args:\n",
    "        X (pandas dataframe) : dataframe to split up\n",
    "        target (pandas series) : target data\n",
    "        \n",
    "    Return:\n",
    "        X_test (pandas dataframe) : test data\n",
    "        X_train (pandas dataframe) : train data\n",
    "    \"\"\"\n",
    "    X_train = X.iloc[:len(target), :]\n",
    "    X_test = X.iloc[len(target):, :]\n",
    "    return X_train, X_test"
   ]
  },
  {
   "cell_type": "markdown",
   "id": "61c4fd1e",
   "metadata": {
    "papermill": {
     "duration": 0.007264,
     "end_time": "2023-02-04T13:48:00.230295",
     "exception": false,
     "start_time": "2023-02-04T13:48:00.223031",
     "status": "completed"
    },
    "tags": []
   },
   "source": [
    "## Missing values"
   ]
  },
  {
   "cell_type": "code",
   "execution_count": 11,
   "id": "c9a56dd3",
   "metadata": {
    "execution": {
     "iopub.execute_input": "2023-02-04T13:48:00.249867Z",
     "iopub.status.busy": "2023-02-04T13:48:00.248753Z",
     "iopub.status.idle": "2023-02-04T13:48:00.278572Z",
     "shell.execute_reply": "2023-02-04T13:48:00.277500Z"
    },
    "papermill": {
     "duration": 0.042471,
     "end_time": "2023-02-04T13:48:00.281173",
     "exception": false,
     "start_time": "2023-02-04T13:48:00.238702",
     "status": "completed"
    },
    "tags": []
   },
   "outputs": [
    {
     "data": {
      "text/html": [
       "<div>\n",
       "<style scoped>\n",
       "    .dataframe tbody tr th:only-of-type {\n",
       "        vertical-align: middle;\n",
       "    }\n",
       "\n",
       "    .dataframe tbody tr th {\n",
       "        vertical-align: top;\n",
       "    }\n",
       "\n",
       "    .dataframe thead th {\n",
       "        text-align: right;\n",
       "    }\n",
       "</style>\n",
       "<table border=\"1\" class=\"dataframe\">\n",
       "  <thead>\n",
       "    <tr style=\"text-align: right;\">\n",
       "      <th></th>\n",
       "      <th>zeros</th>\n",
       "      <th>np.nan</th>\n",
       "      <th>None</th>\n",
       "      <th>total</th>\n",
       "      <th>Percent</th>\n",
       "      <th>Type</th>\n",
       "    </tr>\n",
       "    <tr>\n",
       "      <th>Feature</th>\n",
       "      <th></th>\n",
       "      <th></th>\n",
       "      <th></th>\n",
       "      <th></th>\n",
       "      <th></th>\n",
       "      <th></th>\n",
       "    </tr>\n",
       "  </thead>\n",
       "  <tbody>\n",
       "    <tr>\n",
       "      <th>Cabin</th>\n",
       "      <td>0</td>\n",
       "      <td>1014</td>\n",
       "      <td>0</td>\n",
       "      <td>1014</td>\n",
       "      <td>77.463713</td>\n",
       "      <td>object</td>\n",
       "    </tr>\n",
       "    <tr>\n",
       "      <th>Parch</th>\n",
       "      <td>1002</td>\n",
       "      <td>0</td>\n",
       "      <td>0</td>\n",
       "      <td>1002</td>\n",
       "      <td>76.546982</td>\n",
       "      <td>int64</td>\n",
       "    </tr>\n",
       "    <tr>\n",
       "      <th>SibSp</th>\n",
       "      <td>891</td>\n",
       "      <td>0</td>\n",
       "      <td>0</td>\n",
       "      <td>891</td>\n",
       "      <td>68.067227</td>\n",
       "      <td>int64</td>\n",
       "    </tr>\n",
       "    <tr>\n",
       "      <th>Age</th>\n",
       "      <td>0</td>\n",
       "      <td>263</td>\n",
       "      <td>0</td>\n",
       "      <td>263</td>\n",
       "      <td>20.091673</td>\n",
       "      <td>float64</td>\n",
       "    </tr>\n",
       "    <tr>\n",
       "      <th>Fare</th>\n",
       "      <td>17</td>\n",
       "      <td>1</td>\n",
       "      <td>0</td>\n",
       "      <td>18</td>\n",
       "      <td>1.375095</td>\n",
       "      <td>float64</td>\n",
       "    </tr>\n",
       "    <tr>\n",
       "      <th>Embarked</th>\n",
       "      <td>0</td>\n",
       "      <td>2</td>\n",
       "      <td>0</td>\n",
       "      <td>2</td>\n",
       "      <td>0.152788</td>\n",
       "      <td>object</td>\n",
       "    </tr>\n",
       "    <tr>\n",
       "      <th>Pclass</th>\n",
       "      <td>0</td>\n",
       "      <td>0</td>\n",
       "      <td>0</td>\n",
       "      <td>0</td>\n",
       "      <td>0.000000</td>\n",
       "      <td>int64</td>\n",
       "    </tr>\n",
       "    <tr>\n",
       "      <th>Name</th>\n",
       "      <td>0</td>\n",
       "      <td>0</td>\n",
       "      <td>0</td>\n",
       "      <td>0</td>\n",
       "      <td>0.000000</td>\n",
       "      <td>object</td>\n",
       "    </tr>\n",
       "    <tr>\n",
       "      <th>Sex</th>\n",
       "      <td>0</td>\n",
       "      <td>0</td>\n",
       "      <td>0</td>\n",
       "      <td>0</td>\n",
       "      <td>0.000000</td>\n",
       "      <td>object</td>\n",
       "    </tr>\n",
       "    <tr>\n",
       "      <th>Ticket</th>\n",
       "      <td>0</td>\n",
       "      <td>0</td>\n",
       "      <td>0</td>\n",
       "      <td>0</td>\n",
       "      <td>0.000000</td>\n",
       "      <td>object</td>\n",
       "    </tr>\n",
       "  </tbody>\n",
       "</table>\n",
       "</div>"
      ],
      "text/plain": [
       "          zeros  np.nan  None  total    Percent     Type\n",
       "Feature                                                 \n",
       "Cabin         0    1014     0   1014  77.463713   object\n",
       "Parch      1002       0     0   1002  76.546982    int64\n",
       "SibSp       891       0     0    891  68.067227    int64\n",
       "Age           0     263     0    263  20.091673  float64\n",
       "Fare         17       1     0     18   1.375095  float64\n",
       "Embarked      0       2     0      2   0.152788   object\n",
       "Pclass        0       0     0      0   0.000000    int64\n",
       "Name          0       0     0      0   0.000000   object\n",
       "Sex           0       0     0      0   0.000000   object\n",
       "Ticket        0       0     0      0   0.000000   object"
      ]
     },
     "execution_count": 11,
     "metadata": {},
     "output_type": "execute_result"
    }
   ],
   "source": [
    "def percent_missing(data):\n",
    "    \"\"\"\n",
    "    Characterise missing data in a dataframe\n",
    "    \n",
    "    Args:\n",
    "        df (pandas dataframe) : dataframe we want to inspect\n",
    "    \n",
    "    Returns:\n",
    "        miss_df()\n",
    "    \"\"\"\n",
    "    miss_df = ((data == 0).sum()).to_frame()\n",
    "    miss_df = miss_df.rename(columns = {0: 'zeros'})\n",
    "    miss_df.index.name = 'Feature'\n",
    "    miss_df['np.nan'] = (data.isnull()).sum()\n",
    "    miss_df['None'] = (data == \"None\").sum()\n",
    "    miss_df['total'] = miss_df['zeros'] + miss_df['np.nan'] + miss_df['None']\n",
    "    miss_df['Percent'] = 100*miss_df['total']/len(data)\n",
    "    miss_df['Type'] = [data[i].dtype for i in miss_df.index ]\n",
    "    return miss_df.sort_values(ascending = False, by = 'Percent')\n",
    "\n",
    "miss_all = percent_missing(X)\n",
    "miss_all"
   ]
  },
  {
   "cell_type": "code",
   "execution_count": 12,
   "id": "e2ccbd93",
   "metadata": {
    "execution": {
     "iopub.execute_input": "2023-02-04T13:48:00.298770Z",
     "iopub.status.busy": "2023-02-04T13:48:00.297637Z",
     "iopub.status.idle": "2023-02-04T13:48:00.335174Z",
     "shell.execute_reply": "2023-02-04T13:48:00.333894Z"
    },
    "papermill": {
     "duration": 0.049419,
     "end_time": "2023-02-04T13:48:00.338124",
     "exception": false,
     "start_time": "2023-02-04T13:48:00.288705",
     "status": "completed"
    },
    "tags": []
   },
   "outputs": [],
   "source": [
    "def handle_missing(X):    \n",
    "    # drop useless columns\n",
    "    X.drop([\"Ticket\", \"Name\", \"Cabin\"], axis = 1, inplace = True)\n",
    "\n",
    "    # fill median after group transform\n",
    "    X['Age'] = X.groupby(['Pclass','Sex'])['Age'].transform(lambda x: x.fillna(x.median()))\n",
    "    X['Fare'] = X.groupby(['Pclass','Sex'])['Fare'].transform(lambda x: x.fillna(x.median()))\n",
    "    X[\"Embarked\"] = X.groupby([\"Pclass\", \"Sex\"])[\"Embarked\"].transform(lambda x: x.fillna(x.mode()[0]))\n",
    "\n",
    "    # encode categorical\n",
    "    X['Sex'].replace({'male':0, 'female':1}, inplace=True)\n",
    "    X['Embarked'].replace({'S':0, 'C':1, 'Q':2}, inplace=True)\n",
    "    \n",
    "    return X\n",
    "\n",
    "X = handle_missing(X)"
   ]
  },
  {
   "cell_type": "code",
   "execution_count": 13,
   "id": "53dfd931",
   "metadata": {
    "execution": {
     "iopub.execute_input": "2023-02-04T13:48:00.356071Z",
     "iopub.status.busy": "2023-02-04T13:48:00.355565Z",
     "iopub.status.idle": "2023-02-04T13:48:00.378147Z",
     "shell.execute_reply": "2023-02-04T13:48:00.376983Z"
    },
    "papermill": {
     "duration": 0.034504,
     "end_time": "2023-02-04T13:48:00.380689",
     "exception": false,
     "start_time": "2023-02-04T13:48:00.346185",
     "status": "completed"
    },
    "tags": []
   },
   "outputs": [
    {
     "data": {
      "text/html": [
       "<div>\n",
       "<style scoped>\n",
       "    .dataframe tbody tr th:only-of-type {\n",
       "        vertical-align: middle;\n",
       "    }\n",
       "\n",
       "    .dataframe tbody tr th {\n",
       "        vertical-align: top;\n",
       "    }\n",
       "\n",
       "    .dataframe thead th {\n",
       "        text-align: right;\n",
       "    }\n",
       "</style>\n",
       "<table border=\"1\" class=\"dataframe\">\n",
       "  <thead>\n",
       "    <tr style=\"text-align: right;\">\n",
       "      <th></th>\n",
       "      <th>zeros</th>\n",
       "      <th>np.nan</th>\n",
       "      <th>None</th>\n",
       "      <th>total</th>\n",
       "      <th>Percent</th>\n",
       "      <th>Type</th>\n",
       "    </tr>\n",
       "    <tr>\n",
       "      <th>Feature</th>\n",
       "      <th></th>\n",
       "      <th></th>\n",
       "      <th></th>\n",
       "      <th></th>\n",
       "      <th></th>\n",
       "      <th></th>\n",
       "    </tr>\n",
       "  </thead>\n",
       "  <tbody>\n",
       "    <tr>\n",
       "      <th>Parch</th>\n",
       "      <td>1002</td>\n",
       "      <td>0</td>\n",
       "      <td>0</td>\n",
       "      <td>1002</td>\n",
       "      <td>76.546982</td>\n",
       "      <td>int64</td>\n",
       "    </tr>\n",
       "    <tr>\n",
       "      <th>Embarked</th>\n",
       "      <td>914</td>\n",
       "      <td>0</td>\n",
       "      <td>0</td>\n",
       "      <td>914</td>\n",
       "      <td>69.824293</td>\n",
       "      <td>int64</td>\n",
       "    </tr>\n",
       "    <tr>\n",
       "      <th>SibSp</th>\n",
       "      <td>891</td>\n",
       "      <td>0</td>\n",
       "      <td>0</td>\n",
       "      <td>891</td>\n",
       "      <td>68.067227</td>\n",
       "      <td>int64</td>\n",
       "    </tr>\n",
       "    <tr>\n",
       "      <th>Sex</th>\n",
       "      <td>843</td>\n",
       "      <td>0</td>\n",
       "      <td>0</td>\n",
       "      <td>843</td>\n",
       "      <td>64.400306</td>\n",
       "      <td>int64</td>\n",
       "    </tr>\n",
       "    <tr>\n",
       "      <th>Fare</th>\n",
       "      <td>17</td>\n",
       "      <td>0</td>\n",
       "      <td>0</td>\n",
       "      <td>17</td>\n",
       "      <td>1.298701</td>\n",
       "      <td>float64</td>\n",
       "    </tr>\n",
       "    <tr>\n",
       "      <th>Pclass</th>\n",
       "      <td>0</td>\n",
       "      <td>0</td>\n",
       "      <td>0</td>\n",
       "      <td>0</td>\n",
       "      <td>0.000000</td>\n",
       "      <td>int64</td>\n",
       "    </tr>\n",
       "    <tr>\n",
       "      <th>Age</th>\n",
       "      <td>0</td>\n",
       "      <td>0</td>\n",
       "      <td>0</td>\n",
       "      <td>0</td>\n",
       "      <td>0.000000</td>\n",
       "      <td>float64</td>\n",
       "    </tr>\n",
       "  </tbody>\n",
       "</table>\n",
       "</div>"
      ],
      "text/plain": [
       "          zeros  np.nan  None  total    Percent     Type\n",
       "Feature                                                 \n",
       "Parch      1002       0     0   1002  76.546982    int64\n",
       "Embarked    914       0     0    914  69.824293    int64\n",
       "SibSp       891       0     0    891  68.067227    int64\n",
       "Sex         843       0     0    843  64.400306    int64\n",
       "Fare         17       0     0     17   1.298701  float64\n",
       "Pclass        0       0     0      0   0.000000    int64\n",
       "Age           0       0     0      0   0.000000  float64"
      ]
     },
     "execution_count": 13,
     "metadata": {},
     "output_type": "execute_result"
    }
   ],
   "source": [
    "miss_all = percent_missing(X)\n",
    "miss_all"
   ]
  },
  {
   "cell_type": "code",
   "execution_count": 14,
   "id": "489c284f",
   "metadata": {
    "execution": {
     "iopub.execute_input": "2023-02-04T13:48:00.399933Z",
     "iopub.status.busy": "2023-02-04T13:48:00.399456Z",
     "iopub.status.idle": "2023-02-04T13:48:00.412860Z",
     "shell.execute_reply": "2023-02-04T13:48:00.411810Z"
    },
    "papermill": {
     "duration": 0.026505,
     "end_time": "2023-02-04T13:48:00.415474",
     "exception": false,
     "start_time": "2023-02-04T13:48:00.388969",
     "status": "completed"
    },
    "tags": []
   },
   "outputs": [
    {
     "data": {
      "text/html": [
       "<div>\n",
       "<style scoped>\n",
       "    .dataframe tbody tr th:only-of-type {\n",
       "        vertical-align: middle;\n",
       "    }\n",
       "\n",
       "    .dataframe tbody tr th {\n",
       "        vertical-align: top;\n",
       "    }\n",
       "\n",
       "    .dataframe thead th {\n",
       "        text-align: right;\n",
       "    }\n",
       "</style>\n",
       "<table border=\"1\" class=\"dataframe\">\n",
       "  <thead>\n",
       "    <tr style=\"text-align: right;\">\n",
       "      <th></th>\n",
       "      <th>Pclass</th>\n",
       "      <th>Sex</th>\n",
       "      <th>Age</th>\n",
       "      <th>SibSp</th>\n",
       "      <th>Parch</th>\n",
       "      <th>Fare</th>\n",
       "      <th>Embarked</th>\n",
       "    </tr>\n",
       "  </thead>\n",
       "  <tbody>\n",
       "    <tr>\n",
       "      <th>0</th>\n",
       "      <td>3</td>\n",
       "      <td>0</td>\n",
       "      <td>22.0</td>\n",
       "      <td>1</td>\n",
       "      <td>0</td>\n",
       "      <td>7.2500</td>\n",
       "      <td>0</td>\n",
       "    </tr>\n",
       "    <tr>\n",
       "      <th>1</th>\n",
       "      <td>1</td>\n",
       "      <td>1</td>\n",
       "      <td>38.0</td>\n",
       "      <td>1</td>\n",
       "      <td>0</td>\n",
       "      <td>71.2833</td>\n",
       "      <td>1</td>\n",
       "    </tr>\n",
       "    <tr>\n",
       "      <th>2</th>\n",
       "      <td>3</td>\n",
       "      <td>1</td>\n",
       "      <td>26.0</td>\n",
       "      <td>0</td>\n",
       "      <td>0</td>\n",
       "      <td>7.9250</td>\n",
       "      <td>0</td>\n",
       "    </tr>\n",
       "    <tr>\n",
       "      <th>3</th>\n",
       "      <td>1</td>\n",
       "      <td>1</td>\n",
       "      <td>35.0</td>\n",
       "      <td>1</td>\n",
       "      <td>0</td>\n",
       "      <td>53.1000</td>\n",
       "      <td>0</td>\n",
       "    </tr>\n",
       "    <tr>\n",
       "      <th>4</th>\n",
       "      <td>3</td>\n",
       "      <td>0</td>\n",
       "      <td>35.0</td>\n",
       "      <td>0</td>\n",
       "      <td>0</td>\n",
       "      <td>8.0500</td>\n",
       "      <td>0</td>\n",
       "    </tr>\n",
       "  </tbody>\n",
       "</table>\n",
       "</div>"
      ],
      "text/plain": [
       "   Pclass  Sex   Age  SibSp  Parch     Fare  Embarked\n",
       "0       3    0  22.0      1      0   7.2500         0\n",
       "1       1    1  38.0      1      0  71.2833         1\n",
       "2       3    1  26.0      0      0   7.9250         0\n",
       "3       1    1  35.0      1      0  53.1000         0\n",
       "4       3    0  35.0      0      0   8.0500         0"
      ]
     },
     "execution_count": 14,
     "metadata": {},
     "output_type": "execute_result"
    }
   ],
   "source": [
    "X.head()"
   ]
  },
  {
   "cell_type": "markdown",
   "id": "a65bbe30",
   "metadata": {
    "papermill": {
     "duration": 0.007999,
     "end_time": "2023-02-04T13:48:00.431884",
     "exception": false,
     "start_time": "2023-02-04T13:48:00.423885",
     "status": "completed"
    },
    "tags": []
   },
   "source": [
    "## Modelling"
   ]
  },
  {
   "cell_type": "code",
   "execution_count": 15,
   "id": "03160746",
   "metadata": {
    "execution": {
     "iopub.execute_input": "2023-02-04T13:48:00.450282Z",
     "iopub.status.busy": "2023-02-04T13:48:00.449795Z",
     "iopub.status.idle": "2023-02-04T13:48:00.457600Z",
     "shell.execute_reply": "2023-02-04T13:48:00.456541Z"
    },
    "papermill": {
     "duration": 0.020363,
     "end_time": "2023-02-04T13:48:00.460238",
     "exception": false,
     "start_time": "2023-02-04T13:48:00.439875",
     "status": "completed"
    },
    "tags": []
   },
   "outputs": [
    {
     "data": {
      "text/plain": [
       "((891, 7), (418, 7), (891,))"
      ]
     },
     "execution_count": 15,
     "metadata": {},
     "output_type": "execute_result"
    }
   ],
   "source": [
    "# decouple the train and test data\n",
    "train, test = split_train_and_test(X, target)\n",
    "train.shape, test.shape, target.shape"
   ]
  },
  {
   "cell_type": "code",
   "execution_count": 16,
   "id": "d976aee3",
   "metadata": {
    "execution": {
     "iopub.execute_input": "2023-02-04T13:48:00.479571Z",
     "iopub.status.busy": "2023-02-04T13:48:00.479111Z",
     "iopub.status.idle": "2023-02-04T13:48:00.487147Z",
     "shell.execute_reply": "2023-02-04T13:48:00.486246Z"
    },
    "papermill": {
     "duration": 0.020589,
     "end_time": "2023-02-04T13:48:00.489237",
     "exception": false,
     "start_time": "2023-02-04T13:48:00.468648",
     "status": "completed"
    },
    "tags": []
   },
   "outputs": [],
   "source": [
    "X_train, X_val, y_train, y_val = train_test_split(train, target, test_size=0.2, random_state=42)"
   ]
  },
  {
   "cell_type": "code",
   "execution_count": 17,
   "id": "5ff30390",
   "metadata": {
    "execution": {
     "iopub.execute_input": "2023-02-04T13:48:00.508195Z",
     "iopub.status.busy": "2023-02-04T13:48:00.507693Z",
     "iopub.status.idle": "2023-02-04T13:48:00.513323Z",
     "shell.execute_reply": "2023-02-04T13:48:00.512283Z"
    },
    "papermill": {
     "duration": 0.018094,
     "end_time": "2023-02-04T13:48:00.515614",
     "exception": false,
     "start_time": "2023-02-04T13:48:00.497520",
     "status": "completed"
    },
    "tags": []
   },
   "outputs": [],
   "source": [
    "def score(model, X_train, y_train, X_val, y_val):\n",
    "    model.fit(X_train, y_train)\n",
    "    prediction = model.predict(X_val)\n",
    "    return accuracy_score(y_val, prediction)"
   ]
  },
  {
   "cell_type": "code",
   "execution_count": 18,
   "id": "71988f21",
   "metadata": {
    "execution": {
     "iopub.execute_input": "2023-02-04T13:48:00.534516Z",
     "iopub.status.busy": "2023-02-04T13:48:00.534052Z",
     "iopub.status.idle": "2023-02-04T13:48:00.899015Z",
     "shell.execute_reply": "2023-02-04T13:48:00.897690Z"
    },
    "papermill": {
     "duration": 0.378151,
     "end_time": "2023-02-04T13:48:00.901993",
     "exception": false,
     "start_time": "2023-02-04T13:48:00.523842",
     "status": "completed"
    },
    "tags": []
   },
   "outputs": [
    {
     "name": "stdout",
     "output_type": "stream",
     "text": [
      "Model  0 : LogisticRegression(random_state=42, solver='liblinear')\n",
      "ACC:  0.8044692737430168\n",
      "Model  1 : GradientBoostingClassifier()\n",
      "ACC:  0.8156424581005587\n",
      "Model  2 : RandomForestClassifier()\n",
      "ACC:  0.8156424581005587\n",
      "Model  3 : SGDClassifier()\n",
      "ACC:  0.7653631284916201\n",
      "Model  4 : SVC()\n",
      "ACC:  0.6536312849162011\n"
     ]
    }
   ],
   "source": [
    "#Lets some models\n",
    "model1 = LogisticRegression(solver='liblinear', random_state=42)\n",
    "model2 = GradientBoostingClassifier()\n",
    "model3 = RandomForestClassifier()\n",
    "model4 = SGDClassifier()\n",
    "model5 = SVC()\n",
    "\n",
    "models = [model1, model2, model3, model4, model5]\n",
    "for i, model in enumerate(models):\n",
    "    print(\"Model \", i,\":\", model)\n",
    "    print(\"ACC: \", score(model, X_train, y_train, X_val, y_val))"
   ]
  },
  {
   "cell_type": "code",
   "execution_count": 19,
   "id": "b0f781c9",
   "metadata": {
    "execution": {
     "iopub.execute_input": "2023-02-04T13:48:00.921191Z",
     "iopub.status.busy": "2023-02-04T13:48:00.920713Z",
     "iopub.status.idle": "2023-02-04T13:48:01.031395Z",
     "shell.execute_reply": "2023-02-04T13:48:01.030314Z"
    },
    "papermill": {
     "duration": 0.123336,
     "end_time": "2023-02-04T13:48:01.034026",
     "exception": false,
     "start_time": "2023-02-04T13:48:00.910690",
     "status": "completed"
    },
    "tags": []
   },
   "outputs": [
    {
     "data": {
      "text/plain": [
       "0.8100558659217877"
      ]
     },
     "execution_count": 19,
     "metadata": {},
     "output_type": "execute_result"
    }
   ],
   "source": [
    "model = GradientBoostingClassifier(min_samples_split=20, min_samples_leaf=60, max_depth=3, max_features=7)\n",
    "score(model, X_train, y_train, X_val, y_val)"
   ]
  },
  {
   "cell_type": "code",
   "execution_count": 20,
   "id": "728875d0",
   "metadata": {
    "execution": {
     "iopub.execute_input": "2023-02-04T13:48:01.055254Z",
     "iopub.status.busy": "2023-02-04T13:48:01.054428Z",
     "iopub.status.idle": "2023-02-04T13:48:01.076525Z",
     "shell.execute_reply": "2023-02-04T13:48:01.074886Z"
    },
    "papermill": {
     "duration": 0.036212,
     "end_time": "2023-02-04T13:48:01.079409",
     "exception": false,
     "start_time": "2023-02-04T13:48:01.043197",
     "status": "completed"
    },
    "tags": []
   },
   "outputs": [
    {
     "name": "stdout",
     "output_type": "stream",
     "text": [
      "Your submission was successfully saved!\n"
     ]
    }
   ],
   "source": [
    "predictions = model2.predict(test)\n",
    "test = pd.read_csv('/kaggle/input/titanic/test.csv')\n",
    "output = pd.DataFrame({'PassengerId': test[\"PassengerId\"], 'Survived': predictions})\n",
    "output.to_csv('my_submission.csv', index=False)\n",
    "print(\"Your submission was successfully saved!\")"
   ]
  },
  {
   "cell_type": "code",
   "execution_count": 21,
   "id": "3174d7d8",
   "metadata": {
    "execution": {
     "iopub.execute_input": "2023-02-04T13:48:01.100919Z",
     "iopub.status.busy": "2023-02-04T13:48:01.099629Z",
     "iopub.status.idle": "2023-02-04T13:48:01.110952Z",
     "shell.execute_reply": "2023-02-04T13:48:01.109782Z"
    },
    "papermill": {
     "duration": 0.024252,
     "end_time": "2023-02-04T13:48:01.113263",
     "exception": false,
     "start_time": "2023-02-04T13:48:01.089011",
     "status": "completed"
    },
    "tags": []
   },
   "outputs": [
    {
     "data": {
      "text/html": [
       "<div>\n",
       "<style scoped>\n",
       "    .dataframe tbody tr th:only-of-type {\n",
       "        vertical-align: middle;\n",
       "    }\n",
       "\n",
       "    .dataframe tbody tr th {\n",
       "        vertical-align: top;\n",
       "    }\n",
       "\n",
       "    .dataframe thead th {\n",
       "        text-align: right;\n",
       "    }\n",
       "</style>\n",
       "<table border=\"1\" class=\"dataframe\">\n",
       "  <thead>\n",
       "    <tr style=\"text-align: right;\">\n",
       "      <th></th>\n",
       "      <th>PassengerId</th>\n",
       "      <th>Survived</th>\n",
       "    </tr>\n",
       "  </thead>\n",
       "  <tbody>\n",
       "    <tr>\n",
       "      <th>0</th>\n",
       "      <td>892</td>\n",
       "      <td>0</td>\n",
       "    </tr>\n",
       "    <tr>\n",
       "      <th>1</th>\n",
       "      <td>893</td>\n",
       "      <td>0</td>\n",
       "    </tr>\n",
       "    <tr>\n",
       "      <th>2</th>\n",
       "      <td>894</td>\n",
       "      <td>0</td>\n",
       "    </tr>\n",
       "    <tr>\n",
       "      <th>3</th>\n",
       "      <td>895</td>\n",
       "      <td>0</td>\n",
       "    </tr>\n",
       "    <tr>\n",
       "      <th>4</th>\n",
       "      <td>896</td>\n",
       "      <td>0</td>\n",
       "    </tr>\n",
       "  </tbody>\n",
       "</table>\n",
       "</div>"
      ],
      "text/plain": [
       "   PassengerId  Survived\n",
       "0          892         0\n",
       "1          893         0\n",
       "2          894         0\n",
       "3          895         0\n",
       "4          896         0"
      ]
     },
     "execution_count": 21,
     "metadata": {},
     "output_type": "execute_result"
    }
   ],
   "source": [
    "output.head()"
   ]
  }
 ],
 "metadata": {
  "kernelspec": {
   "display_name": "Python 3",
   "language": "python",
   "name": "python3"
  },
  "language_info": {
   "codemirror_mode": {
    "name": "ipython",
    "version": 3
   },
   "file_extension": ".py",
   "mimetype": "text/x-python",
   "name": "python",
   "nbconvert_exporter": "python",
   "pygments_lexer": "ipython3",
   "version": "3.7.12"
  },
  "papermill": {
   "default_parameters": {},
   "duration": 12.577912,
   "end_time": "2023-02-04T13:48:02.146027",
   "environment_variables": {},
   "exception": null,
   "input_path": "__notebook__.ipynb",
   "output_path": "__notebook__.ipynb",
   "parameters": {},
   "start_time": "2023-02-04T13:47:49.568115",
   "version": "2.3.4"
  }
 },
 "nbformat": 4,
 "nbformat_minor": 5
}
