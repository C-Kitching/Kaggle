{
 "cells": [
  {
   "cell_type": "code",
   "execution_count": 1,
   "id": "eda0d0b9",
   "metadata": {
    "_cell_guid": "b1076dfc-b9ad-4769-8c92-a6c4dae69d19",
    "_uuid": "8f2839f25d086af736a60e9eeb907d3b93b6e0e5",
    "execution": {
     "iopub.execute_input": "2023-01-28T13:24:29.595481Z",
     "iopub.status.busy": "2023-01-28T13:24:29.594989Z",
     "iopub.status.idle": "2023-01-28T13:24:29.607011Z",
     "shell.execute_reply": "2023-01-28T13:24:29.605954Z"
    },
    "papermill": {
     "duration": 0.022217,
     "end_time": "2023-01-28T13:24:29.609680",
     "exception": false,
     "start_time": "2023-01-28T13:24:29.587463",
     "status": "completed"
    },
    "tags": []
   },
   "outputs": [],
   "source": [
    "import os\n",
    "import glob\n",
    "import numpy as np\n",
    "import pandas as pd\n",
    "import gc\n",
    "import time\n",
    "PATH_DATASET = \"/kaggle/input/icecube-neutrinos-in-deep-ice\"\n",
    "DATA_DIR=PATH_DATASET"
   ]
  },
  {
   "cell_type": "markdown",
   "id": "e29ae74e",
   "metadata": {
    "papermill": {
     "duration": 0.004023,
     "end_time": "2023-01-28T13:24:29.618197",
     "exception": false,
     "start_time": "2023-01-28T13:24:29.614174",
     "status": "completed"
    },
    "tags": []
   },
   "source": [
    "Starting with @jirkborovec's excellent notebook, we will modify the direction computation to take into account the time of the sensor detects.\n",
    "\n",
    "A separate discussion topic (TBD) will give the derivation of the formula, which is as follows.  It is called the Line-fit method.\n",
    "We assume that the particle is following the path $pos = r + v * t$ where $v$ is the velocity and $r$ is the reference position at time 0.\n",
    "\n",
    "Let $\\langle x \\rangle$ be the average value of the quantity $x$, and \n",
    "    $ti$=vector of times of our measurements, and $ri$=vector of sensor positions (x,y,z)\n",
    "    \n",
    "Then \n",
    "    \n",
    "$$v_{est} = \\frac{ \\langle ri * ti \\rangle -  \\langle r \\rangle * \\langle t \\rangle}{\\langle t^2 \\rangle - \\langle t \\rangle ^2}$$\n",
    "    \n",
    "where $v_{est}$ is the estimated velocity vector of the charged particle, which we assume has the same\n",
    "    trajectory as the neutrino that generated it.\n",
    "\n",
    "References:  \n",
    "1. Mirco Hunnefield Masters Thesis, *Online Reconstruction of Muon-Neutrino Events in IceCube using Deep Learning Techniques*\n",
    "2. Kai Schatto, PhD Thesis, *Stacked searches for high-energy\n",
    "neutrinos from blazars with IceCube*\n"
   ]
  },
  {
   "cell_type": "code",
   "execution_count": 2,
   "id": "37c6744a",
   "metadata": {
    "_kg_hide-output": true,
    "execution": {
     "iopub.execute_input": "2023-01-28T13:24:29.629541Z",
     "iopub.status.busy": "2023-01-28T13:24:29.628123Z",
     "iopub.status.idle": "2023-01-28T13:24:29.676964Z",
     "shell.execute_reply": "2023-01-28T13:24:29.675470Z"
    },
    "papermill": {
     "duration": 0.058022,
     "end_time": "2023-01-28T13:24:29.680550",
     "exception": false,
     "start_time": "2023-01-28T13:24:29.622528",
     "status": "completed"
    },
    "tags": []
   },
   "outputs": [
    {
     "name": "stdout",
     "output_type": "stream",
     "text": [
      "<class 'pandas.core.frame.DataFrame'>\n",
      "Int64Index: 5160 entries, 0 to 5159\n",
      "Data columns (total 3 columns):\n",
      " #   Column  Non-Null Count  Dtype  \n",
      "---  ------  --------------  -----  \n",
      " 0   x       5160 non-null   float32\n",
      " 1   y       5160 non-null   float32\n",
      " 2   z       5160 non-null   float32\n",
      "dtypes: float32(3)\n",
      "memory usage: 100.8 KB\n"
     ]
    }
   ],
   "source": [
    "geometry = pd.read_csv(os.path.join(DATA_DIR, \"sensor_geometry.csv\"))\n",
    "geometry.set_index(\"sensor_id\", inplace=True)\n",
    "geometry = geometry.apply(np.float32)\n",
    "geometry.info()"
   ]
  },
  {
   "cell_type": "code",
   "execution_count": 3,
   "id": "830a318c",
   "metadata": {
    "_kg_hide-output": true,
    "execution": {
     "iopub.execute_input": "2023-01-28T13:24:29.690824Z",
     "iopub.status.busy": "2023-01-28T13:24:29.690417Z",
     "iopub.status.idle": "2023-01-28T13:24:29.695981Z",
     "shell.execute_reply": "2023-01-28T13:24:29.694557Z"
    },
    "papermill": {
     "duration": 0.013649,
     "end_time": "2023-01-28T13:24:29.698544",
     "exception": false,
     "start_time": "2023-01-28T13:24:29.684895",
     "status": "completed"
    },
    "tags": []
   },
   "outputs": [],
   "source": [
    "#! pip install -q scikit-spatial --no-index -f /kaggle/input/icecube-neutrino-eda-3d-interactive-viewer/frozen-packages/"
   ]
  },
  {
   "cell_type": "code",
   "execution_count": 4,
   "id": "3d232902",
   "metadata": {
    "execution": {
     "iopub.execute_input": "2023-01-28T13:24:29.708831Z",
     "iopub.status.busy": "2023-01-28T13:24:29.708382Z",
     "iopub.status.idle": "2023-01-28T13:24:29.718696Z",
     "shell.execute_reply": "2023-01-28T13:24:29.717307Z"
    },
    "papermill": {
     "duration": 0.018754,
     "end_time": "2023-01-28T13:24:29.721487",
     "exception": false,
     "start_time": "2023-01-28T13:24:29.702733",
     "status": "completed"
    },
    "tags": []
   },
   "outputs": [],
   "source": [
    "import math\n",
    "import warnings\n",
    "warnings.filterwarnings('ignore')\n",
    "\n",
    "def cartesian_to_sphere(x, y, z):\n",
    "    # https://en.wikipedia.org/wiki/Spherical_coordinate_system\n",
    "    x2y2 = x**2 + y**2\n",
    "    r = math.sqrt(x2y2 + z**2)\n",
    "    azimuth = math.acos(x / math.sqrt(x2y2)) * np.sign(y)\n",
    "    zenith = math.acos(z / r)\n",
    "    return azimuth, zenith\n",
    "\n",
    "def adjust_sphere(azimuth, zenith):\n",
    "    if zenith < 0:\n",
    "        zenith += math.pi\n",
    "        azimuth += math.pi\n",
    "    if azimuth < 0:\n",
    "        azimuth += math.pi * 2\n",
    "    azimuth = azimuth % (2 * math.pi)\n",
    "    return azimuth, zenith\n",
    "\n",
    "def sphere_to_cartesian(azimuth, zenith):\n",
    "    # see: https://stackoverflow.com/a/10868220/4521646\n",
    "    x = math.cos(azimuth) * math.sin(zenith)\n",
    "    y = math.sin(azimuth) * math.sin(zenith)\n",
    "    z = math.cos(zenith)\n",
    "    return x, y, z"
   ]
  },
  {
   "cell_type": "markdown",
   "id": "ee18652c",
   "metadata": {
    "papermill": {
     "duration": 0.003845,
     "end_time": "2023-01-28T13:24:29.729561",
     "exception": false,
     "start_time": "2023-01-28T13:24:29.725716",
     "status": "completed"
    },
    "tags": []
   },
   "source": [
    "**Here is our function implementing the above Line-fit method**"
   ]
  },
  {
   "cell_type": "code",
   "execution_count": 5,
   "id": "f0517e06",
   "metadata": {
    "execution": {
     "iopub.execute_input": "2023-01-28T13:24:29.740411Z",
     "iopub.status.busy": "2023-01-28T13:24:29.739184Z",
     "iopub.status.idle": "2023-01-28T13:24:29.747399Z",
     "shell.execute_reply": "2023-01-28T13:24:29.746334Z"
    },
    "papermill": {
     "duration": 0.016198,
     "end_time": "2023-01-28T13:24:29.749925",
     "exception": false,
     "start_time": "2023-01-28T13:24:29.733727",
     "status": "completed"
    },
    "tags": []
   },
   "outputs": [],
   "source": [
    "def compute_direction(r, t):\n",
    "    \"\"\"compute Line-fit using r vector and time vectors\n",
    "    return v_est and r_est \"\"\"\n",
    "    def avg(p):\n",
    "        if len(p.shape)==1:\n",
    "            p=p.reshape(-1,1)\n",
    "        return np.mean(p, axis=0)\n",
    "    #r + v*t is path of particle\n",
    "    q = avg(t**2)-avg(t)**2\n",
    "    v_est = (avg(r*t) - avg(r)*avg(t))/q\n",
    "    r_est = avg(r) - v_est*avg(t)\n",
    "    #v_est is the direction of travel\n",
    "    return v_est, r_est\n"
   ]
  },
  {
   "cell_type": "markdown",
   "id": "9bd082ec",
   "metadata": {
    "papermill": {
     "duration": 0.004035,
     "end_time": "2023-01-28T13:24:29.758069",
     "exception": false,
     "start_time": "2023-01-28T13:24:29.754034",
     "status": "completed"
    },
    "tags": []
   },
   "source": [
    "## Prepare submission¶\n",
    "\n",
    "An example submission with the correct columns and properly ordered event IDs. The sample submission is provided in the parquet format so it can be read quickly but your final submission must be a csv."
   ]
  },
  {
   "cell_type": "code",
   "execution_count": 6,
   "id": "78eed075",
   "metadata": {
    "_kg_hide-output": false,
    "execution": {
     "iopub.execute_input": "2023-01-28T13:24:29.769155Z",
     "iopub.status.busy": "2023-01-28T13:24:29.767881Z",
     "iopub.status.idle": "2023-01-28T13:24:29.912204Z",
     "shell.execute_reply": "2023-01-28T13:24:29.911348Z"
    },
    "papermill": {
     "duration": 0.152386,
     "end_time": "2023-01-28T13:24:29.914646",
     "exception": false,
     "start_time": "2023-01-28T13:24:29.762260",
     "status": "completed"
    },
    "tags": []
   },
   "outputs": [
    {
     "data": {
      "text/html": [
       "<div>\n",
       "<style scoped>\n",
       "    .dataframe tbody tr th:only-of-type {\n",
       "        vertical-align: middle;\n",
       "    }\n",
       "\n",
       "    .dataframe tbody tr th {\n",
       "        vertical-align: top;\n",
       "    }\n",
       "\n",
       "    .dataframe thead th {\n",
       "        text-align: right;\n",
       "    }\n",
       "</style>\n",
       "<table border=\"1\" class=\"dataframe\">\n",
       "  <thead>\n",
       "    <tr style=\"text-align: right;\">\n",
       "      <th></th>\n",
       "      <th>azimuth</th>\n",
       "      <th>zenith</th>\n",
       "    </tr>\n",
       "    <tr>\n",
       "      <th>event_id</th>\n",
       "      <th></th>\n",
       "      <th></th>\n",
       "    </tr>\n",
       "  </thead>\n",
       "  <tbody>\n",
       "    <tr>\n",
       "      <th>2092</th>\n",
       "      <td>1</td>\n",
       "      <td>1</td>\n",
       "    </tr>\n",
       "    <tr>\n",
       "      <th>7344</th>\n",
       "      <td>1</td>\n",
       "      <td>1</td>\n",
       "    </tr>\n",
       "    <tr>\n",
       "      <th>9482</th>\n",
       "      <td>1</td>\n",
       "      <td>1</td>\n",
       "    </tr>\n",
       "  </tbody>\n",
       "</table>\n",
       "</div>"
      ],
      "text/plain": [
       "          azimuth  zenith\n",
       "event_id                 \n",
       "2092            1       1\n",
       "7344            1       1\n",
       "9482            1       1"
      ]
     },
     "metadata": {},
     "output_type": "display_data"
    }
   ],
   "source": [
    "ssub = pd.read_parquet(os.path.join(PATH_DATASET, \"sample_submission.parquet\"))\n",
    "ssub.set_index(\"event_id\", inplace=True)\n",
    "display(ssub.head())"
   ]
  },
  {
   "cell_type": "code",
   "execution_count": 7,
   "id": "8db5b04b",
   "metadata": {
    "_kg_hide-output": true,
    "execution": {
     "iopub.execute_input": "2023-01-28T13:24:29.925844Z",
     "iopub.status.busy": "2023-01-28T13:24:29.925032Z",
     "iopub.status.idle": "2023-01-28T13:24:29.940958Z",
     "shell.execute_reply": "2023-01-28T13:24:29.939636Z"
    },
    "papermill": {
     "duration": 0.024743,
     "end_time": "2023-01-28T13:24:29.943911",
     "exception": false,
     "start_time": "2023-01-28T13:24:29.919168",
     "status": "completed"
    },
    "tags": []
   },
   "outputs": [
    {
     "name": "stdout",
     "output_type": "stream",
     "text": [
      "<class 'pandas.core.frame.DataFrame'>\n",
      "Index: 3 entries, 2092 to 9482\n",
      "Data columns (total 2 columns):\n",
      " #   Column   Non-Null Count  Dtype  \n",
      "---  ------   --------------  -----  \n",
      " 0   azimuth  3 non-null      float32\n",
      " 1   zenith   3 non-null      float32\n",
      "dtypes: float32(2)\n",
      "memory usage: 48.0+ bytes\n"
     ]
    },
    {
     "data": {
      "text/plain": [
       "None"
      ]
     },
     "metadata": {},
     "output_type": "display_data"
    }
   ],
   "source": [
    "ssub = ssub.apply(np.float32)\n",
    "display(ssub.info())"
   ]
  },
  {
   "cell_type": "markdown",
   "id": "b23ffc47",
   "metadata": {
    "papermill": {
     "duration": 0.004131,
     "end_time": "2023-01-28T13:24:29.952619",
     "exception": false,
     "start_time": "2023-01-28T13:24:29.948488",
     "status": "completed"
    },
    "tags": []
   },
   "source": [
    "### Fitting to all data"
   ]
  },
  {
   "cell_type": "code",
   "execution_count": 8,
   "id": "70c27ac4",
   "metadata": {
    "_kg_hide-output": true,
    "execution": {
     "iopub.execute_input": "2023-01-28T13:24:29.963736Z",
     "iopub.status.busy": "2023-01-28T13:24:29.962936Z",
     "iopub.status.idle": "2023-01-28T13:24:31.230453Z",
     "shell.execute_reply": "2023-01-28T13:24:31.229262Z"
    },
    "papermill": {
     "duration": 1.276413,
     "end_time": "2023-01-28T13:24:31.233414",
     "exception": false,
     "start_time": "2023-01-28T13:24:29.957001",
     "status": "completed"
    },
    "tags": []
   },
   "outputs": [
    {
     "name": "stdout",
     "output_type": "stream",
     "text": [
      "processing: /kaggle/input/icecube-neutrinos-in-deep-ice/test/batch_661.parquet\n",
      "Estimation event 2092 with azimuth=3.8157139100990816 & zenith=2.325573031281843\n",
      "Estimation event 7344 with azimuth=nan & zenith=3.141592653589793\n",
      "Estimation event 9482 with azimuth=4.345080034675934 & zenith=1.4038316968516735\n"
     ]
    }
   ],
   "source": [
    "ls = glob.glob(os.path.join(PATH_DATASET, \"test\", \"*.parquet\"))\n",
    "\n",
    "for batch_file in ls:\n",
    "    print(f\"processing: {batch_file}\")\n",
    "    df = pd.read_parquet(batch_file)\n",
    "    # del df['time'], df['charge']\n",
    "    # display(df.head())\n",
    "    gc.collect()\n",
    "    \n",
    "    for eid, dfg in df.groupby(\"event_id\"):\n",
    "        dfg = dfg[~dfg['auxiliary']]\n",
    "        dfg = dfg.merge(geometry, left_on=\"sensor_id\", right_index=True)\n",
    "        # TODO: for memory reason subsample point cloud\n",
    "        if len(dfg) > 800:\n",
    "            dfg = dfg.sort_values('charge', ascending=False)[:800]\n",
    "        # display(dfg)\n",
    "        #These are the sensor position coordinates\n",
    "        xyz = dfg[['x','y','z']].values\n",
    "        #These are the times of detection\n",
    "        ti = dfg[['time']].values\n",
    "        v_est,r_est = compute_direction(xyz, ti)\n",
    "        #we need to switch direction because we want the direction the neutrino came from, but\n",
    "        #v_est is the direction it is traveling\n",
    "        v_est = -v_est\n",
    "        azimuth_, zenith_ = cartesian_to_sphere(*v_est)\n",
    "        azimuth_, zenith_ = adjust_sphere(azimuth_, zenith_)\n",
    "        ssub.at[eid, \"azimuth\"] = azimuth_\n",
    "        ssub.at[eid, \"zenith\"] = zenith_\n",
    "        if len(df) < 1e5:\n",
    "            print(f\"Estimation event {eid} with azimuth={azimuth_} & zenith={zenith_}\")\n",
    "\n",
    "    del df, dfg\n",
    "    gc.collect()\n",
    "    time.sleep(1)"
   ]
  },
  {
   "cell_type": "markdown",
   "id": "69744c99",
   "metadata": {
    "papermill": {
     "duration": 0.004385,
     "end_time": "2023-01-28T13:24:31.243227",
     "exception": false,
     "start_time": "2023-01-28T13:24:31.238842",
     "status": "completed"
    },
    "tags": []
   },
   "source": [
    "### Finalize submission"
   ]
  },
  {
   "cell_type": "code",
   "execution_count": 9,
   "id": "7a72d48e",
   "metadata": {
    "execution": {
     "iopub.execute_input": "2023-01-28T13:24:31.254950Z",
     "iopub.status.busy": "2023-01-28T13:24:31.253632Z",
     "iopub.status.idle": "2023-01-28T13:24:32.352048Z",
     "shell.execute_reply": "2023-01-28T13:24:32.350521Z"
    },
    "papermill": {
     "duration": 1.107096,
     "end_time": "2023-01-28T13:24:32.354879",
     "exception": false,
     "start_time": "2023-01-28T13:24:31.247783",
     "status": "completed"
    },
    "tags": []
   },
   "outputs": [
    {
     "name": "stdout",
     "output_type": "stream",
     "text": [
      "event_id,azimuth,zenith\r\n",
      "2092,3.815714,2.325573\r\n",
      "7344,0.0,3.1415927\r\n",
      "9482,4.34508,1.4038317\r\n"
     ]
    }
   ],
   "source": [
    "ssub.fillna(0).to_csv('submission.csv', index=True)\n",
    "\n",
    "!head submission.csv"
   ]
  }
 ],
 "metadata": {
  "kernelspec": {
   "display_name": "Python 3",
   "language": "python",
   "name": "python3"
  },
  "language_info": {
   "codemirror_mode": {
    "name": "ipython",
    "version": 3
   },
   "file_extension": ".py",
   "mimetype": "text/x-python",
   "name": "python",
   "nbconvert_exporter": "python",
   "pygments_lexer": "ipython3",
   "version": "3.7.12"
  },
  "papermill": {
   "default_parameters": {},
   "duration": 14.207701,
   "end_time": "2023-01-28T13:24:33.081961",
   "environment_variables": {},
   "exception": null,
   "input_path": "__notebook__.ipynb",
   "output_path": "__notebook__.ipynb",
   "parameters": {},
   "start_time": "2023-01-28T13:24:18.874260",
   "version": "2.3.4"
  }
 },
 "nbformat": 4,
 "nbformat_minor": 5
}
