{
 "cells": [
  {
   "cell_type": "code",
   "execution_count": 1,
   "id": "14ce9138",
   "metadata": {
    "_cell_guid": "b1076dfc-b9ad-4769-8c92-a6c4dae69d19",
    "_uuid": "8f2839f25d086af736a60e9eeb907d3b93b6e0e5",
    "execution": {
     "iopub.execute_input": "2023-01-23T21:55:51.870083Z",
     "iopub.status.busy": "2023-01-23T21:55:51.869571Z",
     "iopub.status.idle": "2023-01-23T21:55:54.459647Z",
     "shell.execute_reply": "2023-01-23T21:55:54.458186Z"
    },
    "papermill": {
     "duration": 2.606038,
     "end_time": "2023-01-23T21:55:54.462884",
     "exception": false,
     "start_time": "2023-01-23T21:55:51.856846",
     "status": "completed"
    },
    "tags": []
   },
   "outputs": [],
   "source": [
    "import numpy as np\n",
    "import pandas as pd\n",
    "import plotly.express as px\n",
    "from sklearn.decomposition import PCA\n",
    "import plotly.graph_objects as go\n",
    "import matplotlib.pyplot as plt\n",
    "import multiprocessing"
   ]
  },
  {
   "cell_type": "markdown",
   "id": "8bb52d8f",
   "metadata": {
    "papermill": {
     "duration": 0.009426,
     "end_time": "2023-01-23T21:55:54.482813",
     "exception": false,
     "start_time": "2023-01-23T21:55:54.473387",
     "status": "completed"
    },
    "tags": []
   },
   "source": [
    "# TL;DR\n",
    "I perform a PCA on the pulses coordinates and take the first principal component as the neutrino's direction. The PCA is performed only on the non-auxiliary ('true') pulses if there are enough (>15); otherwise, I perform it on all the data. Then, I calculate the average time of the 'true' pulses on the negative and positive sides of the vector and flip its direction if it points to the wrong one. (lower times should be on the positive side since it is supposed to point to the source of the neutrino). This analysis is done only for the 'true' pulses since the auxiliary pulses times are too noisy for this analysis without further refinement. Validation score 1.282, LB score 1.274\n"
   ]
  },
  {
   "cell_type": "markdown",
   "id": "cbeb7dcc",
   "metadata": {
    "papermill": {
     "duration": 0.011429,
     "end_time": "2023-01-23T21:55:54.504255",
     "exception": false,
     "start_time": "2023-01-23T21:55:54.492826",
     "status": "completed"
    },
    "tags": []
   },
   "source": [
    "# Train meta"
   ]
  },
  {
   "cell_type": "code",
   "execution_count": 2,
   "id": "90cb2b93",
   "metadata": {
    "execution": {
     "iopub.execute_input": "2023-01-23T21:55:54.526357Z",
     "iopub.status.busy": "2023-01-23T21:55:54.525902Z",
     "iopub.status.idle": "2023-01-23T21:56:53.172994Z",
     "shell.execute_reply": "2023-01-23T21:56:53.167671Z"
    },
    "papermill": {
     "duration": 58.717337,
     "end_time": "2023-01-23T21:56:53.231559",
     "exception": false,
     "start_time": "2023-01-23T21:55:54.514222",
     "status": "completed"
    },
    "tags": []
   },
   "outputs": [
    {
     "data": {
      "text/html": [
       "<div>\n",
       "<style scoped>\n",
       "    .dataframe tbody tr th:only-of-type {\n",
       "        vertical-align: middle;\n",
       "    }\n",
       "\n",
       "    .dataframe tbody tr th {\n",
       "        vertical-align: top;\n",
       "    }\n",
       "\n",
       "    .dataframe thead th {\n",
       "        text-align: right;\n",
       "    }\n",
       "</style>\n",
       "<table border=\"1\" class=\"dataframe\">\n",
       "  <thead>\n",
       "    <tr style=\"text-align: right;\">\n",
       "      <th></th>\n",
       "      <th>batch_id</th>\n",
       "      <th>event_id</th>\n",
       "      <th>first_pulse_index</th>\n",
       "      <th>last_pulse_index</th>\n",
       "      <th>azimuth</th>\n",
       "      <th>zenith</th>\n",
       "    </tr>\n",
       "  </thead>\n",
       "  <tbody>\n",
       "    <tr>\n",
       "      <th>0</th>\n",
       "      <td>1</td>\n",
       "      <td>24</td>\n",
       "      <td>0</td>\n",
       "      <td>60</td>\n",
       "      <td>5.029555</td>\n",
       "      <td>2.087498</td>\n",
       "    </tr>\n",
       "    <tr>\n",
       "      <th>1</th>\n",
       "      <td>1</td>\n",
       "      <td>41</td>\n",
       "      <td>61</td>\n",
       "      <td>111</td>\n",
       "      <td>0.417742</td>\n",
       "      <td>1.549686</td>\n",
       "    </tr>\n",
       "    <tr>\n",
       "      <th>2</th>\n",
       "      <td>1</td>\n",
       "      <td>59</td>\n",
       "      <td>112</td>\n",
       "      <td>147</td>\n",
       "      <td>1.160466</td>\n",
       "      <td>2.401942</td>\n",
       "    </tr>\n",
       "    <tr>\n",
       "      <th>3</th>\n",
       "      <td>1</td>\n",
       "      <td>67</td>\n",
       "      <td>148</td>\n",
       "      <td>289</td>\n",
       "      <td>5.845952</td>\n",
       "      <td>0.759054</td>\n",
       "    </tr>\n",
       "    <tr>\n",
       "      <th>4</th>\n",
       "      <td>1</td>\n",
       "      <td>72</td>\n",
       "      <td>290</td>\n",
       "      <td>351</td>\n",
       "      <td>0.653719</td>\n",
       "      <td>0.939117</td>\n",
       "    </tr>\n",
       "  </tbody>\n",
       "</table>\n",
       "</div>"
      ],
      "text/plain": [
       "   batch_id  event_id  first_pulse_index  last_pulse_index   azimuth    zenith\n",
       "0         1        24                  0                60  5.029555  2.087498\n",
       "1         1        41                 61               111  0.417742  1.549686\n",
       "2         1        59                112               147  1.160466  2.401942\n",
       "3         1        67                148               289  5.845952  0.759054\n",
       "4         1        72                290               351  0.653719  0.939117"
      ]
     },
     "execution_count": 2,
     "metadata": {},
     "output_type": "execute_result"
    }
   ],
   "source": [
    "train_meta = pd.read_parquet('/kaggle/input/icecube-neutrinos-in-deep-ice/train_meta.parquet')\n",
    "train_meta.head()"
   ]
  },
  {
   "cell_type": "code",
   "execution_count": 3,
   "id": "c91b4eec",
   "metadata": {
    "execution": {
     "iopub.execute_input": "2023-01-23T21:56:53.313291Z",
     "iopub.status.busy": "2023-01-23T21:56:53.312281Z",
     "iopub.status.idle": "2023-01-23T21:56:53.340700Z",
     "shell.execute_reply": "2023-01-23T21:56:53.335962Z"
    },
    "papermill": {
     "duration": 0.085578,
     "end_time": "2023-01-23T21:56:53.351447",
     "exception": false,
     "start_time": "2023-01-23T21:56:53.265869",
     "status": "completed"
    },
    "tags": []
   },
   "outputs": [
    {
     "name": "stdout",
     "output_type": "stream",
     "text": [
      "Total number of events: 131953924\n"
     ]
    }
   ],
   "source": [
    "print('Total number of events: ' + str(len(train_meta)))"
   ]
  },
  {
   "cell_type": "markdown",
   "id": "afdcc495",
   "metadata": {
    "papermill": {
     "duration": 0.023648,
     "end_time": "2023-01-23T21:56:53.411088",
     "exception": false,
     "start_time": "2023-01-23T21:56:53.387440",
     "status": "completed"
    },
    "tags": []
   },
   "source": [
    "# Train batch 1"
   ]
  },
  {
   "cell_type": "code",
   "execution_count": 4,
   "id": "caac25cf",
   "metadata": {
    "execution": {
     "iopub.execute_input": "2023-01-23T21:56:53.440616Z",
     "iopub.status.busy": "2023-01-23T21:56:53.440095Z",
     "iopub.status.idle": "2023-01-23T21:57:00.231201Z",
     "shell.execute_reply": "2023-01-23T21:57:00.229999Z"
    },
    "papermill": {
     "duration": 6.808166,
     "end_time": "2023-01-23T21:57:00.233737",
     "exception": false,
     "start_time": "2023-01-23T21:56:53.425571",
     "status": "completed"
    },
    "tags": []
   },
   "outputs": [
    {
     "data": {
      "text/html": [
       "<div>\n",
       "<style scoped>\n",
       "    .dataframe tbody tr th:only-of-type {\n",
       "        vertical-align: middle;\n",
       "    }\n",
       "\n",
       "    .dataframe tbody tr th {\n",
       "        vertical-align: top;\n",
       "    }\n",
       "\n",
       "    .dataframe thead th {\n",
       "        text-align: right;\n",
       "    }\n",
       "</style>\n",
       "<table border=\"1\" class=\"dataframe\">\n",
       "  <thead>\n",
       "    <tr style=\"text-align: right;\">\n",
       "      <th></th>\n",
       "      <th>sensor_id</th>\n",
       "      <th>time</th>\n",
       "      <th>charge</th>\n",
       "      <th>auxiliary</th>\n",
       "    </tr>\n",
       "    <tr>\n",
       "      <th>event_id</th>\n",
       "      <th></th>\n",
       "      <th></th>\n",
       "      <th></th>\n",
       "      <th></th>\n",
       "    </tr>\n",
       "  </thead>\n",
       "  <tbody>\n",
       "    <tr>\n",
       "      <th>24</th>\n",
       "      <td>3918</td>\n",
       "      <td>5928</td>\n",
       "      <td>1.325</td>\n",
       "      <td>True</td>\n",
       "    </tr>\n",
       "    <tr>\n",
       "      <th>24</th>\n",
       "      <td>4157</td>\n",
       "      <td>6115</td>\n",
       "      <td>1.175</td>\n",
       "      <td>True</td>\n",
       "    </tr>\n",
       "    <tr>\n",
       "      <th>24</th>\n",
       "      <td>3520</td>\n",
       "      <td>6492</td>\n",
       "      <td>0.925</td>\n",
       "      <td>True</td>\n",
       "    </tr>\n",
       "    <tr>\n",
       "      <th>24</th>\n",
       "      <td>5041</td>\n",
       "      <td>6665</td>\n",
       "      <td>0.225</td>\n",
       "      <td>True</td>\n",
       "    </tr>\n",
       "    <tr>\n",
       "      <th>24</th>\n",
       "      <td>2948</td>\n",
       "      <td>8054</td>\n",
       "      <td>1.575</td>\n",
       "      <td>True</td>\n",
       "    </tr>\n",
       "  </tbody>\n",
       "</table>\n",
       "</div>"
      ],
      "text/plain": [
       "          sensor_id  time  charge  auxiliary\n",
       "event_id                                    \n",
       "24             3918  5928   1.325       True\n",
       "24             4157  6115   1.175       True\n",
       "24             3520  6492   0.925       True\n",
       "24             5041  6665   0.225       True\n",
       "24             2948  8054   1.575       True"
      ]
     },
     "execution_count": 4,
     "metadata": {},
     "output_type": "execute_result"
    }
   ],
   "source": [
    "train_batch_1 = pd.read_parquet('/kaggle/input/icecube-neutrinos-in-deep-ice/train/batch_1.parquet')\n",
    "train_batch_1.head()"
   ]
  },
  {
   "cell_type": "code",
   "execution_count": 5,
   "id": "f054adbe",
   "metadata": {
    "execution": {
     "iopub.execute_input": "2023-01-23T21:57:00.260999Z",
     "iopub.status.busy": "2023-01-23T21:57:00.260195Z",
     "iopub.status.idle": "2023-01-23T21:57:01.419725Z",
     "shell.execute_reply": "2023-01-23T21:57:01.413829Z"
    },
    "papermill": {
     "duration": 1.182248,
     "end_time": "2023-01-23T21:57:01.428832",
     "exception": false,
     "start_time": "2023-01-23T21:57:00.246584",
     "status": "completed"
    },
    "tags": []
   },
   "outputs": [
    {
     "name": "stdout",
     "output_type": "stream",
     "text": [
      "Number of pulses: 32792416\n",
      "Number of events: 200000\n"
     ]
    }
   ],
   "source": [
    "print('Number of pulses: ' + str(len(train_batch_1)))\n",
    "print('Number of events: ' + str(len(train_batch_1.index.unique())))"
   ]
  },
  {
   "cell_type": "markdown",
   "id": "e0514950",
   "metadata": {
    "papermill": {
     "duration": 0.038568,
     "end_time": "2023-01-23T21:57:01.504166",
     "exception": false,
     "start_time": "2023-01-23T21:57:01.465598",
     "status": "completed"
    },
    "tags": []
   },
   "source": [
    "# Sensor geometry"
   ]
  },
  {
   "cell_type": "code",
   "execution_count": 6,
   "id": "0ed4fdab",
   "metadata": {
    "execution": {
     "iopub.execute_input": "2023-01-23T21:57:01.589176Z",
     "iopub.status.busy": "2023-01-23T21:57:01.586038Z",
     "iopub.status.idle": "2023-01-23T21:57:01.679985Z",
     "shell.execute_reply": "2023-01-23T21:57:01.676013Z"
    },
    "papermill": {
     "duration": 0.148492,
     "end_time": "2023-01-23T21:57:01.691854",
     "exception": false,
     "start_time": "2023-01-23T21:57:01.543362",
     "status": "completed"
    },
    "tags": []
   },
   "outputs": [
    {
     "data": {
      "text/html": [
       "<div>\n",
       "<style scoped>\n",
       "    .dataframe tbody tr th:only-of-type {\n",
       "        vertical-align: middle;\n",
       "    }\n",
       "\n",
       "    .dataframe tbody tr th {\n",
       "        vertical-align: top;\n",
       "    }\n",
       "\n",
       "    .dataframe thead th {\n",
       "        text-align: right;\n",
       "    }\n",
       "</style>\n",
       "<table border=\"1\" class=\"dataframe\">\n",
       "  <thead>\n",
       "    <tr style=\"text-align: right;\">\n",
       "      <th></th>\n",
       "      <th>sensor_id</th>\n",
       "      <th>x</th>\n",
       "      <th>y</th>\n",
       "      <th>z</th>\n",
       "    </tr>\n",
       "  </thead>\n",
       "  <tbody>\n",
       "    <tr>\n",
       "      <th>0</th>\n",
       "      <td>0</td>\n",
       "      <td>-256.14</td>\n",
       "      <td>-521.08</td>\n",
       "      <td>496.03</td>\n",
       "    </tr>\n",
       "    <tr>\n",
       "      <th>1</th>\n",
       "      <td>1</td>\n",
       "      <td>-256.14</td>\n",
       "      <td>-521.08</td>\n",
       "      <td>479.01</td>\n",
       "    </tr>\n",
       "    <tr>\n",
       "      <th>2</th>\n",
       "      <td>2</td>\n",
       "      <td>-256.14</td>\n",
       "      <td>-521.08</td>\n",
       "      <td>461.99</td>\n",
       "    </tr>\n",
       "    <tr>\n",
       "      <th>3</th>\n",
       "      <td>3</td>\n",
       "      <td>-256.14</td>\n",
       "      <td>-521.08</td>\n",
       "      <td>444.97</td>\n",
       "    </tr>\n",
       "    <tr>\n",
       "      <th>4</th>\n",
       "      <td>4</td>\n",
       "      <td>-256.14</td>\n",
       "      <td>-521.08</td>\n",
       "      <td>427.95</td>\n",
       "    </tr>\n",
       "  </tbody>\n",
       "</table>\n",
       "</div>"
      ],
      "text/plain": [
       "   sensor_id       x       y       z\n",
       "0          0 -256.14 -521.08  496.03\n",
       "1          1 -256.14 -521.08  479.01\n",
       "2          2 -256.14 -521.08  461.99\n",
       "3          3 -256.14 -521.08  444.97\n",
       "4          4 -256.14 -521.08  427.95"
      ]
     },
     "execution_count": 6,
     "metadata": {},
     "output_type": "execute_result"
    }
   ],
   "source": [
    "sensor_geometry = pd.read_csv('/kaggle/input/icecube-neutrinos-in-deep-ice/sensor_geometry.csv')\n",
    "sensor_geometry.head()"
   ]
  },
  {
   "cell_type": "code",
   "execution_count": 7,
   "id": "03702635",
   "metadata": {
    "execution": {
     "iopub.execute_input": "2023-01-23T21:57:01.778466Z",
     "iopub.status.busy": "2023-01-23T21:57:01.777790Z",
     "iopub.status.idle": "2023-01-23T21:57:02.545807Z",
     "shell.execute_reply": "2023-01-23T21:57:02.541640Z"
    },
    "papermill": {
     "duration": 0.819976,
     "end_time": "2023-01-23T21:57:02.552412",
     "exception": false,
     "start_time": "2023-01-23T21:57:01.732436",
     "status": "completed"
    },
    "tags": []
   },
   "outputs": [
    {
     "data": {
      "text/plain": [
       "<matplotlib.collections.PathCollection at 0x7f029659cb50>"
      ]
     },
     "execution_count": 7,
     "metadata": {},
     "output_type": "execute_result"
    },
    {
     "data": {
      "image/png": "[encoded data removed]",
      "text/plain": [
       "<Figure size 432x288 with 1 Axes>"
      ]
     },
     "metadata": {
      "needs_background": "light"
     },
     "output_type": "display_data"
    }
   ],
   "source": [
    "plt.scatter(sensor_geometry.x, sensor_geometry.y)"
   ]
  },
  {
   "cell_type": "code",
   "execution_count": 8,
   "id": "2c74b70e",
   "metadata": {
    "execution": {
     "iopub.execute_input": "2023-01-23T21:57:02.636099Z",
     "iopub.status.busy": "2023-01-23T21:57:02.634584Z",
     "iopub.status.idle": "2023-01-23T21:57:04.487597Z",
     "shell.execute_reply": "2023-01-23T21:57:04.486361Z"
    },
    "papermill": {
     "duration": 1.900878,
     "end_time": "2023-01-23T21:57:04.492276",
     "exception": false,
     "start_time": "2023-01-23T21:57:02.591398",
     "status": "completed"
    },
    "tags": []
   },
   "outputs": [
    {
     "data": {
      "text/html": [
       "        <script type=\"text/javascript\">\n",
       "        window.PlotlyConfig = {MathJaxConfig: 'local'};\n",
       "        if (window.MathJax && window.MathJax.Hub && window.MathJax.Hub.Config) {window.MathJax.Hub.Config({SVG: {font: \"STIX-Web\"}});}\n",
       "        if (typeof require !== 'undefined') {\n",
       "        require.undef(\"plotly\");\n",
       "        requirejs.config({\n",
       "            paths: {\n",
       "                'plotly': ['https://cdn.plot.ly/plotly-2.16.1.min']\n",
       "            }\n",
       "        });\n",
       "        require(['plotly'], function(Plotly) {\n",
       "            window._Plotly = Plotly;\n",
       "        });\n",
       "        }\n",
       "        </script>\n",
       "        "
      ]
     },
     "metadata": {},
     "output_type": "display_data"
    },
    {
     "data": {
      "text/html": [
       "<div>                            <div id=\"63e83dbf-ce8c-4d81-8c2c-693315045db5\" class=\"plotly-graph-div\" style=\"height:525px; width:100%;\"></div>            <script type=\"text/javascript\">                require([\"plotly\"], function(Plotly) {                    window.PLOTLYENV=window.PLOTLYENV || {};                                    if (document.getElementById(\"63e83dbf-ce8c-4d81-8c2c-693315045db5\")) {                    Plotly.newPlot(                        \"63e83dbf-ce8c-4d81-8c2c-693315045db5\",                        [{\"hovertemplate\":\"x=%{x}<br>y=%{y}<br>z=%{z}<extra></extra>\",\"legendgroup\":\"\",\"marker\":{\"color\":\"#636efa\",\"opacity\":0.5,\"symbol\":\"circle\",\"size\":2},\"mode\":\"markers\",\"name\":\"\",\"scene\":\"scene\",\"showlegend\":false,\"x\":[-256.14,-256.14,-256.14,-256.14,-256.14,-256.14,-256.14,-256.14,-256.14,-256.14,-256.14,-256.14,-256.14,-256.14,-256.14,-256.14,-256.14,-256.14,-256.14,-256.14,-256.14,-256.14,-256.14,-256.14,-256.14,-256.14,-256.14,-256.14,-256.14,-256.14,-256.14,-256.14,-256.14,-256.14,-256.14,-256.14,-256.14,-256.14,-256.14,-256.14,-256.14,-256.14,-256.14,-256.14,-256.14,-256.14,-256.14,-256.14,-256.14,-256.14,-256.14,-256.14,-256.14,-256.14,-256.14,-256.14,-256.14,-256.14,-256.14,-256.14,-132.8,-132.8,-132.8,-132.8,-132.8,-132.8,-132.8,-132.8,-132.8,-132.8,-132.8,-132.8,-132.8,-132.8,-132.8,-132.8,-132.8,-132.8,-132.8,-132.8,-132.8,-132.8,-132.8,-132.8,-132.8,-132.8,-132.8,-132.8,-132.8,-132.8,-132.8,-132.8,-132.8,-132.8,-132.8,-132.8,-132.8,-132.8,-132.8,-132.8,-132.8,-132.8,-132.8,-132.8,-132.8,-132.8,-132.8,-132.8,-132.8,-132.8,-132.8,-132.8,-132.8,-132.8,-132.8,-132.8,-132.8,-132.8,-132.8,-132.8,-9.13,-9.13,-9.13,-9.13,-9.13,-9.13,-9.13,-9.13,-9.13,-9.13,-9.13,-9.13,-9.13,-9.13,-9.13,-9.13,-9.13,-9.13,-9.13,-9.13,-9.13,-9.13,-9.13,-9.13,-9.13,-9.13,-9.13,-9.13,-9.13,-9.13,-9.13,-9.13,-9.13,-9.13,-9.13,-9.13,-9.13,-9.13,-9.13,-9.13,-9.13,-9.13,-9.13,-9.13,-9.13,-9.13,-9.13,-9.13,-9.13,-9.13,-9.13,-9.13,-9.13,-9.13,-9.13,-9.13,-9.13,-9.13,-9.13,-9.13,114.39,114.39,114.39,114.39,114.39,114.39,114.39,114.39,114.39,114.39,114.39,114.39,114.39,114.39,114.39,114.39,114.39,114.39,114.39,114.39,114.39,114.39,114.39,114.39,114.39,114.39,114.39,114.39,114.39,114.39,114.39,114.39,114.39,114.39,114.39,114.39,114.39,114.39,114.39,114.39,114.39,114.39,114.39,114.39,114.39,114.39,114.39,114.39,114.39,114.39,114.39,114.39,114.39,114.39,114.39,114.39,114.39,114.39,114.39,114.39,237.78,237.78,237.78,237.78,237.78,237.78,237.78,237.78,237.78,237.78,237.78,237.78,237.78,237.78,237.78,237.78,237.78,237.78,237.78,237.78,237.78,237.78,237.78,237.78,237.78,237.78,237.78,237.78,237.78,237.78,237.78,237.78,237.78,237.78,237.78,237.78,237.78,237.78,237.78,237.78,237.78,237.78,237.78,237.78,237.78,237.78,237.78,237.78,237.78,237.78,237.78,237.78,237.78,237.78,237.78,237.78,237.78,237.78,237.78,237.78,361.0,361.0,361.0,361.0,361.0,361.0,361.0,361.0,361.0,361.0,361.0,361.0,361.0,361.0,361.0,361.0,361.0,361.0,361.0,361.0,361.0,361.0,361.0,361.0,361.0,361.0,361.0,361.0,361.0,361.0,361.0,361.0,361.0,361.0,361.0,361.0,361.0,361.0,361.0,361.0,361.0,361.0,361.0,361.0,361.0,361.0,361.0,361.0,361.0,361.0,361.0,361.0,361.0,361.0,361.0,361.0,361.0,361.0,361.0,361.0,-334.8,-334.8,-334.8,-334.8,-334.8,-334.8,-334.8,-334.8,-334.8,-334.8,-334.8,-334.8,-334.8,-334.8,-334.8,-334.8,-334.8,-334.8,-334.8,-334.8,-334.8,-334.8,-334.8,-334.8,-334.8,-334.8,-334.8,-334.8,-334.8,-334.8,-334.8,-334.8,-334.8,-334.8,-334.8,-334.8,-334.8,-334.8,-334.8,-334.8,-334.8,-334.8,-334.8,-334.8,-334.8,-334.8,-334.8,-334.8,-334.8,-334.8,-334.8,-334.8,-334.8,-334.8,-334.8,-334.8,-334.8,-334.8,-334.8,-334.8,-211.35,-211.35,-211.35,-211.35,-211.35,-211.35,-211.35,-211.35,-211.35,-211.35,-211.35,-211.35,-211.35,-211.35,-211.35,-211.35,-211.35,-211.35,-211.35,-211.35,-211.35,-211.35,-211.35,-211.35,-211.35,-211.35,-211.35,-211.35,-211.35,-211.35,-211.35,-211.35,-211.35,-211.35,-211.35,-211.35,-211.35,-211.35,-211.35,-211.35,-211.35,-211.35,-211.35,-211.35,-211.35,-211.35,-211.35,-211.35,-211.35,-211.35,-211.35,-211.35,-211.35,-211.35,-211.35,-211.35,-211.35,-211.35,-211.35,-211.35,-88.05,-88.05,-88.05,-88.05,-88.05,-88.05,-88.05,-88.05,-88.05,-88.05,-88.05,-88.05,-88.05,-88.05,-88.05,-88.05,-88.05,-88.05,-88.05,-88.05,-88.05,-88.05,-88.05,-88.05,-88.05,-88.05,-88.05,-88.05,-88.05,-88.05,-88.05,-88.05,-88.05,-88.05,-88.05,-88.05,-88.05,-88.05,-88.05,-88.05,-88.05,-88.05,-88.05,-88.05,-88.05,-88.05,-88.05,-88.05,-88.05,-88.05,-88.05,-88.05,-88.05,-88.05,-88.05,-88.05,-88.05,-88.05,-88.05,-88.05,35.54,35.54,35.54,35.54,35.54,35.54,35.54,35.54,35.54,35.54,35.54,35.54,35.54,35.54,35.54,35.54,35.54,35.54,35.54,35.54,35.54,35.54,35.54,35.54,35.54,35.54,35.54,35.54,35.54,35.54,35.54,35.54,35.54,35.54,35.54,35.54,35.54,35.54,35.54,35.54,35.54,35.54,35.54,35.54,35.54,35.54,35.54,35.54,35.54,35.54,35.54,35.54,35.54,35.54,35.54,35.54,35.54,35.54,35.54,35.54,158.94,158.94,158.94,158.94,158.94,158.94,158.94,158.94,158.94,158.94,158.94,158.94,158.94,158.94,158.94,158.94,158.94,158.94,158.94,158.94,158.94,158.94,158.94,158.94,158.94,158.94,158.94,158.94,158.94,158.94,158.94,158.94,158.94,158.94,158.94,158.94,158.94,158.94,158.94,158.94,158.94,158.94,158.94,158.94,158.94,158.94,158.94,158.94,158.94,158.94,158.94,158.94,158.94,158.94,158.94,158.94,158.94,158.94,158.94,158.94,282.18,282.18,282.18,282.18,282.18,282.18,282.18,282.18,282.18,282.18,282.18,282.18,282.18,282.18,282.18,282.18,282.18,282.18,282.18,282.18,282.18,282.18,282.18,282.18,282.18,282.18,282.18,282.18,282.18,282.18,282.18,282.18,282.18,282.18,282.18,282.18,282.18,282.18,282.18,282.18,282.18,282.18,282.18,282.18,282.18,282.18,282.18,282.18,282.18,282.18,282.18,282.18,282.18,282.18,282.18,282.18,282.18,282.18,282.18,282.18,405.83,405.83,405.83,405.83,405.83,405.83,405.83,405.83,405.83,405.83,405.83,405.83,405.83,405.83,405.83,405.83,405.83,405.83,405.83,405.83,405.83,405.83,405.83,405.83,405.83,405.83,405.83,405.83,405.83,405.83,405.83,405.83,405.83,405.83,405.83,405.83,405.83,405.83,405.83,405.83,405.83,405.83,405.83,405.83,405.83,405.83,405.83,405.83,405.83,405.83,405.83,405.83,405.83,405.83,405.83,405.83,405.83,405.83,405.83,405.83,-413.46,-413.46,-413.46,-413.46,-413.46,-413.46,-413.46,-413.46,-413.46,-413.46,-413.46,-413.46,-413.46,-413.46,-413.46,-413.46,-413.46,-413.46,-413.46,-413.46,-413.46,-413.46,-413.46,-413.46,-413.46,-413.46,-413.46,-413.46,-413.46,-413.46,-413.46,-413.46,-413.46,-413.46,-413.46,-413.46,-413.46,-413.46,-413.46,-413.46,-413.46,-413.46,-413.46,-413.46,-413.46,-413.46,-413.46,-413.46,-413.46,-413.46,-413.46,-413.46,-413.46,-413.46,-413.46,-413.46,-413.46,-413.46,-413.46,-413.46,-290.66,-290.66,-290.66,-290.66,-290.66,-290.66,-290.66,-290.66,-290.66,-290.66,-290.66,-290.66,-290.66,-290.66,-290.66,-290.66,-290.66,-290.66,-290.66,-290.66,-290.66,-290.66,-290.66,-290.66,-290.66,-290.66,-290.66,-290.66,-290.66,-290.66,-290.66,-290.66,-290.66,-290.66,-290.66,-290.66,-290.66,-290.66,-290.66,-290.66,-290.66,-290.66,-290.66,-290.66,-290.66,-290.66,-290.66,-290.66,-290.66,-290.66,-290.66,-290.66,-290.66,-290.66,-290.66,-290.66,-290.66,-290.66,-290.66,-290.66,-166.4,-166.4,-166.4,-166.4,-166.4,-166.4,-166.4,-166.4,-166.4,-166.4,-166.4,-166.4,-166.4,-166.4,-166.4,-166.4,-166.4,-166.4,-166.4,-166.4,-166.4,-166.4,-166.4,-166.4,-166.4,-166.4,-166.4,-166.4,-166.4,-166.4,-166.4,-166.4,-166.4,-166.4,-166.4,-166.4,-166.4,-166.4,-166.4,-166.4,-166.4,-166.4,-166.4,-166.4,-166.4,-166.4,-166.4,-166.4,-166.4,-166.4,-166.4,-166.4,-166.4,-166.4,-166.4,-166.4,-166.4,-166.4,-166.4,-166.4,-43.27,-43.27,-43.27,-43.27,-43.27,-43.27,-43.27,-43.27,-43.27,-43.27,-43.27,-43.27,-43.27,-43.27,-43.27,-43.27,-43.27,-43.27,-43.27,-43.27,-43.27,-43.27,-43.27,-43.27,-43.27,-43.27,-43.27,-43.27,-43.27,-43.27,-43.27,-43.27,-43.27,-43.27,-43.27,-43.27,-43.27,-43.27,-43.27,-43.27,-43.27,-43.27,-43.27,-43.27,-43.27,-43.27,-43.27,-43.27,-43.27,-43.27,-43.27,-43.27,-43.27,-43.27,-43.27,-43.27,-43.27,-43.27,-43.27,-43.27,79.41,79.41,79.41,79.41,79.41,79.41,79.41,79.41,79.41,79.41,79.41,79.41,79.41,79.41,79.41,79.41,79.41,79.41,79.41,79.41,79.41,79.41,79.41,79.41,79.41,79.41,79.41,79.41,79.41,79.41,79.41,79.41,79.41,79.41,79.41,79.41,79.41,79.41,79.41,79.41,79.41,79.41,79.41,79.41,79.41,79.41,79.41,79.41,79.41,79.41,79.41,79.41,79.41,79.41,79.41,79.41,79.41,79.41,79.41,79.41,210.47,210.47,210.47,210.47,210.47,210.47,210.47,210.47,210.47,210.47,210.47,210.47,210.47,210.47,210.47,210.47,210.47,210.47,210.47,210.47,210.47,210.47,210.47,210.47,210.47,210.47,210.47,210.47,210.47,210.47,210.47,210.47,210.47,210.47,210.47,210.47,210.47,210.47,210.47,210.47,210.47,210.47,210.47,210.47,210.47,210.47,210.47,210.47,210.47,210.47,210.47,210.47,210.47,210.47,210.47,210.47,210.47,210.47,210.47,210.47,326.85,326.85,326.85,326.85,326.85,326.85,326.85,326.85,326.85,326.85,326.85,326.85,326.85,326.85,326.85,326.85,326.85,326.85,326.85,326.85,326.85,326.85,326.85,326.85,326.85,326.85,326.85,326.85,326.85,326.85,326.85,326.85,326.85,326.85,326.85,326.85,326.85,326.85,326.85,326.85,326.85,326.85,326.85,326.85,326.85,326.85,326.85,326.85,326.85,326.85,326.85,326.85,326.85,326.85,326.85,326.85,326.85,326.85,326.85,326.85,443.6,443.6,443.63,443.66,443.7,443.75,443.8,443.85,443.89,443.93,443.96,443.96,443.95,443.92,443.88,443.84,443.8,443.75,443.72,443.72,443.75,443.8,443.85,443.88,443.92,443.95,443.96,443.96,443.94,443.92,443.89,443.85,443.8,443.75,443.71,443.66,443.62,443.58,443.54,443.5,443.47,443.44,443.43,443.43,443.46,443.5,443.55,443.59,443.65,443.68,443.72,443.75,443.78,443.81,443.85,443.89,443.93,443.96,444.0,444.05,-492.43,-492.43,-492.43,-492.43,-492.43,-492.43,-492.43,-492.43,-492.43,-492.43,-492.43,-492.43,-492.43,-492.43,-492.43,-492.43,-492.43,-492.43,-492.43,-492.43,-492.43,-492.43,-492.43,-492.43,-492.43,-492.43,-492.43,-492.43,-492.43,-492.43,-492.43,-492.43,-492.43,-492.43,-492.43,-492.43,-492.43,-492.43,-492.43,-492.43,-492.43,-492.43,-492.43,-492.43,-492.43,-492.43,-492.43,-492.43,-492.43,-492.43,-492.43,-492.43,-492.43,-492.43,-492.43,-492.43,-492.43,-492.43,-492.43,-492.43,-368.93,-368.93,-368.93,-368.93,-368.93,-368.93,-368.93,-368.93,-368.93,-368.93,-368.93,-368.93,-368.93,-368.93,-368.93,-368.93,-368.93,-368.93,-368.93,-368.93,-368.93,-368.93,-368.93,-368.93,-368.93,-368.93,-368.93,-368.93,-368.93,-368.93,-368.93,-368.93,-368.93,-368.93,-368.93,-368.93,-368.93,-368.93,-368.93,-368.93,-368.93,-368.93,-368.93,-368.93,-368.93,-368.93,-368.93,-368.93,-368.93,-368.93,-368.93,-368.93,-368.93,-368.93,-368.93,-368.93,-368.93,-368.93,-368.93,-368.93,-245.65,-245.65,-245.65,-245.65,-245.65,-245.65,-245.65,-245.65,-245.65,-245.65,-245.65,-245.65,-245.65,-245.65,-245.65,-245.65,-245.65,-245.65,-245.65,-245.65,-245.65,-245.65,-245.65,-245.65,-245.65,-245.65,-245.65,-245.65,-245.65,-245.65,-245.65,-245.65,-245.65,-245.65,-245.65,-245.65,-245.65,-245.65,-245.65,-245.65,-245.65,-245.65,-245.65,-245.65,-245.65,-245.65,-245.65,-245.65,-245.65,-245.65,-245.65,-245.65,-245.65,-245.65,-245.65,-245.65,-245.65,-245.65,-245.65,-245.65,-121.77,-121.77,-121.77,-121.77,-121.77,-121.77,-121.77,-121.77,-121.77,-121.77,-121.77,-121.77,-121.77,-121.77,-121.77,-121.77,-121.77,-121.77,-121.77,-121.77,-121.77,-121.77,-121.77,-121.77,-121.77,-121.77,-121.77,-121.77,-121.77,-121.77,-121.77,-121.77,-121.77,-121.77,-121.77,-121.77,-121.77,-121.77,-121.77,-121.77,-121.77,-121.77,-121.77,-121.77,-121.77,-121.77,-121.77,-121.77,-121.77,-121.77,-121.77,-121.77,-121.77,-121.77,-121.77,-121.77,-121.77,-121.77,-121.77,-121.77,1.71,1.71,1.71,1.71,1.71,1.71,1.71,1.71,1.71,1.71,1.71,1.71,1.71,1.71,1.71,1.71,1.71,1.71,1.71,1.71,1.71,1.71,1.71,1.71,1.71,1.71,1.71,1.71,1.71,1.71,1.71,1.71,1.71,1.71,1.71,1.71,1.71,1.71,1.71,1.71,1.71,1.71,1.71,1.71,1.71,1.71,1.71,1.71,1.71,1.71,1.71,1.71,1.71,1.71,1.71,1.71,1.71,1.71,1.71,1.71,124.97,124.97,124.97,124.97,124.97,124.97,124.97,124.97,124.97,124.97,124.97,124.97,124.97,124.97,124.97,124.97,124.97,124.97,124.97,124.97,124.97,124.97,124.97,124.97,124.97,124.97,124.97,124.97,124.97,124.97,124.97,124.97,124.97,124.97,124.97,124.97,124.97,124.97,124.97,124.97,124.97,124.97,124.97,124.97,124.97,124.97,124.97,124.97,124.97,124.97,124.97,124.97,124.97,124.97,124.97,124.97,124.97,124.97,124.97,124.97,248.15,248.15,248.15,248.15,248.15,248.15,248.15,248.15,248.15,248.15,248.15,248.15,248.15,248.15,248.15,248.15,248.15,248.15,248.15,248.15,248.15,248.15,248.15,248.15,248.15,248.15,248.15,248.15,248.15,248.15,248.15,248.15,248.15,248.15,248.15,248.15,248.15,248.15,248.15,248.15,248.15,248.15,248.15,248.15,248.15,248.15,248.15,248.15,248.15,248.15,248.15,248.15,248.15,248.15,248.15,248.15,248.15,248.15,248.15,248.15,371.56,371.56,371.56,371.56,371.56,371.56,371.56,371.56,371.56,371.56,371.56,371.56,371.56,371.56,371.56,371.56,371.56,371.56,371.56,371.56,371.56,371.56,371.56,371.56,371.56,371.56,371.56,371.56,371.56,371.56,371.56,371.56,371.56,371.56,371.56,371.56,371.56,371.56,371.56,371.56,371.56,371.56,371.56,371.56,371.56,371.56,371.56,371.56,371.56,371.56,371.56,371.56,371.56,371.56,371.56,371.56,371.56,371.56,371.56,371.56,500.43,500.43,500.43,500.43,500.43,500.43,500.43,500.43,500.43,500.43,500.43,500.43,500.43,500.43,500.43,500.43,500.43,500.43,500.43,500.43,500.43,500.43,500.43,500.43,500.43,500.43,500.43,500.43,500.43,500.43,500.43,500.43,500.43,500.43,500.43,500.43,500.43,500.43,500.43,500.43,500.43,500.43,500.43,500.43,500.43,500.43,500.43,500.43,500.43,500.43,500.43,500.43,500.43,500.43,500.43,500.43,500.43,500.43,500.43,500.43,-570.9,-570.9,-570.9,-570.9,-570.9,-570.9,-570.9,-570.9,-570.9,-570.9,-570.9,-570.9,-570.9,-570.9,-570.9,-570.9,-570.9,-570.9,-570.9,-570.9,-570.9,-570.9,-570.9,-570.9,-570.9,-570.9,-570.9,-570.9,-570.9,-570.9,-570.9,-570.9,-570.9,-570.9,-570.9,-570.9,-570.9,-570.9,-570.9,-570.9,-570.9,-570.9,-570.9,-570.9,-570.9,-570.9,-570.9,-570.9,-570.9,-570.9,-570.9,-570.9,-570.9,-570.9,-570.9,-570.9,-570.9,-570.9,-570.9,-570.9,-447.74,-447.74,-447.74,-447.74,-447.74,-447.74,-447.74,-447.74,-447.74,-447.74,-447.74,-447.74,-447.74,-447.74,-447.74,-447.74,-447.74,-447.74,-447.74,-447.74,-447.74,-447.74,-447.74,-447.74,-447.74,-447.74,-447.74,-447.74,-447.74,-447.74,-447.74,-447.74,-447.74,-447.74,-447.74,-447.74,-447.74,-447.74,-447.74,-447.74,-447.74,-447.74,-447.74,-447.74,-447.74,-447.74,-447.74,-447.74,-447.74,-447.74,-447.74,-447.74,-447.74,-447.74,-447.74,-447.74,-447.74,-447.74,-447.74,-447.74,-324.39,-324.39,-324.39,-324.39,-324.39,-324.39,-324.39,-324.39,-324.39,-324.39,-324.39,-324.39,-324.39,-324.39,-324.39,-324.39,-324.39,-324.39,-324.39,-324.39,-324.39,-324.39,-324.39,-324.39,-324.39,-324.39,-324.39,-324.39,-324.39,-324.39,-324.39,-324.39,-324.39,-324.39,-324.39,-324.39,-324.39,-324.39,-324.39,-324.39,-324.39,-324.39,-324.39,-324.39,-324.39,-324.39,-324.39,-324.39,-324.39,-324.39,-324.39,-324.39,-324.39,-324.39,-324.39,-324.39,-324.39,-324.39,-324.39,-324.39,-200.55,-200.55,-200.55,-200.55,-200.55,-200.55,-200.55,-200.55,-200.55,-200.55,-200.55,-200.55,-200.55,-200.55,-200.55,-200.55,-200.55,-200.55,-200.55,-200.55,-200.55,-200.55,-200.55,-200.55,-200.55,-200.55,-200.55,-200.55,-200.55,-200.55,-200.55,-200.55,-200.55,-200.55,-200.55,-200.55,-200.55,-200.55,-200.55,-200.55,-200.55,-200.55,-200.55,-200.55,-200.55,-200.55,-200.55,-200.55,-200.55,-200.55,-200.55,-200.55,-200.55,-200.55,-200.55,-200.55,-200.55,-200.55,-200.55,-200.55,-77.8,-77.8,-77.8,-77.8,-77.8,-77.8,-77.8,-77.8,-77.8,-77.8,-77.8,-77.8,-77.8,-77.8,-77.8,-77.8,-77.8,-77.8,-77.8,-77.8,-77.8,-77.8,-77.8,-77.8,-77.8,-77.8,-77.8,-77.8,-77.8,-77.8,-77.8,-77.8,-77.8,-77.8,-77.8,-77.8,-77.8,-77.8,-77.8,-77.8,-77.8,-77.8,-77.8,-77.8,-77.8,-77.8,-77.8,-77.8,-77.8,-77.8,-77.8,-77.8,-77.8,-77.8,-77.8,-77.8,-77.8,-77.8,-77.8,-77.8,46.29,46.29,46.29,46.29,46.29,46.29,46.29,46.29,46.29,46.29,46.29,46.29,46.29,46.29,46.29,46.29,46.29,46.29,46.29,46.29,46.29,46.29,46.29,46.29,46.29,46.29,46.29,46.29,46.29,46.29,46.29,46.29,46.29,46.29,46.29,46.29,46.29,46.29,46.29,46.29,46.29,46.29,46.29,46.29,46.29,46.29,46.29,46.29,46.29,46.29,46.29,46.29,46.29,46.29,46.29,46.29,46.29,46.29,46.29,46.29,194.34,194.34,194.34,194.34,194.34,194.34,194.34,194.34,194.34,194.34,194.34,194.34,194.34,194.34,194.34,194.34,194.34,194.34,194.34,194.34,194.34,194.34,194.34,194.34,194.34,194.34,194.34,194.34,194.34,194.34,194.34,194.34,194.34,194.34,194.34,194.34,194.34,194.34,194.34,194.34,194.34,194.34,194.34,194.34,194.34,194.34,194.34,194.34,194.34,194.34,194.34,194.34,194.34,194.34,194.34,194.34,194.34,194.34,194.34,194.34,292.9,292.9,292.9,292.9,292.9,292.9,292.9,292.9,292.9,292.9,292.9,292.9,292.9,292.9,292.9,292.9,292.9,292.9,292.9,292.9,292.9,292.9,292.9,292.9,292.9,292.9,292.9,292.9,292.9,292.9,292.9,292.9,292.9,292.9,292.9,292.9,292.9,292.9,292.9,292.9,292.9,292.9,292.9,292.9,292.9,292.9,292.9,292.9,292.9,292.9,292.9,292.9,292.9,292.9,292.9,292.9,292.9,292.9,292.9,292.9,411.81,411.81,411.81,411.81,411.81,411.81,411.81,411.81,411.81,411.81,411.81,411.81,411.81,411.81,411.81,411.81,411.81,411.81,411.81,411.81,411.81,411.81,411.81,411.81,411.81,411.81,411.81,411.81,411.81,411.81,411.81,411.81,411.81,411.81,411.81,411.81,411.81,411.81,411.81,411.81,411.81,411.81,411.81,411.81,411.81,411.81,411.81,411.81,411.81,411.81,411.81,411.81,411.81,411.81,411.81,411.81,411.81,411.81,411.81,411.81,544.07,544.07,544.07,544.07,544.07,544.07,544.07,544.07,544.07,544.07,544.07,544.07,544.07,544.07,544.07,544.07,544.07,544.07,544.07,544.07,544.07,544.07,544.07,544.07,544.07,544.07,544.07,544.07,544.07,544.07,544.07,544.07,544.07,544.07,544.07,544.07,544.07,544.07,544.07,544.07,544.07,544.07,544.07,544.07,544.07,544.07,544.07,544.07,544.07,544.07,544.07,544.07,544.07,544.07,544.07,544.07,544.07,544.07,544.07,544.07,-526.63,-526.63,-526.63,-526.63,-526.63,-526.63,-526.63,-526.63,-526.63,-526.63,-526.63,-526.63,-526.63,-526.63,-526.63,-526.63,-526.63,-526.63,-526.63,-526.63,-526.63,-526.63,-526.63,-526.63,-526.63,-526.63,-526.63,-526.63,-526.63,-526.63,-526.63,-526.63,-526.63,-526.63,-526.63,-526.63,-526.63,-526.63,-526.63,-526.63,-526.63,-526.63,-526.63,-526.63,-526.63,-526.63,-526.63,-526.63,-526.63,-526.63,-526.63,-526.63,-526.63,-526.63,-526.63,-526.63,-526.63,-526.63,-526.63,-526.63,-403.14,-403.14,-403.14,-403.14,-403.14,-403.14,-403.14,-403.14,-403.14,-403.14,-403.14,-403.14,-403.14,-403.14,-403.14,-403.14,-403.14,-403.14,-403.14,-403.14,-403.14,-403.14,-403.14,-403.14,-403.14,-403.14,-403.14,-403.14,-403.14,-403.14,-403.14,-403.14,-403.14,-403.14,-403.14,-403.14,-403.14,-403.14,-403.14,-403.14,-403.14,-403.14,-403.14,-403.14,-403.14,-403.14,-403.14,-403.14,-403.14,-403.14,-403.14,-403.14,-403.14,-403.14,-403.14,-403.14,-403.14,-403.14,-403.14,-403.14,-279.53,-279.53,-279.53,-279.53,-279.53,-279.53,-279.53,-279.53,-279.53,-279.53,-279.53,-279.53,-279.53,-279.53,-279.53,-279.53,-279.53,-279.53,-279.53,-279.53,-279.53,-279.53,-279.53,-279.53,-279.53,-279.53,-279.53,-279.53,-279.53,-279.53,-279.53,-279.53,-279.53,-279.53,-279.53,-279.53,-279.53,-279.53,-279.53,-279.53,-279.53,-279.53,-279.53,-279.53,-279.53,-279.53,-279.53,-279.53,-279.53,-279.53,-279.53,-279.53,-279.53,-279.53,-279.53,-279.53,-279.53,-279.53,-279.53,-279.53,-156.23,-156.23,-156.23,-156.23,-156.23,-156.23,-156.23,-156.23,-156.23,-156.23,-156.23,-156.23,-156.23,-156.23,-156.23,-156.23,-156.23,-156.23,-156.23,-156.23,-156.23,-156.23,-156.23,-156.23,-156.23,-156.23,-156.23,-156.23,-156.23,-156.23,-156.23,-156.23,-156.23,-156.23,-156.23,-156.23,-156.23,-156.23,-156.23,-156.23,-156.23,-156.23,-156.23,-156.23,-156.23,-156.23,-156.23,-156.23,-156.23,-156.23,-156.23,-156.23,-156.23,-156.23,-156.23,-156.23,-156.23,-156.23,-156.23,-156.23,-32.96,-32.96,-32.96,-32.96,-32.96,-32.96,-32.96,-32.96,-32.96,-32.96,-32.96,-32.96,-32.96,-32.96,-32.96,-32.96,-32.96,-32.96,-32.96,-32.96,-32.96,-32.96,-32.96,-32.96,-32.96,-32.96,-32.96,-32.96,-32.96,-32.96,-32.96,-32.96,-32.96,-32.96,-32.96,-32.96,-32.96,-32.96,-32.96,-32.96,-32.96,-32.96,-32.96,-32.96,-32.96,-32.96,-32.96,-32.96,-32.96,-32.96,-32.96,-32.96,-32.96,-32.96,-32.96,-32.96,-32.96,-32.96,-32.96,-32.96,90.49,90.49,90.49,90.49,90.49,90.49,90.49,90.49,90.49,90.49,90.49,90.49,90.49,90.49,90.49,90.49,90.49,90.49,90.49,90.49,90.49,90.49,90.49,90.49,90.49,90.49,90.49,90.49,90.49,90.49,90.49,90.49,90.49,90.49,90.49,90.49,90.49,90.49,90.49,90.49,90.49,90.49,90.49,90.49,90.49,90.49,90.49,90.49,90.49,90.49,90.49,90.49,90.49,90.49,90.49,90.49,90.49,90.49,90.49,90.49,195.03,195.03,195.03,195.03,195.03,195.03,195.03,195.03,195.03,195.03,195.03,195.03,195.03,195.03,195.03,195.03,195.03,195.03,195.03,195.03,195.03,195.03,195.03,195.03,195.03,195.03,195.03,195.03,195.03,195.03,195.03,195.03,195.03,195.03,195.03,195.03,195.03,195.03,195.03,195.03,195.03,195.03,195.03,195.03,195.03,195.03,195.03,195.03,195.03,195.03,195.03,195.03,195.03,195.03,195.03,195.03,195.03,195.03,195.03,195.03,330.03,330.03,330.03,330.03,330.03,330.03,330.03,330.03,330.03,330.03,330.03,330.03,330.03,330.03,330.03,330.03,330.03,330.03,330.03,330.03,330.03,330.03,330.03,330.03,330.03,330.03,330.03,330.03,330.03,330.03,330.03,330.03,330.03,330.03,330.03,330.03,330.03,330.03,330.03,330.03,330.03,330.03,330.03,330.03,330.03,330.03,330.03,330.03,330.03,330.03,330.03,330.03,330.03,330.03,330.03,330.03,330.03,330.03,330.03,330.03,472.05,472.05,472.05,472.05,472.05,472.05,472.05,472.05,472.05,472.05,472.05,472.05,472.05,472.05,472.05,472.05,472.05,472.05,472.05,472.05,472.05,472.05,472.05,472.05,472.05,472.05,472.05,472.05,472.05,472.05,472.05,472.05,472.05,472.05,472.05,472.05,472.05,472.05,472.05,472.05,472.05,472.05,472.05,472.05,472.05,472.05,472.05,472.05,472.05,472.05,472.05,472.05,472.05,472.05,472.05,472.05,472.05,472.05,472.05,472.05,576.37,576.37,576.37,576.37,576.37,576.37,576.37,576.37,576.37,576.37,576.37,576.37,576.37,576.37,576.37,576.37,576.37,576.37,576.37,576.37,576.37,576.37,576.37,576.37,576.37,576.37,576.37,576.37,576.37,576.37,576.37,576.37,576.37,576.37,576.37,576.37,576.37,576.37,576.37,576.37,576.37,576.37,576.37,576.37,576.37,576.37,576.37,576.37,576.37,576.37,576.37,576.37,576.37,576.37,576.37,576.37,576.37,576.37,576.37,576.37,-481.6,-481.6,-481.6,-481.6,-481.6,-481.6,-481.6,-481.6,-481.6,-481.6,-481.6,-481.6,-481.6,-481.6,-481.6,-481.6,-481.6,-481.6,-481.6,-481.6,-481.6,-481.6,-481.6,-481.6,-481.6,-481.6,-481.6,-481.6,-481.6,-481.6,-481.6,-481.6,-481.6,-481.6,-481.6,-481.6,-481.6,-481.6,-481.6,-481.6,-481.6,-481.6,-481.6,-481.6,-481.6,-481.6,-481.6,-481.6,-481.6,-481.6,-481.6,-481.6,-481.6,-481.6,-481.6,-481.6,-481.6,-481.6,-481.6,-481.6,-358.44,-358.44,-358.44,-358.44,-358.44,-358.44,-358.44,-358.44,-358.44,-358.44,-358.44,-358.44,-358.44,-358.44,-358.44,-358.44,-358.44,-358.44,-358.44,-358.44,-358.44,-358.44,-358.44,-358.44,-358.44,-358.44,-358.44,-358.44,-358.44,-358.44,-358.44,-358.44,-358.44,-358.44,-358.44,-358.44,-358.44,-358.44,-358.44,-358.44,-358.44,-358.44,-358.44,-358.44,-358.44,-358.44,-358.44,-358.44,-358.44,-358.44,-358.44,-358.44,-358.44,-358.44,-358.44,-358.44,-358.44,-358.44,-358.44,-358.44,-234.95,-234.95,-234.95,-234.95,-234.95,-234.95,-234.95,-234.95,-234.95,-234.95,-234.95,-234.95,-234.95,-234.95,-234.95,-234.95,-234.95,-234.95,-234.95,-234.95,-234.95,-234.95,-234.95,-234.95,-234.95,-234.95,-234.95,-234.95,-234.95,-234.95,-234.95,-234.95,-234.95,-234.95,-234.95,-234.95,-234.95,-234.95,-234.95,-234.95,-234.95,-234.95,-234.95,-234.95,-234.95,-234.95,-234.95,-234.95,-234.95,-234.95,-234.95,-234.95,-234.95,-234.95,-234.95,-234.95,-234.95,-234.95,-234.95,-234.95,-111.51,-111.51,-111.51,-111.51,-111.51,-111.51,-111.51,-111.51,-111.51,-111.51,-111.51,-111.51,-111.51,-111.51,-111.51,-111.51,-111.51,-111.51,-111.51,-111.51,-111.51,-111.51,-111.51,-111.51,-111.51,-111.51,-111.51,-111.51,-111.51,-111.51,-111.51,-111.51,-111.51,-111.51,-111.51,-111.51,-111.51,-111.51,-111.51,-111.51,-111.51,-111.51,-111.51,-111.51,-111.51,-111.51,-111.51,-111.51,-111.51,-111.51,-111.51,-111.51,-111.51,-111.51,-111.51,-111.51,-111.51,-111.51,-111.51,-111.51,11.87,11.87,11.87,11.87,11.87,11.87,11.87,11.87,11.87,11.87,11.87,11.87,11.87,11.87,11.87,11.87,11.87,11.87,11.87,11.87,11.87,11.87,11.87,11.87,11.87,11.87,11.87,11.87,11.87,11.87,11.87,11.87,11.87,11.87,11.87,11.87,11.87,11.87,11.87,11.87,11.87,11.87,11.87,11.87,11.87,11.87,11.87,11.87,11.87,11.87,11.87,11.87,11.87,11.87,11.87,11.87,11.87,11.87,11.87,11.87,132.03,132.03,132.03,132.03,132.03,132.03,132.03,132.03,132.03,132.03,132.03,132.03,132.03,132.03,132.03,132.03,132.03,132.03,132.03,132.03,132.03,132.03,132.03,132.03,132.03,132.03,132.03,132.03,132.03,132.03,132.03,132.03,132.03,132.03,132.03,132.03,132.03,132.03,132.03,132.03,132.03,132.03,132.03,132.03,132.03,132.03,132.03,132.03,132.03,132.03,132.03,132.03,132.03,132.03,132.03,132.03,132.03,132.03,132.03,132.03,257.31,257.31,257.31,257.31,257.31,257.31,257.31,257.31,257.31,257.31,257.31,257.31,257.31,257.31,257.31,257.31,257.31,257.31,257.31,257.31,257.31,257.31,257.31,257.31,257.31,257.31,257.31,257.31,257.31,257.31,257.31,257.31,257.31,257.31,257.31,257.31,257.31,257.31,257.31,257.31,257.31,257.31,257.31,257.31,257.31,257.31,257.31,257.31,257.31,257.31,257.31,257.31,257.31,257.31,257.31,257.31,257.31,257.31,257.31,257.31,382.35,382.35,382.35,382.35,382.35,382.35,382.35,382.35,382.35,382.35,382.35,382.35,382.35,382.35,382.35,382.35,382.35,382.35,382.35,382.35,382.35,382.35,382.35,382.35,382.35,382.35,382.35,382.35,382.35,382.35,382.35,382.35,382.35,382.35,382.35,382.35,382.35,382.35,382.35,382.35,382.35,382.35,382.35,382.35,382.35,382.35,382.35,382.35,382.35,382.35,382.35,382.35,382.35,382.35,382.35,382.35,382.35,382.35,382.35,382.35,505.27,505.27,505.27,505.27,505.27,505.27,505.27,505.27,505.27,505.27,505.27,505.27,505.27,505.27,505.27,505.27,505.27,505.27,505.27,505.27,505.27,505.27,505.27,505.27,505.27,505.27,505.27,505.27,505.27,505.27,505.27,505.27,505.27,505.27,505.27,505.27,505.27,505.27,505.27,505.27,505.27,505.27,505.27,505.27,505.27,505.27,505.27,505.27,505.27,505.27,505.27,505.27,505.27,505.27,505.27,505.27,505.27,505.27,505.27,505.27,-437.04,-437.04,-437.04,-437.04,-437.04,-437.04,-437.04,-437.04,-437.04,-437.04,-437.04,-437.04,-437.04,-437.04,-437.04,-437.04,-437.04,-437.04,-437.04,-437.04,-437.04,-437.04,-437.04,-437.04,-437.04,-437.04,-437.04,-437.04,-437.04,-437.04,-437.04,-437.04,-437.04,-437.04,-437.04,-437.04,-437.04,-437.04,-437.04,-437.04,-437.04,-437.04,-437.04,-437.04,-437.04,-437.04,-437.04,-437.04,-437.04,-437.04,-437.04,-437.04,-437.04,-437.04,-437.04,-437.04,-437.04,-437.04,-437.04,-437.04,-313.6,-313.6,-313.6,-313.6,-313.6,-313.6,-313.6,-313.6,-313.6,-313.6,-313.6,-313.6,-313.6,-313.6,-313.6,-313.6,-313.6,-313.6,-313.6,-313.6,-313.6,-313.6,-313.6,-313.6,-313.6,-313.6,-313.6,-313.6,-313.6,-313.6,-313.6,-313.6,-313.6,-313.6,-313.6,-313.6,-313.6,-313.6,-313.6,-313.6,-313.6,-313.6,-313.6,-313.6,-313.6,-313.6,-313.6,-313.6,-313.6,-313.6,-313.6,-313.6,-313.6,-313.6,-313.6,-313.6,-313.6,-313.6,-313.6,-313.6,-189.98,-189.98,-189.98,-189.98,-189.98,-189.98,-189.98,-189.98,-189.98,-189.98,-189.98,-189.98,-189.98,-189.98,-189.98,-189.98,-189.98,-189.98,-189.98,-189.98,-189.98,-189.98,-189.98,-189.98,-189.98,-189.98,-189.98,-189.98,-189.98,-189.98,-189.98,-189.98,-189.98,-189.98,-189.98,-189.98,-189.98,-189.98,-189.98,-189.98,-189.98,-189.98,-189.98,-189.98,-189.98,-189.98,-189.98,-189.98,-189.98,-189.98,-189.98,-189.98,-189.98,-189.98,-189.98,-189.98,-189.98,-189.98,-189.98,-189.98,-66.7,-66.7,-66.7,-66.7,-66.7,-66.7,-66.7,-66.7,-66.7,-66.7,-66.7,-66.7,-66.7,-66.7,-66.7,-66.7,-66.7,-66.7,-66.7,-66.7,-66.7,-66.7,-66.7,-66.7,-66.7,-66.7,-66.7,-66.7,-66.7,-66.7,-66.7,-66.7,-66.7,-66.7,-66.7,-66.7,-66.7,-66.7,-66.7,-66.7,-66.7,-66.7,-66.7,-66.7,-66.7,-66.7,-66.7,-66.7,-66.7,-66.7,-66.7,-66.7,-66.7,-66.7,-66.7,-66.7,-66.7,-66.7,-66.7,-66.7,54.26,54.26,54.26,54.26,54.26,54.26,54.26,54.26,54.26,54.26,54.26,54.26,54.26,54.26,54.26,54.26,54.26,54.26,54.26,54.26,54.26,54.26,54.26,54.26,54.26,54.26,54.26,54.26,54.26,54.26,54.26,54.26,54.26,54.26,54.26,54.26,54.26,54.26,54.26,54.26,54.26,54.26,54.26,54.26,54.26,54.26,54.26,54.26,54.26,54.26,54.26,54.26,54.26,54.26,54.26,54.26,54.26,54.26,54.26,54.26,174.47,174.47,174.47,174.47,174.47,174.47,174.47,174.47,174.47,174.47,174.47,174.47,174.47,174.47,174.47,174.47,174.47,174.47,174.47,174.47,174.47,174.47,174.47,174.47,174.47,174.47,174.47,174.47,174.47,174.47,174.47,174.47,174.47,174.47,174.47,174.47,174.47,174.47,174.47,174.47,174.47,174.47,174.47,174.47,174.47,174.47,174.47,174.47,174.47,174.47,174.47,174.47,174.47,174.47,174.47,174.47,174.47,174.47,174.47,174.47,303.41,303.41,303.41,303.41,303.41,303.41,303.41,303.41,303.41,303.41,303.41,303.41,303.41,303.41,303.41,303.41,303.41,303.41,303.41,303.41,303.41,303.41,303.41,303.41,303.41,303.41,303.41,303.41,303.41,303.41,303.41,303.41,303.41,303.41,303.41,303.41,303.41,303.41,303.41,303.41,303.41,303.41,303.41,303.41,303.41,303.41,303.41,303.41,303.41,303.41,303.41,303.41,303.41,303.41,303.41,303.41,303.41,303.41,303.41,303.41,429.76,429.76,429.76,429.76,429.76,429.76,429.76,429.76,429.76,429.76,429.76,429.76,429.76,429.76,429.76,429.76,429.76,429.76,429.76,429.76,429.76,429.76,429.76,429.76,429.76,429.76,429.76,429.76,429.76,429.76,429.76,429.76,429.76,429.76,429.76,429.76,429.76,429.76,429.76,429.76,429.76,429.76,429.76,429.76,429.76,429.76,429.76,429.76,429.76,429.76,429.76,429.76,429.76,429.76,429.76,429.76,429.76,429.76,429.76,429.76,-392.38,-392.38,-392.38,-392.38,-392.38,-392.38,-392.38,-392.38,-392.38,-392.38,-392.38,-392.38,-392.38,-392.38,-392.38,-392.38,-392.38,-392.38,-392.38,-392.38,-392.38,-392.38,-392.38,-392.38,-392.38,-392.38,-392.38,-392.38,-392.38,-392.38,-392.38,-392.38,-392.38,-392.38,-392.38,-392.38,-392.38,-392.38,-392.38,-392.38,-392.38,-392.38,-392.38,-392.38,-392.38,-392.38,-392.38,-392.38,-392.38,-392.38,-392.38,-392.38,-392.38,-392.38,-392.38,-392.38,-392.38,-392.38,-392.38,-392.38,-268.9,-268.9,-268.9,-268.9,-268.9,-268.9,-268.9,-268.9,-268.9,-268.9,-268.9,-268.9,-268.9,-268.9,-268.9,-268.9,-268.9,-268.9,-268.9,-268.9,-268.9,-268.9,-268.9,-268.9,-268.9,-268.9,-268.9,-268.9,-268.9,-268.9,-268.9,-268.9,-268.9,-268.9,-268.9,-268.9,-268.9,-268.9,-268.9,-268.9,-268.9,-268.9,-268.9,-268.9,-268.9,-268.9,-268.9,-268.9,-268.9,-268.9,-268.9,-268.9,-268.9,-268.9,-268.9,-268.9,-268.9,-268.9,-268.9,-268.9,-145.45,-145.45,-145.45,-145.45,-145.45,-145.45,-145.45,-145.45,-145.45,-145.45,-145.45,-145.45,-145.45,-145.45,-145.45,-145.45,-145.45,-145.45,-145.45,-145.45,-145.45,-145.45,-145.45,-145.45,-145.45,-145.45,-145.45,-145.45,-145.45,-145.45,-145.45,-145.45,-145.45,-145.45,-145.45,-145.45,-145.45,-145.45,-145.45,-145.45,-145.45,-145.45,-145.45,-145.45,-145.45,-145.45,-145.45,-145.45,-145.45,-145.45,-145.45,-145.45,-145.45,-145.45,-145.45,-145.45,-145.45,-145.45,-145.45,-145.45,-21.97,-21.97,-21.97,-21.97,-21.97,-21.97,-21.97,-21.97,-21.97,-21.97,-21.97,-21.97,-21.97,-21.97,-21.97,-21.97,-21.97,-21.97,-21.97,-21.97,-21.97,-21.97,-21.97,-21.97,-21.97,-21.97,-21.97,-21.97,-21.97,-21.97,-21.97,-21.97,-21.97,-21.97,-21.97,-21.97,-21.97,-21.97,-21.97,-21.97,-21.97,-21.97,-21.97,-21.97,-21.97,-21.97,-21.97,-21.97,-21.97,-21.97,-21.97,-21.97,-21.97,-21.97,-21.97,-21.97,-21.97,-21.97,-21.97,-21.97,101.04,101.04,101.04,101.04,101.04,101.04,101.04,101.04,101.04,101.04,101.04,101.04,101.04,101.04,101.04,101.04,101.04,101.04,101.04,101.04,101.04,101.04,101.04,101.04,101.04,101.04,101.04,101.04,101.04,101.04,101.04,101.04,101.04,101.04,101.04,101.04,101.04,101.04,101.04,101.04,101.04,101.04,101.04,101.04,101.04,101.04,101.04,101.04,101.04,101.04,101.04,101.04,101.04,101.04,101.04,101.04,101.04,101.04,101.04,101.04,224.58,224.58,224.58,224.58,224.58,224.58,224.58,224.58,224.58,224.58,224.58,224.58,224.58,224.58,224.58,224.58,224.58,224.58,224.58,224.58,224.58,224.58,224.58,224.58,224.58,224.58,224.58,224.58,224.58,224.58,224.58,224.58,224.58,224.58,224.58,224.58,224.58,224.58,224.58,224.58,224.58,224.58,224.58,224.58,224.58,224.58,224.58,224.58,224.58,224.58,224.58,224.58,224.58,224.58,224.58,224.58,224.58,224.58,224.58,224.58,338.44,338.44,338.44,338.44,338.44,338.44,338.44,338.44,338.44,338.44,338.44,338.44,338.44,338.44,338.44,338.44,338.44,338.44,338.44,338.44,338.44,338.44,338.44,338.44,338.44,338.44,338.44,338.44,338.44,338.44,338.44,338.44,338.44,338.44,338.44,338.44,338.44,338.44,338.44,338.44,338.44,338.44,338.44,338.44,338.44,338.44,338.44,338.44,338.44,338.44,338.44,338.44,338.44,338.44,338.44,338.44,338.44,338.44,338.44,338.44,-347.88,-347.88,-347.88,-347.88,-347.88,-347.88,-347.88,-347.88,-347.88,-347.88,-347.88,-347.88,-347.88,-347.88,-347.88,-347.88,-347.88,-347.88,-347.88,-347.88,-347.88,-347.88,-347.88,-347.88,-347.88,-347.88,-347.88,-347.88,-347.88,-347.88,-347.88,-347.88,-347.88,-347.88,-347.88,-347.88,-347.88,-347.88,-347.88,-347.88,-347.88,-347.88,-347.88,-347.88,-347.88,-347.88,-347.88,-347.88,-347.88,-347.88,-347.88,-347.88,-347.88,-347.88,-347.88,-347.88,-347.88,-347.88,-347.88,-347.88,-224.09,-224.09,-224.09,-224.09,-224.09,-224.09,-224.09,-224.09,-224.09,-224.09,-224.09,-224.09,-224.09,-224.09,-224.09,-224.09,-224.09,-224.09,-224.09,-224.09,-224.09,-224.09,-224.09,-224.09,-224.09,-224.09,-224.09,-224.09,-224.09,-224.09,-224.09,-224.09,-224.09,-224.09,-224.09,-224.09,-224.09,-224.09,-224.09,-224.09,-224.09,-224.09,-224.09,-224.09,-224.09,-224.09,-224.09,-224.09,-224.09,-224.09,-224.09,-224.09,-224.09,-224.09,-224.09,-224.09,-224.09,-224.09,-224.09,-224.09,-101.06,-101.06,-101.06,-101.06,-101.06,-101.06,-101.06,-101.06,-101.06,-101.06,-101.06,-101.06,-101.06,-101.06,-101.06,-101.06,-101.06,-101.06,-101.06,-101.06,-101.06,-101.06,-101.06,-101.06,-101.06,-101.06,-101.06,-101.06,-101.06,-101.06,-101.06,-101.06,-101.06,-101.06,-101.06,-101.06,-101.06,-101.06,-101.06,-101.06,-101.06,-101.06,-101.06,-101.06,-101.06,-101.06,-101.06,-101.06,-101.06,-101.06,-101.06,-101.06,-101.06,-101.06,-101.06,-101.06,-101.06,-101.06,-101.06,-101.06,22.11,22.11,22.11,22.11,22.11,22.11,22.11,22.11,22.11,22.11,22.11,22.11,22.11,22.11,22.11,22.11,22.11,22.11,22.11,22.11,22.11,22.11,22.11,22.11,22.11,22.11,22.11,22.11,22.11,22.11,22.11,22.11,22.11,22.11,22.11,22.11,22.11,22.11,22.11,22.11,22.11,22.11,22.11,22.11,22.11,22.11,22.11,22.11,22.11,22.11,22.11,22.11,22.11,22.11,22.11,22.11,22.11,22.11,22.11,22.11,31.25,31.25,31.25,31.25,31.25,31.25,31.25,31.25,31.25,31.25,31.25,31.25,31.25,31.25,31.25,31.25,31.25,31.25,31.25,31.25,31.25,31.25,31.25,31.25,31.25,31.25,31.25,31.25,31.25,31.25,31.25,31.25,31.25,31.25,31.25,31.25,31.25,31.25,31.25,31.25,31.25,31.25,31.25,31.25,31.25,31.25,31.25,31.25,31.25,31.25,31.25,31.25,31.25,31.25,31.25,31.25,31.25,31.25,31.25,31.25,72.37,72.37,72.37,72.37,72.37,72.37,72.37,72.37,72.37,72.37,72.37,72.37,72.37,72.37,72.37,72.37,72.37,72.37,72.37,72.37,72.37,72.37,72.37,72.37,72.37,72.37,72.37,72.37,72.37,72.37,72.37,72.37,72.37,72.37,72.37,72.37,72.37,72.37,72.37,72.37,72.37,72.37,72.37,72.37,72.37,72.37,72.37,72.37,72.37,72.37,72.37,72.37,72.37,72.37,72.37,72.37,72.37,72.37,72.37,72.37,41.6,41.6,41.6,41.6,41.6,41.6,41.6,41.6,41.6,41.6,41.6,41.6,41.6,41.6,41.6,41.6,41.6,41.6,41.6,41.6,41.6,41.6,41.6,41.6,41.6,41.6,41.6,41.6,41.6,41.6,41.6,41.6,41.6,41.6,41.6,41.6,41.6,41.6,41.6,41.6,41.6,41.6,41.6,41.6,41.6,41.6,41.6,41.6,41.6,41.6,41.6,41.6,41.6,41.6,41.6,41.6,41.6,41.6,41.6,41.6,106.94,106.94,106.94,106.94,106.94,106.94,106.94,106.94,106.94,106.94,106.94,106.94,106.94,106.94,106.94,106.94,106.94,106.94,106.94,106.94,106.94,106.94,106.94,106.94,106.94,106.94,106.94,106.94,106.94,106.94,106.94,106.94,106.94,106.94,106.94,106.94,106.94,106.94,106.94,106.94,106.94,106.94,106.94,106.94,106.94,106.94,106.94,106.94,106.94,106.94,106.94,106.94,106.94,106.94,106.94,106.94,106.94,106.94,106.94,106.94,113.19,113.19,113.19,113.19,113.19,113.19,113.19,113.19,113.19,113.19,113.19,113.19,113.19,113.19,113.19,113.19,113.19,113.19,113.19,113.19,113.19,113.19,113.19,113.19,113.19,113.19,113.19,113.19,113.19,113.19,113.19,113.19,113.19,113.19,113.19,113.19,113.19,113.19,113.19,113.19,113.19,113.19,113.19,113.19,113.19,113.19,113.19,113.19,113.19,113.19,113.19,113.19,113.19,113.19,113.19,113.19,113.19,113.19,113.19,113.19,57.2,57.2,57.2,57.2,57.2,57.2,57.2,57.2,57.2,57.2,57.2,57.2,57.2,57.2,57.2,57.2,57.2,57.2,57.2,57.2,57.2,57.2,57.2,57.2,57.2,57.2,57.2,57.2,57.2,57.2,57.2,57.2,57.2,57.2,57.2,57.2,57.2,57.2,57.2,57.2,57.2,57.2,57.2,57.2,57.2,57.2,57.2,57.2,57.2,57.2,57.2,57.2,57.2,57.2,57.2,57.2,57.2,57.2,57.2,57.2,-9.68,-9.68,-9.68,-9.68,-9.68,-9.68,-9.68,-9.68,-9.68,-9.68,-9.68,-9.68,-9.68,-9.68,-9.68,-9.68,-9.68,-9.68,-9.68,-9.68,-9.68,-9.68,-9.68,-9.68,-9.68,-9.68,-9.68,-9.68,-9.68,-9.68,-9.68,-9.68,-9.68,-9.68,-9.68,-9.68,-9.68,-9.68,-9.68,-9.68,-9.68,-9.68,-9.68,-9.68,-9.68,-9.68,-9.68,-9.68,-9.68,-9.68,-9.68,-9.68,-9.68,-9.68,-9.68,-9.68,-9.68,-9.68,-9.68,-9.68,-10.97,-10.97,-10.97,-10.97,-10.97,-10.97,-10.97,-10.97,-10.97,-10.97,-10.97,-10.97,-10.97,-10.97,-10.97,-10.97,-10.97,-10.97,-10.97,-10.97,-10.97,-10.97,-10.97,-10.97,-10.97,-10.97,-10.97,-10.97,-10.97,-10.97,-10.97,-10.97,-10.97,-10.97,-10.97,-10.97,-10.97,-10.97,-10.97,-10.97,-10.97,-10.97,-10.97,-10.97,-10.97,-10.97,-10.97,-10.97,-10.97,-10.97,-10.97,-10.97,-10.97,-10.97,-10.97,-10.97,-10.97,-10.97,-10.97,-10.97],\"y\":[-521.08,-521.08,-521.08,-521.08,-521.08,-521.08,-521.08,-521.08,-521.08,-521.08,-521.08,-521.08,-521.08,-521.08,-521.08,-521.08,-521.08,-521.08,-521.08,-521.08,-521.08,-521.08,-521.08,-521.08,-521.08,-521.08,-521.08,-521.08,-521.08,-521.08,-521.08,-521.08,-521.08,-521.08,-521.08,-521.08,-521.08,-521.08,-521.08,-521.08,-521.08,-521.08,-521.08,-521.08,-521.08,-521.08,-521.08,-521.08,-521.08,-521.08,-521.08,-521.08,-521.08,-521.08,-521.08,-521.08,-521.08,-521.08,-521.08,-521.08,-501.45,-501.45,-501.45,-501.45,-501.45,-501.45,-501.45,-501.45,-501.45,-501.45,-501.45,-501.45,-501.45,-501.45,-501.45,-501.45,-501.45,-501.45,-501.45,-501.45,-501.45,-501.45,-501.45,-501.45,-501.45,-501.45,-501.45,-501.45,-501.45,-501.45,-501.45,-501.45,-501.45,-501.45,-501.45,-501.45,-501.45,-501.45,-501.45,-501.45,-501.45,-501.45,-501.45,-501.45,-501.45,-501.45,-501.45,-501.45,-501.45,-501.45,-501.45,-501.45,-501.45,-501.45,-501.45,-501.45,-501.45,-501.45,-501.45,-501.45,-481.74,-481.74,-481.74,-481.74,-481.74,-481.74,-481.74,-481.74,-481.74,-481.74,-481.74,-481.74,-481.74,-481.74,-481.74,-481.74,-481.74,-481.74,-481.74,-481.74,-481.74,-481.74,-481.74,-481.74,-481.74,-481.74,-481.74,-481.74,-481.74,-481.74,-481.74,-481.74,-481.74,-481.74,-481.74,-481.74,-481.74,-481.74,-481.74,-481.74,-481.74,-481.74,-481.74,-481.74,-481.74,-481.74,-481.74,-481.74,-481.74,-481.74,-481.74,-481.74,-481.74,-481.74,-481.74,-481.74,-481.74,-481.74,-481.74,-481.74,-461.99,-461.99,-461.99,-461.99,-461.99,-461.99,-461.99,-461.99,-461.99,-461.99,-461.99,-461.99,-461.99,-461.99,-461.99,-461.99,-461.99,-461.99,-461.99,-461.99,-461.99,-461.99,-461.99,-461.99,-461.99,-461.99,-461.99,-461.99,-461.99,-461.99,-461.99,-461.99,-461.99,-461.99,-461.99,-461.99,-461.99,-461.99,-461.99,-461.99,-461.99,-461.99,-461.99,-461.99,-461.99,-461.99,-461.99,-461.99,-461.99,-461.99,-461.99,-461.99,-461.99,-461.99,-461.99,-461.99,-461.99,-461.99,-461.99,-461.99,-442.42,-442.42,-442.42,-442.42,-442.42,-442.42,-442.42,-442.42,-442.42,-442.42,-442.42,-442.42,-442.42,-442.42,-442.42,-442.42,-442.42,-442.42,-442.42,-442.42,-442.42,-442.42,-442.42,-442.42,-442.42,-442.42,-442.42,-442.42,-442.42,-442.42,-442.42,-442.42,-442.42,-442.42,-442.42,-442.42,-442.42,-442.42,-442.42,-442.42,-442.42,-442.42,-442.42,-442.42,-442.42,-442.42,-442.42,-442.42,-442.42,-442.42,-442.42,-442.42,-442.42,-442.42,-442.42,-442.42,-442.42,-442.42,-442.42,-442.42,-422.83,-422.83,-422.83,-422.83,-422.83,-422.83,-422.83,-422.83,-422.83,-422.83,-422.83,-422.83,-422.83,-422.83,-422.83,-422.83,-422.83,-422.83,-422.83,-422.83,-422.83,-422.83,-422.83,-422.83,-422.83,-422.83,-422.83,-422.83,-422.83,-422.83,-422.83,-422.83,-422.83,-422.83,-422.83,-422.83,-422.83,-422.83,-422.83,-422.83,-422.83,-422.83,-422.83,-422.83,-422.83,-422.83,-422.83,-422.83,-422.83,-422.83,-422.83,-422.83,-422.83,-422.83,-422.83,-422.83,-422.83,-422.83,-422.83,-422.83,-424.5,-424.5,-424.5,-424.5,-424.5,-424.5,-424.5,-424.5,-424.5,-424.5,-424.5,-424.5,-424.5,-424.5,-424.5,-424.5,-424.5,-424.5,-424.5,-424.5,-424.5,-424.5,-424.5,-424.5,-424.5,-424.5,-424.5,-424.5,-424.5,-424.5,-424.5,-424.5,-424.5,-424.5,-424.5,-424.5,-424.5,-424.5,-424.5,-424.5,-424.5,-424.5,-424.5,-424.5,-424.5,-424.5,-424.5,-424.5,-424.5,-424.5,-424.5,-424.5,-424.5,-424.5,-424.5,-424.5,-424.5,-424.5,-424.5,-424.5,-404.48,-404.48,-404.48,-404.48,-404.48,-404.48,-404.48,-404.48,-404.48,-404.48,-404.48,-404.48,-404.48,-404.48,-404.48,-404.48,-404.48,-404.48,-404.48,-404.48,-404.48,-404.48,-404.48,-404.48,-404.48,-404.48,-404.48,-404.48,-404.48,-404.48,-404.48,-404.48,-404.48,-404.48,-404.48,-404.48,-404.48,-404.48,-404.48,-404.48,-404.48,-404.48,-404.48,-404.48,-404.48,-404.48,-404.48,-404.48,-404.48,-404.48,-404.48,-404.48,-404.48,-404.48,-404.48,-404.48,-404.48,-404.48,-404.48,-404.48,-384.3,-384.3,-384.3,-384.3,-384.3,-384.3,-384.3,-384.3,-384.3,-384.3,-384.3,-384.3,-384.3,-384.3,-384.3,-384.3,-384.3,-384.3,-384.3,-384.3,-384.3,-384.3,-384.3,-384.3,-384.3,-384.3,-384.3,-384.3,-384.3,-384.3,-384.3,-384.3,-384.3,-384.3,-384.3,-384.3,-384.3,-384.3,-384.3,-384.3,-384.3,-384.3,-384.3,-384.3,-384.3,-384.3,-384.3,-384.3,-384.3,-384.3,-384.3,-384.3,-384.3,-384.3,-384.3,-384.3,-384.3,-384.3,-384.3,-384.3,-364.83,-364.83,-364.83,-364.83,-364.83,-364.83,-364.83,-364.83,-364.83,-364.83,-364.83,-364.83,-364.83,-364.83,-364.83,-364.83,-364.83,-364.83,-364.83,-364.83,-364.83,-364.83,-364.83,-364.83,-364.83,-364.83,-364.83,-364.83,-364.83,-364.83,-364.83,-364.83,-364.83,-364.83,-364.83,-364.83,-364.83,-364.83,-364.83,-364.83,-364.83,-364.83,-364.83,-364.83,-364.83,-364.83,-364.83,-364.83,-364.83,-364.83,-364.83,-364.83,-364.83,-364.83,-364.83,-364.83,-364.83,-364.83,-364.83,-364.83,-345.23,-345.23,-345.23,-345.23,-345.23,-345.23,-345.23,-345.23,-345.23,-345.23,-345.23,-345.23,-345.23,-345.23,-345.23,-345.23,-345.23,-345.23,-345.23,-345.23,-345.23,-345.23,-345.23,-345.23,-345.23,-345.23,-345.23,-345.23,-345.23,-345.23,-345.23,-345.23,-345.23,-345.23,-345.23,-345.23,-345.23,-345.23,-345.23,-345.23,-345.23,-345.23,-345.23,-345.23,-345.23,-345.23,-345.23,-345.23,-345.23,-345.23,-345.23,-345.23,-345.23,-345.23,-345.23,-345.23,-345.23,-345.23,-345.23,-345.23,-325.74,-325.74,-325.74,-325.74,-325.74,-325.74,-325.74,-325.74,-325.74,-325.74,-325.74,-325.74,-325.74,-325.74,-325.74,-325.74,-325.74,-325.74,-325.74,-325.74,-325.74,-325.74,-325.74,-325.74,-325.74,-325.74,-325.74,-325.74,-325.74,-325.74,-325.74,-325.74,-325.74,-325.74,-325.74,-325.74,-325.74,-325.74,-325.74,-325.74,-325.74,-325.74,-325.74,-325.74,-325.74,-325.74,-325.74,-325.74,-325.74,-325.74,-325.74,-325.74,-325.74,-325.74,-325.74,-325.74,-325.74,-325.74,-325.74,-325.74,-306.38,-306.38,-306.38,-306.38,-306.38,-306.38,-306.38,-306.38,-306.38,-306.38,-306.38,-306.38,-306.38,-306.38,-306.38,-306.38,-306.38,-306.38,-306.38,-306.38,-306.38,-306.38,-306.38,-306.38,-306.38,-306.38,-306.38,-306.38,-306.38,-306.38,-306.38,-306.38,-306.38,-306.38,-306.38,-306.38,-306.38,-306.38,-306.38,-306.38,-306.38,-306.38,-306.38,-306.38,-306.38,-306.38,-306.38,-306.38,-306.38,-306.38,-306.38,-306.38,-306.38,-306.38,-306.38,-306.38,-306.38,-306.38,-306.38,-306.38,-327.27,-327.27,-327.27,-327.27,-327.27,-327.27,-327.27,-327.27,-327.27,-327.27,-327.27,-327.27,-327.27,-327.27,-327.27,-327.27,-327.27,-327.27,-327.27,-327.27,-327.27,-327.27,-327.27,-327.27,-327.27,-327.27,-327.27,-327.27,-327.27,-327.27,-327.27,-327.27,-327.27,-327.27,-327.27,-327.27,-327.27,-327.27,-327.27,-327.27,-327.27,-327.27,-327.27,-327.27,-327.27,-327.27,-327.27,-327.27,-327.27,-327.27,-327.27,-327.27,-327.27,-327.27,-327.27,-327.27,-327.27,-327.27,-327.27,-327.27,-307.38,-307.38,-307.38,-307.38,-307.38,-307.38,-307.38,-307.38,-307.38,-307.38,-307.38,-307.38,-307.38,-307.38,-307.38,-307.38,-307.38,-307.38,-307.38,-307.38,-307.38,-307.38,-307.38,-307.38,-307.38,-307.38,-307.38,-307.38,-307.38,-307.38,-307.38,-307.38,-307.38,-307.38,-307.38,-307.38,-307.38,-307.38,-307.38,-307.38,-307.38,-307.38,-307.38,-307.38,-307.38,-307.38,-307.38,-307.38,-307.38,-307.38,-307.38,-307.38,-307.38,-307.38,-307.38,-307.38,-307.38,-307.38,-307.38,-307.38,-287.79,-287.79,-287.79,-287.79,-287.79,-287.79,-287.79,-287.79,-287.79,-287.79,-287.79,-287.79,-287.79,-287.79,-287.79,-287.79,-287.79,-287.79,-287.79,-287.79,-287.79,-287.79,-287.79,-287.79,-287.79,-287.79,-287.79,-287.79,-287.79,-287.79,-287.79,-287.79,-287.79,-287.79,-287.79,-287.79,-287.79,-287.79,-287.79,-287.79,-287.79,-287.79,-287.79,-287.79,-287.79,-287.79,-287.79,-287.79,-287.79,-287.79,-287.79,-287.79,-287.79,-287.79,-287.79,-287.79,-287.79,-287.79,-287.79,-287.79,-267.52,-267.52,-267.52,-267.52,-267.52,-267.52,-267.52,-267.52,-267.52,-267.52,-267.52,-267.52,-267.52,-267.52,-267.52,-267.52,-267.52,-267.52,-267.52,-267.52,-267.52,-267.52,-267.52,-267.52,-267.52,-267.52,-267.52,-267.52,-267.52,-267.52,-267.52,-267.52,-267.52,-267.52,-267.52,-267.52,-267.52,-267.52,-267.52,-267.52,-267.52,-267.52,-267.52,-267.52,-267.52,-267.52,-267.52,-267.52,-267.52,-267.52,-267.52,-267.52,-267.52,-267.52,-267.52,-267.52,-267.52,-267.52,-267.52,-267.52,-248.24,-248.24,-248.24,-248.24,-248.24,-248.24,-248.24,-248.24,-248.24,-248.24,-248.24,-248.24,-248.24,-248.24,-248.24,-248.24,-248.24,-248.24,-248.24,-248.24,-248.24,-248.24,-248.24,-248.24,-248.24,-248.24,-248.24,-248.24,-248.24,-248.24,-248.24,-248.24,-248.24,-248.24,-248.24,-248.24,-248.24,-248.24,-248.24,-248.24,-248.24,-248.24,-248.24,-248.24,-248.24,-248.24,-248.24,-248.24,-248.24,-248.24,-248.24,-248.24,-248.24,-248.24,-248.24,-248.24,-248.24,-248.24,-248.24,-248.24,-209.77,-209.77,-209.77,-209.77,-209.77,-209.77,-209.77,-209.77,-209.77,-209.77,-209.77,-209.77,-209.77,-209.77,-209.77,-209.77,-209.77,-209.77,-209.77,-209.77,-209.77,-209.77,-209.77,-209.77,-209.77,-209.77,-209.77,-209.77,-209.77,-209.77,-209.77,-209.77,-209.77,-209.77,-209.77,-209.77,-209.77,-209.77,-209.77,-209.77,-209.77,-209.77,-209.77,-209.77,-209.77,-209.77,-209.77,-209.77,-209.77,-209.77,-209.77,-209.77,-209.77,-209.77,-209.77,-209.77,-209.77,-209.77,-209.77,-209.77,-209.07,-209.07,-209.07,-209.07,-209.07,-209.07,-209.07,-209.07,-209.07,-209.07,-209.07,-209.07,-209.07,-209.07,-209.07,-209.07,-209.07,-209.07,-209.07,-209.07,-209.07,-209.07,-209.07,-209.07,-209.07,-209.07,-209.07,-209.07,-209.07,-209.07,-209.07,-209.07,-209.07,-209.07,-209.07,-209.07,-209.07,-209.07,-209.07,-209.07,-209.07,-209.07,-209.07,-209.07,-209.07,-209.07,-209.07,-209.07,-209.07,-209.07,-209.07,-209.07,-209.07,-209.07,-209.07,-209.07,-209.07,-209.07,-209.07,-209.07,-194.16,-194.12,-194.08,-194.04,-194.02,-194.01,-194.01,-194.02,-194.04,-194.08,-194.12,-194.17,-194.22,-194.26,-194.29,-194.31,-194.31,-194.29,-194.26,-194.21,-194.17,-194.16,-194.18,-194.22,-194.25,-194.29,-194.34,-194.38,-194.43,-194.47,-194.5,-194.52,-194.52,-194.52,-194.52,-194.52,-194.51,-194.49,-194.46,-194.43,-194.4,-194.35,-194.3,-194.25,-194.21,-194.18,-194.16,-194.18,-194.2,-194.23,-194.27,-194.31,-194.34,-194.38,-194.42,-194.44,-194.47,-194.49,-194.48,-194.46,-230.16,-230.16,-230.16,-230.16,-230.16,-230.16,-230.16,-230.16,-230.16,-230.16,-230.16,-230.16,-230.16,-230.16,-230.16,-230.16,-230.16,-230.16,-230.16,-230.16,-230.16,-230.16,-230.16,-230.16,-230.16,-230.16,-230.16,-230.16,-230.16,-230.16,-230.16,-230.16,-230.16,-230.16,-230.16,-230.16,-230.16,-230.16,-230.16,-230.16,-230.16,-230.16,-230.16,-230.16,-230.16,-230.16,-230.16,-230.16,-230.16,-230.16,-230.16,-230.16,-230.16,-230.16,-230.16,-230.16,-230.16,-230.16,-230.16,-230.16,-210.23,-210.23,-210.23,-210.23,-210.23,-210.23,-210.23,-210.23,-210.23,-210.23,-210.23,-210.23,-210.23,-210.23,-210.23,-210.23,-210.23,-210.23,-210.23,-210.23,-210.23,-210.23,-210.23,-210.23,-210.23,-210.23,-210.23,-210.23,-210.23,-210.23,-210.23,-210.23,-210.23,-210.23,-210.23,-210.23,-210.23,-210.23,-210.23,-210.23,-210.23,-210.23,-210.23,-210.23,-210.23,-210.23,-210.23,-210.23,-210.23,-210.23,-210.23,-210.23,-210.23,-210.23,-210.23,-210.23,-210.23,-210.23,-210.23,-210.23,-190.49,-190.49,-190.49,-190.49,-190.49,-190.49,-190.49,-190.49,-190.49,-190.49,-190.49,-190.49,-190.49,-190.49,-190.49,-190.49,-190.49,-190.49,-190.49,-190.49,-190.49,-190.49,-190.49,-190.49,-190.49,-190.49,-190.49,-190.49,-190.49,-190.49,-190.49,-190.49,-190.49,-190.49,-190.49,-190.49,-190.49,-190.49,-190.49,-190.49,-190.49,-190.49,-190.49,-190.49,-190.49,-190.49,-190.49,-190.49,-190.49,-190.49,-190.49,-190.49,-190.49,-190.49,-190.49,-190.49,-190.49,-190.49,-190.49,-190.49,-171.03,-171.03,-171.03,-171.03,-171.03,-171.03,-171.03,-171.03,-171.03,-171.03,-171.03,-171.03,-171.03,-171.03,-171.03,-171.03,-171.03,-171.03,-171.03,-171.03,-171.03,-171.03,-171.03,-171.03,-171.03,-171.03,-171.03,-171.03,-171.03,-171.03,-171.03,-171.03,-171.03,-171.03,-171.03,-171.03,-171.03,-171.03,-171.03,-171.03,-171.03,-171.03,-171.03,-171.03,-171.03,-171.03,-171.03,-171.03,-171.03,-171.03,-171.03,-171.03,-171.03,-171.03,-171.03,-171.03,-171.03,-171.03,-171.03,-171.03,-150.63,-150.63,-150.63,-150.63,-150.63,-150.63,-150.63,-150.63,-150.63,-150.63,-150.63,-150.63,-150.63,-150.63,-150.63,-150.63,-150.63,-150.63,-150.63,-150.63,-150.63,-150.63,-150.63,-150.63,-150.63,-150.63,-150.63,-150.63,-150.63,-150.63,-150.63,-150.63,-150.63,-150.63,-150.63,-150.63,-150.63,-150.63,-150.63,-150.63,-150.63,-150.63,-150.63,-150.63,-150.63,-150.63,-150.63,-150.63,-150.63,-150.63,-150.63,-150.63,-150.63,-150.63,-150.63,-150.63,-150.63,-150.63,-150.63,-150.63,-131.25,-131.25,-131.25,-131.25,-131.25,-131.25,-131.25,-131.25,-131.25,-131.25,-131.25,-131.25,-131.25,-131.25,-131.25,-131.25,-131.25,-131.25,-131.25,-131.25,-131.25,-131.25,-131.25,-131.25,-131.25,-131.25,-131.25,-131.25,-131.25,-131.25,-131.25,-131.25,-131.25,-131.25,-131.25,-131.25,-131.25,-131.25,-131.25,-131.25,-131.25,-131.25,-131.25,-131.25,-131.25,-131.25,-131.25,-131.25,-131.25,-131.25,-131.25,-131.25,-131.25,-131.25,-131.25,-131.25,-131.25,-131.25,-131.25,-131.25,-111.87,-111.87,-111.87,-111.87,-111.87,-111.87,-111.87,-111.87,-111.87,-111.87,-111.87,-111.87,-111.87,-111.87,-111.87,-111.87,-111.87,-111.87,-111.87,-111.87,-111.87,-111.87,-111.87,-111.87,-111.87,-111.87,-111.87,-111.87,-111.87,-111.87,-111.87,-111.87,-111.87,-111.87,-111.87,-111.87,-111.87,-111.87,-111.87,-111.87,-111.87,-111.87,-111.87,-111.87,-111.87,-111.87,-111.87,-111.87,-111.87,-111.87,-111.87,-111.87,-111.87,-111.87,-111.87,-111.87,-111.87,-111.87,-111.87,-111.87,-92.18,-92.18,-92.18,-92.18,-92.18,-92.18,-92.18,-92.18,-92.18,-92.18,-92.18,-92.18,-92.18,-92.18,-92.18,-92.18,-92.18,-92.18,-92.18,-92.18,-92.18,-92.18,-92.18,-92.18,-92.18,-92.18,-92.18,-92.18,-92.18,-92.18,-92.18,-92.18,-92.18,-92.18,-92.18,-92.18,-92.18,-92.18,-92.18,-92.18,-92.18,-92.18,-92.18,-92.18,-92.18,-92.18,-92.18,-92.18,-92.18,-92.18,-92.18,-92.18,-92.18,-92.18,-92.18,-92.18,-92.18,-92.18,-92.18,-92.18,-58.45,-58.45,-58.45,-58.45,-58.45,-58.45,-58.45,-58.45,-58.45,-58.45,-58.45,-58.45,-58.45,-58.45,-58.45,-58.45,-58.45,-58.45,-58.45,-58.45,-58.45,-58.45,-58.45,-58.45,-58.45,-58.45,-58.45,-58.45,-58.45,-58.45,-58.45,-58.45,-58.45,-58.45,-58.45,-58.45,-58.45,-58.45,-58.45,-58.45,-58.45,-58.45,-58.45,-58.45,-58.45,-58.45,-58.45,-58.45,-58.45,-58.45,-58.45,-58.45,-58.45,-58.45,-58.45,-58.45,-58.45,-58.45,-58.45,-58.45,-125.14,-125.14,-125.14,-125.14,-125.14,-125.14,-125.14,-125.14,-125.14,-125.14,-125.14,-125.14,-125.14,-125.14,-125.14,-125.14,-125.14,-125.14,-125.14,-125.14,-125.14,-125.14,-125.14,-125.14,-125.14,-125.14,-125.14,-125.14,-125.14,-125.14,-125.14,-125.14,-125.14,-125.14,-125.14,-125.14,-125.14,-125.14,-125.14,-125.14,-125.14,-125.14,-125.14,-125.14,-125.14,-125.14,-125.14,-125.14,-125.14,-125.14,-125.14,-125.14,-125.14,-125.14,-125.14,-125.14,-125.14,-125.14,-125.14,-125.14,-113.13,-113.13,-113.13,-113.13,-113.13,-113.13,-113.13,-113.13,-113.13,-113.13,-113.13,-113.13,-113.13,-113.13,-113.13,-113.13,-113.13,-113.13,-113.13,-113.13,-113.13,-113.13,-113.13,-113.13,-113.13,-113.13,-113.13,-113.13,-113.13,-113.13,-113.13,-113.13,-113.13,-113.13,-113.13,-113.13,-113.13,-113.13,-113.13,-113.13,-113.13,-113.13,-113.13,-113.13,-113.13,-113.13,-113.13,-113.13,-113.13,-113.13,-113.13,-113.13,-113.13,-113.13,-113.13,-113.13,-113.13,-113.13,-113.13,-113.13,-93.43,-93.43,-93.43,-93.43,-93.43,-93.43,-93.43,-93.43,-93.43,-93.43,-93.43,-93.43,-93.43,-93.43,-93.43,-93.43,-93.43,-93.43,-93.43,-93.43,-93.43,-93.43,-93.43,-93.43,-93.43,-93.43,-93.43,-93.43,-93.43,-93.43,-93.43,-93.43,-93.43,-93.43,-93.43,-93.43,-93.43,-93.43,-93.43,-93.43,-93.43,-93.43,-93.43,-93.43,-93.43,-93.43,-93.43,-93.43,-93.43,-93.43,-93.43,-93.43,-93.43,-93.43,-93.43,-93.43,-93.43,-93.43,-93.43,-93.43,-74.03,-74.03,-74.03,-74.03,-74.03,-74.03,-74.03,-74.03,-74.03,-74.03,-74.03,-74.03,-74.03,-74.03,-74.03,-74.03,-74.03,-74.03,-74.03,-74.03,-74.03,-74.03,-74.03,-74.03,-74.03,-74.03,-74.03,-74.03,-74.03,-74.03,-74.03,-74.03,-74.03,-74.03,-74.03,-74.03,-74.03,-74.03,-74.03,-74.03,-74.03,-74.03,-74.03,-74.03,-74.03,-74.03,-74.03,-74.03,-74.03,-74.03,-74.03,-74.03,-74.03,-74.03,-74.03,-74.03,-74.03,-74.03,-74.03,-74.03,-54.33,-54.33,-54.33,-54.33,-54.33,-54.33,-54.33,-54.33,-54.33,-54.33,-54.33,-54.33,-54.33,-54.33,-54.33,-54.33,-54.33,-54.33,-54.33,-54.33,-54.33,-54.33,-54.33,-54.33,-54.33,-54.33,-54.33,-54.33,-54.33,-54.33,-54.33,-54.33,-54.33,-54.33,-54.33,-54.33,-54.33,-54.33,-54.33,-54.33,-54.33,-54.33,-54.33,-54.33,-54.33,-54.33,-54.33,-54.33,-54.33,-54.33,-54.33,-54.33,-54.33,-54.33,-54.33,-54.33,-54.33,-54.33,-54.33,-54.33,-34.88,-34.88,-34.88,-34.88,-34.88,-34.88,-34.88,-34.88,-34.88,-34.88,-34.88,-34.88,-34.88,-34.88,-34.88,-34.88,-34.88,-34.88,-34.88,-34.88,-34.88,-34.88,-34.88,-34.88,-34.88,-34.88,-34.88,-34.88,-34.88,-34.88,-34.88,-34.88,-34.88,-34.88,-34.88,-34.88,-34.88,-34.88,-34.88,-34.88,-34.88,-34.88,-34.88,-34.88,-34.88,-34.88,-34.88,-34.88,-34.88,-34.88,-34.88,-34.88,-34.88,-34.88,-34.88,-34.88,-34.88,-34.88,-34.88,-34.88,-30.92,-30.92,-30.92,-30.92,-30.92,-30.92,-30.92,-30.92,-30.92,-30.92,-30.92,-30.92,-30.92,-30.92,-30.92,-30.92,-30.92,-30.92,-30.92,-30.92,-30.92,-30.92,-30.92,-30.92,-30.92,-30.92,-30.92,-30.92,-30.92,-30.92,-30.92,-30.92,-30.92,-30.92,-30.92,-30.92,-30.92,-30.92,-30.92,-30.92,-30.92,-30.92,-30.92,-30.92,-30.92,-30.92,-30.92,-30.92,-30.92,-30.92,-30.92,-30.92,-30.92,-30.92,-30.92,-30.92,-30.92,-30.92,-30.92,-30.92,5.2,5.2,5.2,5.2,5.2,5.2,5.2,5.2,5.2,5.2,5.2,5.2,5.2,5.2,5.2,5.2,5.2,5.2,5.2,5.2,5.2,5.2,5.2,5.2,5.2,5.2,5.2,5.2,5.2,5.2,5.2,5.2,5.2,5.2,5.2,5.2,5.2,5.2,5.2,5.2,5.2,5.2,5.2,5.2,5.2,5.2,5.2,5.2,5.2,5.2,5.2,5.2,5.2,5.2,5.2,5.2,5.2,5.2,5.2,5.2,13.0,13.0,13.0,13.0,13.0,13.0,13.0,13.0,13.0,13.0,13.0,13.0,13.0,13.0,13.0,13.0,13.0,13.0,13.0,13.0,13.0,13.0,13.0,13.0,13.0,13.0,13.0,13.0,13.0,13.0,13.0,13.0,13.0,13.0,13.0,13.0,13.0,13.0,13.0,13.0,13.0,13.0,13.0,13.0,13.0,13.0,13.0,13.0,13.0,13.0,13.0,13.0,13.0,13.0,13.0,13.0,13.0,13.0,13.0,13.0,55.89,55.89,55.89,55.89,55.89,55.89,55.89,55.89,55.89,55.89,55.89,55.89,55.89,55.89,55.89,55.89,55.89,55.89,55.89,55.89,55.89,55.89,55.89,55.89,55.89,55.89,55.89,55.89,55.89,55.89,55.89,55.89,55.89,55.89,55.89,55.89,55.89,55.89,55.89,55.89,55.89,55.89,55.89,55.89,55.89,55.89,55.89,55.89,55.89,55.89,55.89,55.89,55.89,55.89,55.89,55.89,55.89,55.89,55.89,55.89,-15.6,-15.6,-15.6,-15.6,-15.6,-15.6,-15.6,-15.6,-15.6,-15.6,-15.6,-15.6,-15.6,-15.6,-15.6,-15.6,-15.6,-15.6,-15.6,-15.6,-15.6,-15.6,-15.6,-15.6,-15.6,-15.6,-15.6,-15.6,-15.6,-15.6,-15.6,-15.6,-15.6,-15.6,-15.6,-15.6,-15.6,-15.6,-15.6,-15.6,-15.6,-15.6,-15.6,-15.6,-15.6,-15.6,-15.6,-15.6,-15.6,-15.6,-15.6,-15.6,-15.6,-15.6,-15.6,-15.6,-15.6,-15.6,-15.6,-15.6,3.49,3.49,3.49,3.49,3.49,3.49,3.49,3.49,3.49,3.49,3.49,3.49,3.49,3.49,3.49,3.49,3.49,3.49,3.49,3.49,3.49,3.49,3.49,3.49,3.49,3.49,3.49,3.49,3.49,3.49,3.49,3.49,3.49,3.49,3.49,3.49,3.49,3.49,3.49,3.49,3.49,3.49,3.49,3.49,3.49,3.49,3.49,3.49,3.49,3.49,3.49,3.49,3.49,3.49,3.49,3.49,3.49,3.49,3.49,3.49,23.17,23.17,23.17,23.17,23.17,23.17,23.17,23.17,23.17,23.17,23.17,23.17,23.17,23.17,23.17,23.17,23.17,23.17,23.17,23.17,23.17,23.17,23.17,23.17,23.17,23.17,23.17,23.17,23.17,23.17,23.17,23.17,23.17,23.17,23.17,23.17,23.17,23.17,23.17,23.17,23.17,23.17,23.17,23.17,23.17,23.17,23.17,23.17,23.17,23.17,23.17,23.17,23.17,23.17,23.17,23.17,23.17,23.17,23.17,23.17,43.37,43.37,43.37,43.37,43.37,43.37,43.37,43.37,43.37,43.37,43.37,43.37,43.37,43.37,43.37,43.37,43.37,43.37,43.37,43.37,43.37,43.37,43.37,43.37,43.37,43.37,43.37,43.37,43.37,43.37,43.37,43.37,43.37,43.37,43.37,43.37,43.37,43.37,43.37,43.37,43.37,43.37,43.37,43.37,43.37,43.37,43.37,43.37,43.37,43.37,43.37,43.37,43.37,43.37,43.37,43.37,43.37,43.37,43.37,43.37,62.44,62.44,62.44,62.44,62.44,62.44,62.44,62.44,62.44,62.44,62.44,62.44,62.44,62.44,62.44,62.44,62.44,62.44,62.44,62.44,62.44,62.44,62.44,62.44,62.44,62.44,62.44,62.44,62.44,62.44,62.44,62.44,62.44,62.44,62.44,62.44,62.44,62.44,62.44,62.44,62.44,62.44,62.44,62.44,62.44,62.44,62.44,62.44,62.44,62.44,62.44,62.44,62.44,62.44,62.44,62.44,62.44,62.44,62.44,62.44,82.35,82.35,82.35,82.35,82.35,82.35,82.35,82.35,82.35,82.35,82.35,82.35,82.35,82.35,82.35,82.35,82.35,82.35,82.35,82.35,82.35,82.35,82.35,82.35,82.35,82.35,82.35,82.35,82.35,82.35,82.35,82.35,82.35,82.35,82.35,82.35,82.35,82.35,82.35,82.35,82.35,82.35,82.35,82.35,82.35,82.35,82.35,82.35,82.35,82.35,82.35,82.35,82.35,82.35,82.35,82.35,82.35,82.35,82.35,82.35,125.59,125.59,125.59,125.59,125.59,125.59,125.59,125.59,125.59,125.59,125.59,125.59,125.59,125.59,125.59,125.59,125.59,125.59,125.59,125.59,125.59,125.59,125.59,125.59,125.59,125.59,125.59,125.59,125.59,125.59,125.59,125.59,125.59,125.59,125.59,125.59,125.59,125.59,125.59,125.59,125.59,125.59,125.59,125.59,125.59,125.59,125.59,125.59,125.59,125.59,125.59,125.59,125.59,125.59,125.59,125.59,125.59,125.59,125.59,125.59,127.2,127.2,127.2,127.2,127.2,127.2,127.2,127.2,127.2,127.2,127.2,127.2,127.2,127.2,127.2,127.2,127.2,127.2,127.2,127.2,127.2,127.2,127.2,127.2,127.2,127.2,127.2,127.2,127.2,127.2,127.2,127.2,127.2,127.2,127.2,127.2,127.2,127.2,127.2,127.2,127.2,127.2,127.2,127.2,127.2,127.2,127.2,127.2,127.2,127.2,127.2,127.2,127.2,127.2,127.2,127.2,127.2,127.2,127.2,127.2,127.9,127.9,127.9,127.9,127.9,127.9,127.9,127.9,127.9,127.9,127.9,127.9,127.9,127.9,127.9,127.9,127.9,127.9,127.9,127.9,127.9,127.9,127.9,127.9,127.9,127.9,127.9,127.9,127.9,127.9,127.9,127.9,127.9,127.9,127.9,127.9,127.9,127.9,127.9,127.9,127.9,127.9,127.9,127.9,127.9,127.9,127.9,127.9,127.9,127.9,127.9,127.9,127.9,127.9,127.9,127.9,127.9,127.9,127.9,127.9,170.92,170.92,170.92,170.92,170.92,170.92,170.92,170.92,170.92,170.92,170.92,170.92,170.92,170.92,170.92,170.92,170.92,170.92,170.92,170.92,170.92,170.92,170.92,170.92,170.92,170.92,170.92,170.92,170.92,170.92,170.92,170.92,170.92,170.92,170.92,170.92,170.92,170.92,170.92,170.92,170.92,170.92,170.92,170.92,170.92,170.92,170.92,170.92,170.92,170.92,170.92,170.92,170.92,170.92,170.92,170.92,170.92,170.92,170.92,170.92,101.39,101.39,101.39,101.39,101.39,101.39,101.39,101.39,101.39,101.39,101.39,101.39,101.39,101.39,101.39,101.39,101.39,101.39,101.39,101.39,101.39,101.39,101.39,101.39,101.39,101.39,101.39,101.39,101.39,101.39,101.39,101.39,101.39,101.39,101.39,101.39,101.39,101.39,101.39,101.39,101.39,101.39,101.39,101.39,101.39,101.39,101.39,101.39,101.39,101.39,101.39,101.39,101.39,101.39,101.39,101.39,101.39,101.39,101.39,101.39,120.56,120.56,120.56,120.56,120.56,120.56,120.56,120.56,120.56,120.56,120.56,120.56,120.56,120.56,120.56,120.56,120.56,120.56,120.56,120.56,120.56,120.56,120.56,120.56,120.56,120.56,120.56,120.56,120.56,120.56,120.56,120.56,120.56,120.56,120.56,120.56,120.56,120.56,120.56,120.56,120.56,120.56,120.56,120.56,120.56,120.56,120.56,120.56,120.56,120.56,120.56,120.56,120.56,120.56,120.56,120.56,120.56,120.56,120.56,120.56,140.44,140.44,140.44,140.44,140.44,140.44,140.44,140.44,140.44,140.44,140.44,140.44,140.44,140.44,140.44,140.44,140.44,140.44,140.44,140.44,140.44,140.44,140.44,140.44,140.44,140.44,140.44,140.44,140.44,140.44,140.44,140.44,140.44,140.44,140.44,140.44,140.44,140.44,140.44,140.44,140.44,140.44,140.44,140.44,140.44,140.44,140.44,140.44,140.44,140.44,140.44,140.44,140.44,140.44,140.44,140.44,140.44,140.44,140.44,140.44,159.98,159.98,159.98,159.98,159.98,159.98,159.98,159.98,159.98,159.98,159.98,159.98,159.98,159.98,159.98,159.98,159.98,159.98,159.98,159.98,159.98,159.98,159.98,159.98,159.98,159.98,159.98,159.98,159.98,159.98,159.98,159.98,159.98,159.98,159.98,159.98,159.98,159.98,159.98,159.98,159.98,159.98,159.98,159.98,159.98,159.98,159.98,159.98,159.98,159.98,159.98,159.98,159.98,159.98,159.98,159.98,159.98,159.98,159.98,159.98,179.19,179.19,179.19,179.19,179.19,179.19,179.19,179.19,179.19,179.19,179.19,179.19,179.19,179.19,179.19,179.19,179.19,179.19,179.19,179.19,179.19,179.19,179.19,179.19,179.19,179.19,179.19,179.19,179.19,179.19,179.19,179.19,179.19,179.19,179.19,179.19,179.19,179.19,179.19,179.19,179.19,179.19,179.19,179.19,179.19,179.19,179.19,179.19,179.19,179.19,179.19,179.19,179.19,179.19,179.19,179.19,179.19,179.19,179.19,179.19,202.98,202.98,202.98,202.98,202.98,202.98,202.98,202.98,202.98,202.98,202.98,202.98,202.98,202.98,202.98,202.98,202.98,202.98,202.98,202.98,202.98,202.98,202.98,202.98,202.98,202.98,202.98,202.98,202.98,202.98,202.98,202.98,202.98,202.98,202.98,202.98,202.98,202.98,202.98,202.98,202.98,202.98,202.98,202.98,202.98,202.98,202.98,202.98,202.98,202.98,202.98,202.98,202.98,202.98,202.98,202.98,202.98,202.98,202.98,202.98,211.66,211.66,211.66,211.66,211.66,211.66,211.66,211.66,211.66,211.66,211.66,211.66,211.66,211.66,211.66,211.66,211.66,211.66,211.66,211.66,211.66,211.66,211.66,211.66,211.66,211.66,211.66,211.66,211.66,211.66,211.66,211.66,211.66,211.66,211.66,211.66,211.66,211.66,211.66,211.66,211.66,211.66,211.66,211.66,211.66,211.66,211.66,211.66,211.66,211.66,211.66,211.66,211.66,211.66,211.66,211.66,211.66,211.66,211.66,211.66,238.9,238.9,238.9,238.9,238.9,238.9,238.9,238.9,238.9,238.9,238.9,238.9,238.9,238.9,238.9,238.9,238.9,238.9,238.9,238.9,238.9,238.9,238.9,238.9,238.9,238.9,238.9,238.9,238.9,238.9,238.9,238.9,238.9,238.9,238.9,238.9,238.9,238.9,238.9,238.9,238.9,238.9,238.9,238.9,238.9,238.9,238.9,238.9,238.9,238.9,238.9,238.9,238.9,238.9,238.9,238.9,238.9,238.9,238.9,238.9,257.88,257.88,257.88,257.88,257.88,257.88,257.88,257.88,257.88,257.88,257.88,257.88,257.88,257.88,257.88,257.88,257.88,257.88,257.88,257.88,257.88,257.88,257.88,257.88,257.88,257.88,257.88,257.88,257.88,257.88,257.88,257.88,257.88,257.88,257.88,257.88,257.88,257.88,257.88,257.88,257.88,257.88,257.88,257.88,257.88,257.88,257.88,257.88,257.88,257.88,257.88,257.88,257.88,257.88,257.88,257.88,257.88,257.88,257.88,257.88,217.8,217.8,217.8,217.8,217.8,217.8,217.8,217.8,217.8,217.8,217.8,217.8,217.8,217.8,217.8,217.8,217.8,217.8,217.8,217.8,217.8,217.8,217.8,217.8,217.8,217.8,217.8,217.8,217.8,217.8,217.8,217.8,217.8,217.8,217.8,217.8,217.8,217.8,217.8,217.8,217.8,217.8,217.8,217.8,217.8,217.8,217.8,217.8,217.8,217.8,217.8,217.8,217.8,217.8,217.8,217.8,217.8,217.8,217.8,217.8,237.44,237.44,237.44,237.44,237.44,237.44,237.44,237.44,237.44,237.44,237.44,237.44,237.44,237.44,237.44,237.44,237.44,237.44,237.44,237.44,237.44,237.44,237.44,237.44,237.44,237.44,237.44,237.44,237.44,237.44,237.44,237.44,237.44,237.44,237.44,237.44,237.44,237.44,237.44,237.44,237.44,237.44,237.44,237.44,237.44,237.44,237.44,237.44,237.44,237.44,237.44,237.44,237.44,237.44,237.44,237.44,237.44,237.44,237.44,237.44,257.42,257.42,257.42,257.42,257.42,257.42,257.42,257.42,257.42,257.42,257.42,257.42,257.42,257.42,257.42,257.42,257.42,257.42,257.42,257.42,257.42,257.42,257.42,257.42,257.42,257.42,257.42,257.42,257.42,257.42,257.42,257.42,257.42,257.42,257.42,257.42,257.42,257.42,257.42,257.42,257.42,257.42,257.42,257.42,257.42,257.42,257.42,257.42,257.42,257.42,257.42,257.42,257.42,257.42,257.42,257.42,257.42,257.42,257.42,257.42,276.92,276.92,276.92,276.92,276.92,276.92,276.92,276.92,276.92,276.92,276.92,276.92,276.92,276.92,276.92,276.92,276.92,276.92,276.92,276.92,276.92,276.92,276.92,276.92,276.92,276.92,276.92,276.92,276.92,276.92,276.92,276.92,276.92,276.92,276.92,276.92,276.92,276.92,276.92,276.92,276.92,276.92,276.92,276.92,276.92,276.92,276.92,276.92,276.92,276.92,276.92,276.92,276.92,276.92,276.92,276.92,276.92,276.92,276.92,276.92,292.97,292.97,292.97,292.97,292.97,292.97,292.97,292.97,292.97,292.97,292.97,292.97,292.97,292.97,292.97,292.97,292.97,292.97,292.97,292.97,292.97,292.97,292.97,292.97,292.97,292.97,292.97,292.97,292.97,292.97,292.97,292.97,292.97,292.97,292.97,292.97,292.97,292.97,292.97,292.97,292.97,292.97,292.97,292.97,292.97,292.97,292.97,292.97,292.97,292.97,292.97,292.97,292.97,292.97,292.97,292.97,292.97,292.97,292.97,292.97,315.54,315.54,315.54,315.54,315.54,315.54,315.54,315.54,315.54,315.54,315.54,315.54,315.54,315.54,315.54,315.54,315.54,315.54,315.54,315.54,315.54,315.54,315.54,315.54,315.54,315.54,315.54,315.54,315.54,315.54,315.54,315.54,315.54,315.54,315.54,315.54,315.54,315.54,315.54,315.54,315.54,315.54,315.54,315.54,315.54,315.54,315.54,315.54,315.54,315.54,315.54,315.54,315.54,315.54,315.54,315.54,315.54,315.54,315.54,315.54,335.64,335.64,335.64,335.64,335.64,335.64,335.64,335.64,335.64,335.64,335.64,335.64,335.64,335.64,335.64,335.64,335.64,335.64,335.64,335.64,335.64,335.64,335.64,335.64,335.64,335.64,335.64,335.64,335.64,335.64,335.64,335.64,335.64,335.64,335.64,335.64,335.64,335.64,335.64,335.64,335.64,335.64,335.64,335.64,335.64,335.64,335.64,335.64,335.64,335.64,335.64,335.64,335.64,335.64,335.64,335.64,335.64,335.64,335.64,335.64,351.02,351.02,351.02,351.02,351.02,351.02,351.02,351.02,351.02,351.02,351.02,351.02,351.02,351.02,351.02,351.02,351.02,351.02,351.02,351.02,351.02,351.02,351.02,351.02,351.02,351.02,351.02,351.02,351.02,351.02,351.02,351.02,351.02,351.02,351.02,351.02,351.02,351.02,351.02,351.02,351.02,351.02,351.02,351.02,351.02,351.02,351.02,351.02,351.02,351.02,351.02,351.02,351.02,351.02,351.02,351.02,351.02,351.02,351.02,351.02,334.24,334.24,334.24,334.24,334.24,334.24,334.24,334.24,334.24,334.24,334.24,334.24,334.24,334.24,334.24,334.24,334.24,334.24,334.24,334.24,334.24,334.24,334.24,334.24,334.24,334.24,334.24,334.24,334.24,334.24,334.24,334.24,334.24,334.24,334.24,334.24,334.24,334.24,334.24,334.24,334.24,334.24,334.24,334.24,334.24,334.24,334.24,334.24,334.24,334.24,334.24,334.24,334.24,334.24,334.24,334.24,334.24,334.24,334.24,334.24,354.24,354.24,354.24,354.24,354.24,354.24,354.24,354.24,354.24,354.24,354.24,354.24,354.24,354.24,354.24,354.24,354.24,354.24,354.24,354.24,354.24,354.24,354.24,354.24,354.24,354.24,354.24,354.24,354.24,354.24,354.24,354.24,354.24,354.24,354.24,354.24,354.24,354.24,354.24,354.24,354.24,354.24,354.24,354.24,354.24,354.24,354.24,354.24,354.24,354.24,354.24,354.24,354.24,354.24,354.24,354.24,354.24,354.24,354.24,354.24,374.24,374.24,374.24,374.24,374.24,374.24,374.24,374.24,374.24,374.24,374.24,374.24,374.24,374.24,374.24,374.24,374.24,374.24,374.24,374.24,374.24,374.24,374.24,374.24,374.24,374.24,374.24,374.24,374.24,374.24,374.24,374.24,374.24,374.24,374.24,374.24,374.24,374.24,374.24,374.24,374.24,374.24,374.24,374.24,374.24,374.24,374.24,374.24,374.24,374.24,374.24,374.24,374.24,374.24,374.24,374.24,374.24,374.24,374.24,374.24,393.24,393.24,393.24,393.24,393.24,393.24,393.24,393.24,393.24,393.24,393.24,393.24,393.24,393.24,393.24,393.24,393.24,393.24,393.24,393.24,393.24,393.24,393.24,393.24,393.24,393.24,393.24,393.24,393.24,393.24,393.24,393.24,393.24,393.24,393.24,393.24,393.24,393.24,393.24,393.24,393.24,393.24,393.24,393.24,393.24,393.24,393.24,393.24,393.24,393.24,393.24,393.24,393.24,393.24,393.24,393.24,393.24,393.24,393.24,393.24,412.79,412.79,412.79,412.79,412.79,412.79,412.79,412.79,412.79,412.79,412.79,412.79,412.79,412.79,412.79,412.79,412.79,412.79,412.79,412.79,412.79,412.79,412.79,412.79,412.79,412.79,412.79,412.79,412.79,412.79,412.79,412.79,412.79,412.79,412.79,412.79,412.79,412.79,412.79,412.79,412.79,412.79,412.79,412.79,412.79,412.79,412.79,412.79,412.79,412.79,412.79,412.79,412.79,412.79,412.79,412.79,412.79,412.79,412.79,412.79,432.35,432.35,432.35,432.35,432.35,432.35,432.35,432.35,432.35,432.35,432.35,432.35,432.35,432.35,432.35,432.35,432.35,432.35,432.35,432.35,432.35,432.35,432.35,432.35,432.35,432.35,432.35,432.35,432.35,432.35,432.35,432.35,432.35,432.35,432.35,432.35,432.35,432.35,432.35,432.35,432.35,432.35,432.35,432.35,432.35,432.35,432.35,432.35,432.35,432.35,432.35,432.35,432.35,432.35,432.35,432.35,432.35,432.35,432.35,432.35,463.72,463.72,463.72,463.72,463.72,463.72,463.72,463.72,463.72,463.72,463.72,463.72,463.72,463.72,463.72,463.72,463.72,463.72,463.72,463.72,463.72,463.72,463.72,463.72,463.72,463.72,463.72,463.72,463.72,463.72,463.72,463.72,463.72,463.72,463.72,463.72,463.72,463.72,463.72,463.72,463.72,463.72,463.72,463.72,463.72,463.72,463.72,463.72,463.72,463.72,463.72,463.72,463.72,463.72,463.72,463.72,463.72,463.72,463.72,463.72,451.52,451.52,451.52,451.52,451.52,451.52,451.52,451.52,451.52,451.52,451.52,451.52,451.52,451.52,451.52,451.52,451.52,451.52,451.52,451.52,451.52,451.52,451.52,451.52,451.52,451.52,451.52,451.52,451.52,451.52,451.52,451.52,451.52,451.52,451.52,451.52,451.52,451.52,451.52,451.52,451.52,451.52,451.52,451.52,451.52,451.52,451.52,451.52,451.52,451.52,451.52,451.52,451.52,451.52,451.52,451.52,451.52,451.52,451.52,451.52,470.86,470.86,470.86,470.86,470.86,470.86,470.86,470.86,470.86,470.86,470.86,470.86,470.86,470.86,470.86,470.86,470.86,470.86,470.86,470.86,470.86,470.86,470.86,470.86,470.86,470.86,470.86,470.86,470.86,470.86,470.86,470.86,470.86,470.86,470.86,470.86,470.86,470.86,470.86,470.86,470.86,470.86,470.86,470.86,470.86,470.86,470.86,470.86,470.86,470.86,470.86,470.86,470.86,470.86,470.86,470.86,470.86,470.86,470.86,470.86,490.22,490.22,490.22,490.22,490.22,490.22,490.22,490.22,490.22,490.22,490.22,490.22,490.22,490.22,490.22,490.22,490.22,490.22,490.22,490.22,490.22,490.22,490.22,490.22,490.22,490.22,490.22,490.22,490.22,490.22,490.22,490.22,490.22,490.22,490.22,490.22,490.22,490.22,490.22,490.22,490.22,490.22,490.22,490.22,490.22,490.22,490.22,490.22,490.22,490.22,490.22,490.22,490.22,490.22,490.22,490.22,490.22,490.22,490.22,490.22,509.5,509.5,509.5,509.5,509.5,509.5,509.5,509.5,509.5,509.5,509.5,509.5,509.5,509.5,509.5,509.5,509.5,509.5,509.5,509.5,509.5,509.5,509.5,509.5,509.5,509.5,509.5,509.5,509.5,509.5,509.5,509.5,509.5,509.5,509.5,509.5,509.5,509.5,509.5,509.5,509.5,509.5,509.5,509.5,509.5,509.5,509.5,509.5,509.5,509.5,509.5,509.5,509.5,509.5,509.5,509.5,509.5,509.5,509.5,509.5,-72.93,-72.93,-72.93,-72.93,-72.93,-72.93,-72.93,-72.93,-72.93,-72.93,-72.93,-72.93,-72.93,-72.93,-72.93,-72.93,-72.93,-72.93,-72.93,-72.93,-72.93,-72.93,-72.93,-72.93,-72.93,-72.93,-72.93,-72.93,-72.93,-72.93,-72.93,-72.93,-72.93,-72.93,-72.93,-72.93,-72.93,-72.93,-72.93,-72.93,-72.93,-72.93,-72.93,-72.93,-72.93,-72.93,-72.93,-72.93,-72.93,-72.93,-72.93,-72.93,-72.93,-72.93,-72.93,-72.93,-72.93,-72.93,-72.93,-72.93,-66.6,-66.6,-66.6,-66.6,-66.6,-66.6,-66.6,-66.6,-66.6,-66.6,-66.6,-66.6,-66.6,-66.6,-66.6,-66.6,-66.6,-66.6,-66.6,-66.6,-66.6,-66.6,-66.6,-66.6,-66.6,-66.6,-66.6,-66.6,-66.6,-66.6,-66.6,-66.6,-66.6,-66.6,-66.6,-66.6,-66.6,-66.6,-66.6,-66.6,-66.6,-66.6,-66.6,-66.6,-66.6,-66.6,-66.6,-66.6,-66.6,-66.6,-66.6,-66.6,-66.6,-66.6,-66.6,-66.6,-66.6,-66.6,-66.6,-66.6,35.49,35.49,35.49,35.49,35.49,35.49,35.49,35.49,35.49,35.49,35.49,35.49,35.49,35.49,35.49,35.49,35.49,35.49,35.49,35.49,35.49,35.49,35.49,35.49,35.49,35.49,35.49,35.49,35.49,35.49,35.49,35.49,35.49,35.49,35.49,35.49,35.49,35.49,35.49,35.49,35.49,35.49,35.49,35.49,35.49,35.49,35.49,35.49,35.49,35.49,35.49,35.49,35.49,35.49,35.49,35.49,35.49,35.49,35.49,35.49,27.09,27.09,27.09,27.09,27.09,27.09,27.09,27.09,27.09,27.09,27.09,27.09,27.09,27.09,27.09,27.09,27.09,27.09,27.09,27.09,27.09,27.09,27.09,27.09,27.09,27.09,27.09,27.09,27.09,27.09,27.09,27.09,27.09,27.09,27.09,27.09,27.09,27.09,27.09,27.09,27.09,27.09,27.09,27.09,27.09,27.09,27.09,27.09,27.09,27.09,27.09,27.09,27.09,27.09,27.09,27.09,27.09,27.09,27.09,27.09,-60.47,-60.47,-60.47,-60.47,-60.47,-60.47,-60.47,-60.47,-60.47,-60.47,-60.47,-60.47,-60.47,-60.47,-60.47,-60.47,-60.47,-60.47,-60.47,-60.47,-60.47,-60.47,-60.47,-60.47,-60.47,-60.47,-60.47,-60.47,-60.47,-60.47,-60.47,-60.47,-60.47,-60.47,-60.47,-60.47,-60.47,-60.47,-60.47,-60.47,-60.47,-60.47,-60.47,-60.47,-60.47,-60.47,-60.47,-60.47,-60.47,-60.47,-60.47,-60.47,-60.47,-60.47,-60.47,-60.47,-60.47,-60.47,-60.47,-60.47,-105.52,-105.52,-105.52,-105.52,-105.52,-105.52,-105.52,-105.52,-105.52,-105.52,-105.52,-105.52,-105.52,-105.52,-105.52,-105.52,-105.52,-105.52,-105.52,-105.52,-105.52,-105.52,-105.52,-105.52,-105.52,-105.52,-105.52,-105.52,-105.52,-105.52,-105.52,-105.52,-105.52,-105.52,-105.52,-105.52,-105.52,-105.52,-105.52,-105.52,-105.52,-105.52,-105.52,-105.52,-105.52,-105.52,-105.52,-105.52,-105.52,-105.52,-105.52,-105.52,-105.52,-105.52,-105.52,-105.52,-105.52,-105.52,-105.52,-105.52,-79.5,-79.5,-79.5,-79.5,-79.5,-79.5,-79.5,-79.5,-79.5,-79.5,-79.5,-79.5,-79.5,-79.5,-79.5,-79.5,-79.5,-79.5,-79.5,-79.5,-79.5,-79.5,-79.5,-79.5,-79.5,-79.5,-79.5,-79.5,-79.5,-79.5,-79.5,-79.5,-79.5,-79.5,-79.5,-79.5,-79.5,-79.5,-79.5,-79.5,-79.5,-79.5,-79.5,-79.5,-79.5,-79.5,-79.5,-79.5,-79.5,-79.5,-79.5,-79.5,-79.5,-79.5,-79.5,-79.5,-79.5,-79.5,-79.5,-79.5,6.72,6.72,6.72,6.72,6.72,6.72,6.72,6.72,6.72,6.72,6.72,6.72,6.72,6.72,6.72,6.72,6.72,6.72,6.72,6.72,6.72,6.72,6.72,6.72,6.72,6.72,6.72,6.72,6.72,6.72,6.72,6.72,6.72,6.72,6.72,6.72,6.72,6.72,6.72,6.72,6.72,6.72,6.72,6.72,6.72,6.72,6.72,6.72,6.72,6.72,6.72,6.72,6.72,6.72,6.72,6.72,6.72,6.72,6.72,6.72],\"z\":[496.03,479.01,461.99,444.97,427.95,410.93,393.91,376.88,359.86,342.84,325.82,308.8,291.78,274.76,257.74,240.72,223.7,206.68,189.66,172.64,155.62,138.59,121.57,104.55,87.53,70.51,53.49,36.47,19.45,2.43,-14.59,-31.61,-48.63,-65.65,-82.68,-99.7,-116.72,-133.74,-150.76,-167.78,-184.8,-201.82,-218.84,-235.86,-252.88,-269.9,-286.92,-303.95,-320.97,-337.99,-355.01,-372.03,-389.05,-406.07,-423.09,-440.11,-457.13,-474.15,-491.17,-504.4,500.07,483.05,466.03,449.01,431.99,414.97,397.95,380.93,363.91,346.89,329.87,312.85,295.83,278.8,261.78,244.76,227.74,210.72,193.7,176.68,159.66,142.64,125.62,108.6,91.58,74.56,57.54,40.51,23.49,6.47,-10.55,-27.57,-44.59,-61.61,-78.63,-95.65,-112.67,-129.69,-146.71,-163.73,-180.76,-197.78,-214.8,-231.82,-248.84,-265.86,-282.88,-299.9,-316.92,-333.94,-350.96,-367.98,-385.0,-402.03,-419.05,-436.07,-453.09,-470.11,-487.13,-504.15,499.23,482.21,465.19,448.17,431.15,414.13,397.11,380.09,363.07,346.05,329.03,312.01,294.99,277.96,260.94,243.92,226.9,209.88,192.86,175.84,158.82,141.8,124.78,107.76,90.74,73.72,56.7,39.67,22.65,5.63,-11.39,-28.41,-45.43,-62.45,-79.47,-96.49,-113.51,-130.53,-147.55,-164.57,-181.6,-198.62,-215.64,-232.66,-249.68,-266.7,-283.72,-300.74,-317.76,-334.78,-351.8,-368.82,-385.84,-402.87,-419.89,-436.91,-453.93,-470.95,-487.97,-504.99,498.66,481.64,464.62,447.6,430.58,413.56,396.54,379.52,362.5,345.48,328.46,311.44,294.42,277.39,260.37,243.35,226.33,209.31,192.29,175.27,158.25,141.23,124.21,107.19,90.17,73.15,56.13,39.1,22.08,5.06,-11.96,-28.98,-46.0,-63.02,-80.04,-97.06,-114.08,-131.1,-148.12,-165.14,-182.17,-199.19,-216.21,-233.23,-250.25,-267.27,-284.29,-301.31,-318.33,-335.35,-352.37,-369.39,-386.41,-403.44,-420.46,-437.48,-454.5,-471.52,-488.54,-505.56,501.46,484.44,467.42,450.4,433.38,416.36,399.34,382.32,365.3,348.28,331.26,314.24,297.22,280.19,263.17,246.15,229.13,212.11,195.09,178.07,161.05,144.03,127.01,109.99,92.97,75.95,58.93,41.9,24.88,7.86,-9.16,-26.18,-43.2,-60.22,-77.24,-94.26,-111.28,-128.3,-145.32,-162.34,-179.37,-196.39,-213.41,-230.43,-247.45,-264.47,-281.49,-298.51,-315.53,-332.55,-349.57,-366.59,-383.61,-400.64,-417.66,-434.68,-451.7,-468.72,-485.74,-502.76,499.51,482.49,465.47,448.45,431.43,414.41,397.39,380.37,363.35,346.33,329.31,312.29,295.27,278.24,261.22,244.2,227.18,210.16,193.14,176.12,159.1,142.08,125.06,108.04,91.02,74.0,56.98,39.95,22.93,5.91,-11.11,-28.13,-45.15,-62.17,-79.19,-96.21,-113.23,-130.25,-147.27,-164.29,-181.32,-198.34,-215.36,-232.38,-249.4,-266.42,-283.44,-300.46,-317.48,-334.5,-351.52,-368.54,-385.56,-402.59,-419.61,-436.63,-453.65,-470.67,-487.69,-504.71,500.59,483.57,466.55,449.53,432.51,415.49,398.47,381.45,364.43,347.41,330.39,313.37,296.35,279.32,262.3,245.28,228.26,211.24,194.22,177.2,160.18,143.16,126.14,109.12,92.1,75.08,58.06,41.03,24.01,6.99,-10.03,-27.05,-44.07,-61.09,-78.11,-95.13,-112.15,-129.17,-146.19,-163.21,-180.24,-197.26,-214.28,-231.3,-248.32,-265.34,-282.36,-299.38,-316.4,-333.42,-350.44,-367.46,-384.48,-401.51,-418.53,-435.55,-452.57,-469.59,-486.61,-503.63,498.63,481.61,464.59,447.56,430.54,413.52,396.5,379.48,362.46,345.44,328.42,311.4,294.38,277.36,260.34,243.32,226.29,209.27,192.25,175.23,158.21,141.19,124.17,107.15,90.13,73.11,56.09,39.07,22.05,5.02,-12.0,-29.02,-46.04,-63.06,-80.08,-97.1,-114.12,-131.14,-148.16,-165.18,-182.2,-199.22,-216.24,-233.27,-250.29,-267.31,-284.33,-301.35,-318.37,-335.39,-352.41,-369.43,-386.45,-403.47,-420.49,-437.51,-454.54,-471.56,-490.38,-507.4,500.02,482.99,465.97,448.95,431.93,414.91,397.89,380.87,363.85,346.83,329.81,312.79,295.77,278.75,261.72,244.7,227.68,210.66,193.64,176.62,159.6,142.58,125.56,108.54,91.52,74.5,57.48,40.46,23.43,6.41,-10.61,-27.63,-44.65,-61.67,-78.69,-95.71,-112.73,-129.75,-146.77,-163.79,-180.81,-197.84,-214.86,-231.88,-248.9,-265.92,-282.94,-299.96,-316.98,-334.0,-351.02,-368.04,-385.06,-402.08,-419.11,-436.13,-453.15,-470.17,-487.19,-504.83,497.71,480.69,463.67,446.65,429.63,412.61,395.59,378.57,361.55,344.53,327.51,310.49,293.47,276.44,259.42,242.4,225.38,208.36,191.34,174.32,157.3,140.28,123.26,106.24,89.22,72.2,55.18,38.15,21.13,4.11,-12.91,-29.93,-46.95,-63.97,-80.99,-98.01,-115.03,-132.05,-149.07,-166.09,-183.12,-200.14,-217.16,-234.18,-251.2,-268.22,-285.24,-302.26,-319.28,-336.3,-353.32,-370.34,-387.36,-404.39,-421.41,-438.43,-455.45,-472.47,-489.49,-506.51,499.83,482.81,465.79,448.77,431.75,414.73,397.71,380.69,363.67,346.65,329.63,312.61,295.59,278.56,261.54,244.52,227.5,210.48,193.46,176.44,159.42,142.4,125.38,108.36,91.34,74.32,57.3,40.27,23.25,6.23,-10.79,-27.81,-44.83,-61.85,-78.87,-95.89,-112.91,-129.93,-146.95,-163.97,-181.0,-198.02,-215.04,-232.06,-249.08,-266.1,-283.12,-300.14,-317.16,-334.18,-351.2,-368.22,-385.24,-402.27,-419.29,-436.31,-453.33,-470.35,-487.37,-504.39,498.44,481.42,464.4,447.38,430.36,413.34,396.32,379.3,362.28,345.26,328.24,311.22,294.2,277.17,260.15,243.13,226.11,209.09,192.07,175.05,158.03,141.01,123.99,106.97,89.95,72.93,55.91,38.88,21.86,4.84,-12.18,-29.2,-46.22,-63.24,-80.26,-97.28,-114.3,-131.32,-148.34,-165.36,-182.39,-199.41,-216.43,-233.45,-250.47,-267.49,-284.51,-301.53,-318.55,-335.57,-352.59,-369.61,-386.63,-403.66,-420.68,-437.7,-454.72,-471.74,-488.76,-505.78,495.13,478.11,461.09,444.07,427.05,410.03,393.01,375.99,358.97,341.95,324.93,307.91,290.89,273.86,256.84,239.82,222.8,205.78,188.76,171.74,154.72,137.7,120.68,103.66,86.64,69.62,52.6,35.57,18.55,1.53,-15.49,-32.51,-49.53,-66.55,-83.57,-100.59,-117.61,-134.63,-151.65,-168.67,-185.7,-202.72,-219.74,-236.76,-253.78,-270.8,-287.82,-304.84,-321.86,-338.88,-355.9,-372.92,-389.94,-406.97,-423.99,-441.01,-458.03,-475.05,-492.07,-509.09,499.59,482.57,465.55,448.53,431.51,414.49,397.47,380.45,363.43,346.41,329.39,312.37,295.35,278.32,261.3,244.28,227.26,210.24,193.22,176.2,159.18,142.16,125.14,108.12,91.1,74.08,57.06,40.03,23.01,5.99,-11.03,-28.05,-45.07,-62.09,-79.11,-96.13,-113.15,-130.17,-147.19,-164.21,-181.24,-198.26,-215.28,-232.3,-249.32,-266.34,-283.36,-300.38,-317.4,-334.42,-351.44,-368.46,-385.48,-402.51,-419.53,-436.55,-453.57,-470.59,-487.61,-504.63,504.02,487.0,469.98,452.96,435.94,418.92,401.9,384.88,367.86,350.84,333.82,316.8,299.78,282.75,265.73,248.71,231.69,214.67,197.65,180.63,163.61,146.59,129.57,112.55,95.65,78.63,61.61,44.58,27.56,10.54,-6.48,-23.5,-40.52,-57.54,-74.56,-91.58,-108.6,-125.62,-142.64,-159.66,-176.69,-193.71,-210.73,-227.75,-244.77,-261.79,-278.81,-295.83,-312.85,-329.87,-346.89,-363.91,-380.93,-397.96,-414.98,-432.0,-449.02,-466.04,-483.06,-500.08,497.78,480.51,463.49,446.47,429.45,412.43,395.41,378.39,361.37,344.35,327.33,310.31,293.29,276.26,259.24,242.22,225.2,208.3,191.28,174.26,157.24,140.22,123.2,106.18,89.16,72.14,55.11,38.09,21.07,4.05,-12.97,-29.99,-47.01,-64.03,-81.05,-98.07,-115.09,-132.11,-149.13,-166.15,-183.18,-200.2,-217.22,-234.24,-251.26,-268.28,-285.3,-302.32,-319.34,-336.36,-353.38,-370.4,-387.29,-404.32,-421.34,-438.36,-455.38,-472.4,-489.42,-506.44,500.43,483.1,466.08,449.06,432.04,415.02,398.0,380.98,363.96,346.94,329.92,312.9,295.88,278.85,261.83,244.81,227.79,210.77,193.75,176.73,159.71,142.69,125.67,108.65,91.63,74.61,57.59,40.56,23.54,6.52,-10.5,-27.52,-44.54,-61.56,-78.58,-95.6,-112.62,-129.64,-146.66,-163.68,-180.71,-197.73,-214.75,-231.77,-248.79,-265.81,-282.83,-299.85,-316.87,-333.89,-350.91,-367.93,-384.95,-401.98,-419.0,-436.02,-453.04,-470.06,-487.08,-504.1,498.9,481.88,464.86,447.84,430.82,413.8,396.78,379.76,362.74,345.72,328.7,311.68,294.66,277.63,260.61,243.59,226.57,209.55,192.53,175.51,158.49,141.47,124.45,107.43,90.41,73.39,56.37,39.34,22.32,5.3,-11.72,-28.74,-45.76,-62.78,-79.8,-96.82,-113.84,-130.86,-147.88,-164.9,-181.93,-198.95,-215.97,-232.99,-250.01,-267.03,-284.05,-301.07,-318.09,-335.11,-352.13,-369.15,-386.17,-403.2,-420.22,-437.24,-454.26,-471.28,-488.3,-505.32,496.94,479.92,462.9,445.88,428.86,411.84,394.82,377.8,360.78,343.76,326.74,309.72,292.7,275.67,258.65,241.63,224.61,207.59,190.57,173.55,156.53,139.51,122.49,105.47,88.45,71.43,54.41,37.38,20.36,3.34,-13.68,-30.7,-47.72,-64.74,-81.76,-98.78,-115.8,-132.82,-149.84,-166.86,-183.89,-200.91,-217.93,-234.95,-251.97,-268.99,-286.01,-303.03,-320.05,-337.07,-354.09,-371.11,-388.13,-405.16,-422.18,-439.2,-456.22,-473.24,-490.26,-507.28,498.42,481.4,464.38,447.36,430.34,413.32,396.3,379.28,362.26,345.24,328.22,311.2,294.18,277.15,260.13,243.11,226.09,209.07,192.05,175.03,158.01,140.99,123.97,106.95,89.93,72.91,55.89,38.86,21.84,4.82,-12.2,-29.22,-46.24,-63.26,-80.28,-97.3,-114.32,-131.34,-148.36,-165.38,-182.41,-199.43,-216.45,-233.47,-250.49,-267.51,-284.53,-301.55,-318.57,-335.59,-352.61,-369.63,-386.65,-403.68,-420.7,-437.72,-454.74,-471.76,-488.78,-505.8,516.67,499.65,482.63,465.61,448.59,431.57,414.55,397.53,380.51,363.49,346.47,329.45,312.43,295.4,278.38,261.36,244.34,227.32,210.3,193.28,176.26,159.24,142.22,125.2,108.18,91.16,74.14,57.11,40.09,23.07,6.05,-10.97,-27.99,-45.01,-62.03,-79.05,-96.07,-113.09,-130.11,-147.13,-164.16,-181.18,-198.2,-215.22,-232.24,-249.26,-266.28,-281.3,-300.32,-315.34,-334.36,-351.38,-368.4,-385.43,-402.45,-417.46,-436.49,-451.51,-470.53,-487.55,497.6,480.58,463.56,446.54,429.52,412.5,395.48,378.46,361.44,344.42,327.4,310.38,293.36,276.33,259.31,242.29,225.27,208.25,191.23,174.21,157.19,140.17,123.15,106.13,89.11,72.09,55.07,38.04,21.02,4.0,-13.02,-30.04,-47.06,-64.08,-81.1,-98.12,-115.14,-132.16,-149.18,-166.2,-183.23,-200.25,-217.27,-234.29,-251.31,-268.33,-285.35,-302.37,-319.39,-336.41,-353.43,-370.45,-387.47,-404.5,-421.52,-438.54,-455.56,-472.58,-489.6,-506.62,500.53,483.51,466.49,449.47,432.45,415.43,398.41,381.39,364.37,347.35,330.33,313.31,296.29,279.26,262.24,245.22,228.2,211.18,194.16,177.14,160.12,143.1,126.08,109.06,92.04,75.02,58.0,40.97,23.95,6.93,-10.09,-27.11,-44.13,-61.15,-78.17,-95.19,-112.21,-129.23,-146.25,-163.27,-180.3,-197.32,-214.34,-231.36,-248.38,-265.4,-282.42,-299.44,-316.46,-333.48,-350.5,-367.52,-384.54,-401.57,-418.59,-435.61,-452.63,-469.65,-486.67,-503.69,501.48,484.46,467.44,450.42,433.4,416.38,399.36,382.34,365.32,348.3,331.28,314.26,297.23,280.21,263.19,246.17,229.15,212.13,195.11,178.09,161.07,144.05,127.03,110.01,92.99,75.96,58.94,41.92,24.9,7.88,-9.14,-26.03,-42.93,-59.95,-76.97,-93.99,-110.88,-127.9,-144.92,-161.95,-178.97,-195.99,-213.01,-230.03,-247.05,-264.07,-281.09,-298.11,-315.13,-332.15,-349.17,-366.19,-383.22,-400.24,-417.26,-434.15,-451.07,-467.97,-484.99,-502.01,502.27,485.25,468.23,451.21,434.19,417.17,400.15,383.13,366.11,349.09,332.07,315.05,298.03,281.0,263.98,246.96,229.94,212.92,195.9,178.88,161.86,144.84,127.82,110.8,93.78,76.76,59.73,42.71,25.69,8.67,-8.35,-25.37,-42.39,-59.41,-76.43,-93.45,-110.47,-127.49,-144.51,-161.54,-178.56,-195.58,-212.6,-229.62,-246.64,-263.66,-280.68,-297.57,-314.59,-331.49,-348.51,-365.53,-382.55,-399.58,-416.6,-433.48,-450.5,-467.52,-484.54,-501.56,497.25,480.23,463.21,446.19,429.17,412.15,395.13,378.11,361.09,344.07,327.05,310.03,293.01,275.98,258.96,241.94,224.92,207.9,190.88,173.86,156.84,139.82,122.8,105.78,88.76,71.74,54.72,37.69,20.67,3.65,-13.37,-30.39,-47.41,-64.43,-81.45,-98.47,-115.49,-132.51,-149.53,-166.55,-183.58,-200.6,-217.62,-234.64,-251.66,-268.68,-285.7,-302.72,-319.74,-336.76,-353.78,-370.8,-387.82,-404.85,-421.87,-438.89,-455.91,-472.93,-489.95,-506.97,493.65,476.63,459.61,442.59,425.57,408.55,391.53,374.51,357.49,340.47,323.45,306.43,289.41,272.38,255.36,238.34,221.32,204.3,187.28,170.26,153.24,136.22,119.2,102.18,85.16,68.14,51.12,34.09,17.07,0.05,-16.97,-33.99,-51.01,-68.03,-85.05,-102.07,-119.09,-136.11,-153.13,-170.15,-187.18,-204.2,-221.22,-238.24,-255.26,-272.28,-289.3,-306.32,-323.34,-340.36,-357.38,-374.4,-391.42,-408.45,-425.47,-442.49,-459.51,-476.53,-493.55,-510.57,498.34,481.01,463.99,446.97,429.95,412.93,395.91,378.89,361.87,344.85,327.83,310.81,293.79,276.76,259.74,242.72,225.7,208.68,191.66,174.64,157.62,140.6,123.58,106.56,89.54,72.52,55.5,38.47,21.45,4.43,-12.59,-29.61,-46.63,-63.65,-80.67,-97.69,-114.71,-131.73,-148.75,-165.77,-182.8,-199.82,-216.84,-233.86,-250.88,-267.9,-284.92,-301.94,-318.96,-335.98,-353.0,-370.02,-387.04,-404.07,-421.09,-438.11,-455.13,-472.15,-489.17,-506.19,501.58,485.56,467.54,451.52,433.5,417.48,399.46,383.44,365.42,349.4,331.38,315.36,297.33,281.31,263.29,247.27,229.25,213.23,195.21,179.19,161.17,145.15,127.13,111.11,93.09,77.07,59.04,43.02,25.0,8.98,-9.04,-25.06,-43.08,-59.1,-77.12,-93.14,-111.16,-127.18,-145.21,-161.22,-179.25,-195.27,-213.29,-229.31,-247.33,-263.35,-281.37,-297.39,-315.41,-331.43,-349.45,-365.47,-383.5,-399.52,-417.54,-433.56,-451.58,-467.6,-485.62,-501.64,501.85,484.83,467.81,450.79,433.77,416.75,399.73,382.71,365.69,348.67,331.65,314.63,297.61,280.58,263.56,246.54,229.52,212.5,195.48,178.46,161.44,144.42,127.4,110.38,93.36,76.34,59.32,42.29,25.27,8.25,-8.77,-25.79,-42.81,-59.83,-76.85,-93.87,-110.89,-127.91,-144.93,-161.95,-178.98,-196.0,-213.02,-230.04,-247.06,-264.08,-281.1,-298.12,-315.14,-332.16,-349.18,-366.2,-383.22,-400.25,-417.27,-434.29,-451.31,-468.33,-485.35,-502.37,499.6,482.58,465.56,448.54,431.52,414.5,397.48,380.46,363.44,346.42,329.4,312.38,295.36,278.33,261.31,244.29,227.27,210.25,193.23,176.21,159.19,142.17,125.15,108.13,91.11,74.09,57.07,40.04,23.02,6.0,-11.02,-28.04,-45.06,-62.08,-79.1,-96.12,-113.14,-130.16,-147.18,-164.2,-181.23,-198.25,-215.27,-232.29,-249.31,-266.33,-283.35,-300.37,-317.39,-334.41,-351.43,-368.45,-385.47,-402.5,-419.52,-436.54,-453.56,-470.58,-487.6,-504.62,500.67,483.65,466.63,449.61,432.59,415.57,398.55,381.53,364.51,347.49,330.47,313.45,296.43,279.4,262.38,245.36,228.34,211.32,194.3,177.28,160.26,143.24,126.22,109.2,92.18,75.16,58.14,41.11,24.09,7.07,-9.95,-26.97,-43.99,-61.01,-78.03,-95.05,-112.07,-129.09,-146.11,-163.13,-180.16,-197.18,-214.2,-231.22,-248.24,-265.26,-282.28,-299.3,-316.32,-333.34,-350.36,-367.38,-384.4,-401.43,-418.45,-435.47,-452.49,-469.51,-486.53,-503.55,500.13,483.11,466.09,449.07,432.05,415.03,398.01,380.99,363.97,346.95,329.93,312.91,295.89,278.86,261.84,244.82,227.8,210.78,193.76,176.74,159.72,142.7,125.68,108.66,91.64,74.62,57.6,40.57,23.55,6.53,-10.49,-27.51,-44.53,-61.55,-78.57,-95.59,-112.61,-129.63,-146.65,-163.67,-180.7,-197.72,-214.74,-231.76,-248.78,-265.8,-282.82,-299.84,-316.86,-333.88,-350.9,-367.92,-384.94,-401.97,-418.99,-436.01,-453.03,-470.05,-487.07,-504.09,523.42,506.4,489.38,472.36,455.34,438.32,421.3,404.28,387.26,370.24,353.22,336.2,319.18,302.15,285.13,268.11,251.09,234.07,217.05,200.03,183.01,165.99,148.97,131.95,114.93,97.91,80.89,63.86,46.84,29.82,12.8,-4.22,-21.24,-38.26,-55.28,-72.3,-89.32,-106.34,-123.36,-140.38,-157.41,-174.43,-191.45,-208.47,-225.49,-242.51,-259.53,-276.55,-293.57,-310.59,-327.61,-344.63,-361.65,-378.68,-395.7,-412.72,-429.74,-446.76,-463.78,-480.8,502.7,485.68,468.66,451.64,434.62,417.6,400.58,383.56,366.54,349.52,332.5,315.48,298.46,281.43,264.41,247.39,230.37,213.35,196.33,179.31,162.29,145.27,128.25,111.23,94.21,77.19,60.17,43.14,26.12,9.1,-7.92,-24.94,-41.96,-58.98,-76.0,-93.02,-110.04,-127.06,-144.08,-161.1,-178.13,-195.15,-212.17,-229.19,-246.21,-263.23,-280.25,-297.27,-314.29,-331.31,-348.33,-365.35,-382.37,-399.4,-416.42,-433.44,-450.46,-467.48,-484.5,-501.52,500.97,483.95,466.93,449.91,432.89,415.87,398.85,381.83,364.81,347.79,330.77,313.75,296.73,279.7,262.68,245.66,228.64,211.62,194.6,177.58,160.56,143.54,126.52,109.5,92.48,75.46,58.44,41.41,24.39,7.37,-9.65,-26.67,-43.69,-60.71,-77.73,-94.75,-111.77,-128.79,-145.81,-162.83,-179.86,-196.88,-213.9,-230.92,-247.94,-264.96,-281.98,-299.0,-316.02,-333.04,-350.06,-367.08,-384.1,-401.13,-418.15,-435.17,-452.19,-469.21,-486.23,-503.25,504.09,487.07,470.05,453.03,436.01,418.99,401.97,384.95,367.93,350.91,333.89,316.87,299.85,282.82,265.8,248.78,231.76,214.74,197.72,180.7,163.68,146.66,129.64,112.62,95.6,78.58,61.56,44.53,27.51,10.49,-6.53,-23.55,-40.57,-57.59,-74.61,-91.63,-108.65,-125.67,-142.69,-159.71,-176.74,-193.76,-210.78,-227.8,-244.82,-261.84,-278.86,-295.88,-312.9,-329.92,-346.94,-363.96,-380.98,-398.01,-415.03,-432.05,-449.07,-466.09,-483.11,-500.13,491.4,474.38,457.36,440.34,423.32,406.3,389.28,372.26,355.24,338.22,321.2,304.18,287.16,270.13,253.11,236.09,219.07,202.05,185.03,168.01,150.99,133.97,116.95,99.93,82.91,65.89,48.87,31.84,14.82,-2.2,-19.22,-36.24,-53.26,-70.28,-87.3,-104.32,-121.34,-138.36,-155.38,-172.4,-189.43,-206.45,-223.47,-240.49,-257.51,-274.53,-291.55,-308.57,-325.59,-342.61,-359.63,-376.65,-393.67,-410.7,-427.72,-444.74,-461.76,-478.78,-495.8,-512.82,501.73,484.71,467.69,450.67,433.65,416.63,399.61,382.59,365.57,348.55,331.53,314.51,297.49,280.46,263.44,246.42,229.4,212.38,195.36,178.34,161.32,144.3,127.28,110.26,93.24,76.22,59.2,42.17,25.15,8.13,-8.89,-25.91,-42.93,-59.95,-76.97,-93.99,-111.01,-128.03,-145.05,-162.07,-179.1,-196.12,-213.14,-230.16,-247.18,-264.2,-281.22,-298.24,-315.26,-332.28,-349.3,-366.32,-383.34,-400.37,-417.39,-434.41,-451.43,-468.45,-485.47,-502.49,502.79,485.76,468.74,451.72,434.7,417.68,400.66,383.64,366.62,349.6,332.58,315.56,298.54,281.52,264.5,247.47,230.45,213.43,196.41,179.39,162.37,145.35,128.33,111.31,94.29,77.27,60.25,43.23,26.2,9.18,-7.84,-24.86,-41.88,-58.9,-75.92,-92.94,-109.96,-126.98,-144.0,-161.02,-178.04,-195.07,-212.09,-229.11,-246.13,-263.15,-280.17,-297.19,-314.21,-331.23,-348.25,-365.27,-382.29,-399.31,-416.34,-433.36,-450.38,-467.4,-484.42,-502.14,502.67,485.64,468.62,451.6,434.58,417.56,400.54,383.52,366.5,349.48,332.46,315.44,298.42,281.4,264.37,247.35,230.33,213.31,196.29,179.27,162.25,145.23,128.21,111.19,94.17,77.15,60.13,43.1,26.08,9.06,-7.96,-24.98,-42.0,-59.02,-76.04,-93.06,-110.08,-127.1,-144.12,-161.14,-178.17,-195.19,-212.21,-229.23,-246.25,-263.27,-280.29,-297.31,-314.33,-331.35,-348.37,-365.39,-382.41,-399.43,-416.46,-433.48,-450.5,-467.52,-484.54,-502.01,501.8,484.78,467.76,450.74,433.72,416.7,399.68,382.66,365.64,348.62,331.6,314.58,297.56,280.53,263.51,246.49,229.47,212.45,195.43,178.41,161.39,144.37,127.35,110.33,93.31,76.29,59.27,42.24,25.22,8.2,-8.82,-25.84,-42.86,-59.88,-76.9,-93.92,-110.94,-127.96,-144.98,-162.0,-179.03,-196.05,-213.07,-230.09,-247.11,-264.13,-281.15,-298.17,-315.19,-332.21,-349.23,-366.25,-383.27,-400.3,-417.32,-434.34,-451.36,-468.38,-485.4,-502.42,502.61,485.59,468.57,451.54,434.52,417.5,400.48,383.46,366.44,349.42,332.4,315.38,298.36,281.34,264.32,247.3,230.27,213.25,196.23,179.21,162.19,145.17,128.15,111.13,94.11,77.09,60.07,43.05,26.03,9.0,-8.02,-25.04,-42.06,-59.08,-76.1,-93.12,-110.14,-127.16,-144.18,-161.2,-178.22,-195.24,-212.26,-229.29,-246.31,-263.33,-280.35,-297.37,-314.39,-331.41,-348.43,-365.45,-382.47,-399.49,-416.51,-433.53,-450.56,-467.58,-486.4,-503.42,500.84,483.81,466.79,449.77,432.75,415.73,398.71,381.69,364.67,347.65,330.63,313.61,296.59,279.57,262.54,245.52,228.5,211.48,194.46,177.44,160.42,143.4,126.38,109.36,92.34,75.32,58.3,41.27,24.25,7.23,-9.79,-26.81,-43.83,-60.85,-77.87,-94.89,-111.91,-128.93,-145.95,-162.97,-179.99,-197.02,-214.04,-231.06,-248.08,-265.1,-282.12,-299.14,-316.16,-333.18,-350.2,-367.22,-384.24,-401.26,-418.29,-435.31,-452.33,-469.35,-486.37,-503.89,495.81,478.79,461.77,444.75,427.73,410.71,393.69,376.67,359.65,342.63,325.61,308.59,291.57,274.54,257.52,240.5,223.48,206.46,189.44,172.42,155.4,138.38,121.36,104.34,87.32,70.3,53.28,36.25,19.23,2.21,-14.81,-31.83,-48.85,-65.87,-82.89,-99.91,-116.93,-133.95,-150.97,-167.99,-185.02,-202.04,-219.06,-236.08,-253.1,-270.12,-287.14,-304.16,-321.18,-338.2,-355.22,-372.24,-389.26,-406.29,-423.31,-440.33,-457.35,-474.37,-491.39,-508.41,501.66,484.64,467.62,450.6,433.58,416.56,399.54,382.52,365.5,348.48,331.46,314.44,297.42,280.39,263.37,246.35,229.33,212.31,195.29,178.27,161.25,144.23,127.21,110.19,93.17,76.15,59.13,42.1,25.08,8.06,-8.96,-25.98,-43.0,-60.02,-77.04,-94.06,-111.08,-128.1,-145.12,-162.14,-179.17,-196.19,-213.21,-230.23,-247.25,-264.27,-281.29,-298.31,-315.33,-332.35,-349.37,-366.39,-383.41,-400.44,-417.46,-434.48,-451.5,-468.52,-485.54,-502.56,501.83,484.81,467.79,450.77,433.75,416.73,399.71,382.69,365.67,348.65,331.63,314.61,297.59,280.56,263.54,246.52,229.5,212.48,195.46,178.44,161.42,144.4,127.38,110.36,93.34,76.32,59.3,42.27,25.25,8.23,-8.79,-25.81,-42.83,-59.85,-76.87,-93.89,-110.91,-127.93,-144.95,-161.97,-179.0,-196.02,-213.04,-230.06,-247.08,-264.1,-281.12,-298.14,-315.16,-332.18,-349.2,-366.22,-383.24,-400.27,-417.29,-434.31,-451.33,-468.35,-485.37,-502.39,500.87,483.85,466.83,449.8,432.78,415.76,398.74,381.72,364.7,347.68,330.66,313.64,296.62,279.6,262.58,245.56,228.53,211.51,194.49,177.47,160.45,143.43,126.41,109.39,92.37,75.35,58.33,41.31,24.29,7.26,-9.76,-26.78,-43.8,-60.82,-77.84,-94.86,-111.88,-128.9,-145.92,-162.94,-179.96,-196.98,-214.01,-231.03,-248.05,-265.07,-282.09,-299.11,-316.13,-333.15,-350.17,-367.19,-384.21,-401.23,-418.25,-435.28,-452.3,-469.32,-486.34,-504.86,504.27,487.25,470.23,453.21,436.19,419.17,402.15,385.13,368.11,351.09,334.07,317.05,300.03,283.0,265.98,248.96,231.94,214.92,197.9,180.88,163.86,146.84,129.82,112.8,95.78,78.76,61.74,44.71,27.69,10.67,-6.35,-23.37,-40.39,-57.41,-74.43,-91.45,-108.47,-125.49,-142.51,-159.53,-176.56,-193.58,-210.6,-227.62,-244.64,-261.66,-278.68,-295.7,-312.72,-329.74,-346.76,-363.78,-380.8,-397.83,-414.85,-431.87,-448.89,-465.91,-482.93,-499.95,494.04,477.02,460.0,442.98,425.96,408.94,391.92,374.9,357.88,340.86,323.84,306.82,289.8,272.77,255.75,238.73,221.71,204.69,187.67,170.65,153.63,136.61,119.59,102.57,85.55,68.53,51.51,34.48,17.46,0.44,-16.58,-33.6,-50.62,-67.64,-84.66,-101.68,-118.7,-135.72,-152.74,-169.76,-186.79,-203.81,-220.83,-237.85,-254.87,-271.89,-288.91,-305.93,-322.95,-339.97,-356.99,-374.01,-391.03,-408.06,-425.08,-442.1,-459.12,-476.14,-493.16,-510.18,502.05,485.03,468.01,450.99,433.97,416.95,399.93,382.91,365.89,348.87,331.85,314.83,297.81,280.78,263.76,246.74,229.72,212.7,195.68,178.66,161.64,144.62,127.6,110.58,93.56,76.54,59.51,42.49,25.47,8.45,-8.57,-25.59,-42.61,-59.63,-76.65,-93.67,-110.69,-127.71,-144.73,-161.76,-178.78,-195.8,-212.82,-229.84,-246.86,-263.88,-280.9,-297.92,-314.94,-331.96,-348.98,-366.0,-383.02,-400.05,-417.07,-434.09,-451.11,-468.13,-484.92,-501.94,498.06,481.04,464.02,447.0,429.98,412.96,395.94,378.92,361.9,344.88,327.86,310.84,293.82,276.79,259.77,242.75,225.73,208.71,191.69,174.67,157.65,140.63,123.61,106.59,89.57,72.55,55.53,38.5,21.48,4.46,-12.56,-29.58,-46.6,-63.62,-80.64,-97.66,-114.68,-131.7,-148.72,-165.74,-182.77,-199.79,-216.81,-233.83,-250.85,-267.87,-284.89,-301.91,-318.93,-335.95,-352.97,-369.99,-387.01,-404.04,-421.06,-438.08,-455.1,-472.12,-489.14,-506.16,500.06,483.04,466.02,449.0,431.98,414.96,397.94,380.92,363.9,346.88,329.86,312.84,295.82,278.79,261.77,244.75,227.73,210.71,193.69,176.67,159.65,142.63,125.61,108.59,91.57,74.55,57.53,40.5,23.48,6.46,-10.56,-27.58,-44.6,-61.62,-78.64,-95.66,-112.68,-129.7,-146.72,-163.74,-180.77,-197.79,-214.81,-231.83,-248.85,-265.87,-282.89,-299.91,-316.93,-333.95,-350.97,-367.99,-385.01,-402.04,-419.06,-436.08,-453.1,-470.12,-487.14,-504.16,500.53,483.51,466.49,449.47,432.45,415.43,398.41,381.39,364.37,347.35,330.33,313.31,296.29,279.26,262.24,245.22,228.2,211.18,194.16,177.14,160.12,143.1,126.08,109.06,92.04,75.02,58.0,40.97,23.95,6.93,-10.09,-27.11,-44.13,-61.15,-78.17,-95.19,-112.21,-129.23,-146.25,-163.27,-180.3,-197.32,-214.34,-231.36,-248.38,-265.4,-282.42,-299.44,-316.46,-333.48,-350.5,-367.52,-384.54,-401.57,-418.59,-435.61,-452.63,-469.65,-486.67,-503.69,502.34,485.32,468.3,451.28,434.26,417.24,400.22,383.2,366.18,349.16,332.14,315.12,298.1,281.07,264.05,247.03,230.01,212.99,195.97,178.95,161.93,144.91,127.89,110.87,93.85,76.83,59.8,42.78,25.76,8.74,-8.28,-25.3,-42.32,-59.34,-76.36,-93.38,-110.4,-127.42,-144.44,-161.47,-178.49,-195.51,-212.53,-229.55,-246.57,-263.59,-280.61,-297.63,-314.65,-331.67,-348.69,-365.71,-382.74,-399.76,-416.78,-433.8,-450.32,-467.34,-484.36,-501.58,502.74,485.72,468.69,451.67,434.65,417.63,400.61,383.59,366.57,349.55,332.53,315.51,298.49,281.47,264.45,247.42,230.4,213.38,196.36,179.34,162.32,145.3,128.28,111.26,94.24,77.22,60.2,43.18,26.15,9.13,-7.89,-24.91,-41.93,-58.95,-75.97,-92.99,-110.01,-127.03,-144.05,-161.07,-178.09,-195.12,-212.14,-229.16,-246.18,-263.2,-280.22,-297.24,-314.26,-331.28,-348.3,-365.32,-382.34,-399.36,-416.39,-433.41,-450.43,-467.45,-484.47,-502.39,504.43,487.4,470.38,453.36,436.34,419.32,402.3,385.28,368.26,351.24,334.22,317.2,300.18,283.16,266.13,249.11,232.09,215.07,198.05,181.03,164.01,146.99,129.97,112.95,95.93,78.91,61.89,44.86,27.84,10.82,-6.2,-23.22,-40.24,-57.26,-74.28,-91.3,-108.32,-125.34,-142.36,-159.38,-176.41,-193.43,-210.45,-227.47,-244.49,-261.51,-278.53,-295.55,-312.57,-329.59,-346.61,-363.63,-380.65,-397.67,-414.7,-431.72,-448.74,-465.76,-482.78,-500.2,498.54,481.52,464.5,447.48,430.46,413.44,396.42,379.4,362.38,345.36,328.34,311.32,294.3,277.27,260.25,243.23,226.21,209.19,192.17,175.15,158.13,141.11,124.09,107.07,90.05,73.03,56.01,38.98,21.96,4.94,-12.08,-29.1,-46.12,-63.14,-80.16,-97.18,-114.2,-131.22,-148.24,-165.26,-182.29,-199.31,-216.33,-233.35,-250.37,-267.39,-284.41,-301.43,-318.45,-335.47,-352.49,-369.51,-386.53,-403.56,-420.58,-437.6,-454.62,-471.64,-488.66,-505.68,506.23,489.21,472.19,455.17,438.15,421.13,404.11,387.09,370.07,353.05,336.03,319.01,301.99,284.96,267.94,250.92,233.9,216.88,199.86,182.84,165.82,148.8,131.78,114.76,97.74,80.72,63.7,46.67,29.65,12.63,-4.39,-21.41,-38.43,-55.45,-72.47,-89.49,-106.51,-123.53,-140.55,-157.57,-174.6,-191.62,-208.64,-225.66,-242.68,-259.7,-276.72,-293.74,-310.76,-327.78,-344.8,-361.82,-378.84,-395.87,-412.89,-429.91,-446.93,-463.95,-480.97,-497.99,501.47,484.44,467.77,450.4,433.38,416.36,399.34,382.32,365.3,348.28,331.26,314.24,297.22,280.2,263.18,246.15,229.13,212.11,195.09,178.07,161.05,144.03,127.01,109.99,92.97,75.95,58.93,41.91,24.88,7.86,-9.16,-26.18,-43.2,-60.22,-77.24,-94.26,-111.28,-128.3,-145.32,-162.34,-179.36,-196.39,-213.41,-230.43,-247.45,-264.47,-281.49,-298.51,-315.53,-332.55,-349.57,-366.59,-383.61,-400.63,-417.66,-434.68,-451.7,-468.72,-485.74,-503.46,501.19,484.17,467.15,450.13,433.11,416.09,399.07,382.05,365.03,348.01,330.99,313.97,296.95,279.92,262.9,245.88,228.86,211.84,194.82,177.8,160.78,143.76,126.74,109.72,92.7,75.68,58.66,41.63,24.61,7.59,-9.43,-26.45,-43.47,-60.49,-77.51,-94.53,-111.55,-128.57,-145.59,-162.61,-179.64,-196.66,-213.68,-230.7,-247.72,-264.74,-281.76,-298.78,-315.8,-332.82,-349.84,-366.86,-383.88,-400.91,-417.93,-434.95,-451.97,-468.99,-486.01,-503.03,501.35,484.33,467.31,450.29,433.27,416.45,399.23,382.46,365.19,348.17,331.15,314.13,297.11,280.08,263.06,246.24,229.02,212.2,194.98,178.21,160.94,143.92,126.9,109.88,92.86,75.84,58.82,41.79,24.77,7.75,-9.27,-26.29,-43.31,-60.33,-77.35,-94.37,-111.39,-128.41,-145.43,-162.2,-179.48,-196.5,-213.52,-230.54,-247.56,-264.58,-281.6,-298.62,-315.64,-332.66,-349.68,-366.7,-383.72,-400.75,-417.77,-434.79,-451.81,-468.83,-485.85,-502.87,497.82,480.8,463.78,446.76,429.74,412.72,395.7,378.68,361.66,344.64,327.62,310.6,293.58,276.55,259.53,242.51,225.49,208.47,191.45,174.43,157.41,140.39,123.37,106.35,89.33,72.31,55.29,38.26,21.24,4.22,-12.8,-29.82,-46.84,-63.86,-80.88,-97.9,-114.92,-131.94,-148.96,-165.98,-183.01,-200.03,-217.05,-234.07,-251.09,-268.11,-285.13,-302.15,-319.17,-336.19,-353.21,-370.23,-387.25,-404.28,-421.3,-438.32,-455.34,-472.36,-489.38,-506.4,524.56,507.53,490.51,473.49,456.47,439.45,422.43,405.41,388.39,371.37,354.35,337.33,320.31,303.29,286.26,269.24,252.22,235.2,218.18,201.16,184.14,167.12,150.1,133.08,116.06,99.04,82.02,64.99,47.97,30.95,13.93,-3.09,-20.11,-37.13,-54.15,-71.17,-88.19,-105.21,-122.23,-139.25,-156.28,-173.3,-190.32,-207.34,-224.36,-241.38,-258.4,-275.42,-292.44,-309.46,-326.48,-343.5,-360.52,-377.54,-394.57,-411.59,-428.61,-445.63,-462.65,-480.07,512.74,495.72,478.7,461.68,444.66,427.64,410.62,393.6,376.58,359.56,342.54,325.52,308.5,291.47,274.45,257.43,240.41,223.39,206.37,189.35,172.33,155.31,138.29,121.27,104.25,87.23,70.21,53.18,36.16,19.14,2.12,-14.9,-31.92,-48.94,-65.96,-82.98,-100.0,-117.02,-134.04,-151.06,-168.09,-185.11,-202.13,-219.15,-236.17,-253.19,-270.21,-287.23,-304.25,-321.27,-338.29,-355.31,-372.33,-389.36,-406.38,-423.4,-440.42,-457.44,-474.46,-491.48,512.95,495.93,478.91,461.89,444.87,427.85,410.83,393.81,376.79,359.77,342.75,325.73,308.71,291.68,274.66,257.64,240.62,223.6,206.58,189.56,172.54,155.52,138.5,121.48,104.46,87.44,70.42,53.39,36.37,19.35,2.33,-14.69,-31.71,-48.73,-65.75,-82.77,-99.79,-116.81,-133.83,-150.85,-167.88,-184.9,-201.92,-218.94,-235.96,-252.98,-270.0,-287.02,-304.04,-321.06,-338.08,-355.1,-372.12,-389.15,-406.17,-423.19,-440.21,-457.23,-474.25,-491.27,506.14,489.12,472.1,455.08,438.06,421.04,404.02,387.0,369.98,352.96,335.94,318.92,301.9,284.87,267.85,250.83,233.81,216.79,199.77,182.75,165.73,148.71,131.69,114.67,97.65,80.63,63.61,46.58,29.56,12.54,-4.48,-21.5,-38.52,-55.54,-72.56,-89.58,-106.6,-123.62,-140.64,-157.66,-174.69,-191.71,-208.73,-225.75,-242.77,-259.79,-276.81,-293.83,-310.85,-327.87,-344.89,-361.91,-378.93,-395.96,-412.98,-430.0,-447.02,-464.04,-481.06,-498.08,502.79,485.77,468.75,451.73,434.71,417.69,400.67,383.65,366.63,349.61,332.59,315.57,298.55,281.52,264.5,247.48,230.46,213.44,196.42,179.4,162.38,145.36,128.34,111.32,94.3,77.28,60.26,43.23,26.21,9.19,-7.83,-24.85,-41.87,-58.89,-75.91,-92.93,-109.95,-126.97,-143.99,-161.01,-178.04,-195.06,-212.08,-229.1,-246.12,-263.14,-280.16,-297.18,-314.2,-331.22,-348.24,-365.26,-382.28,-399.31,-416.33,-433.35,-450.37,-467.39,-484.41,-501.43,501.54,484.51,467.49,450.47,433.45,416.43,399.41,382.39,365.37,348.35,331.33,314.31,297.29,280.27,263.24,246.22,229.2,212.18,195.16,178.14,161.12,144.1,127.08,110.06,93.04,76.02,59.0,41.97,24.95,7.93,-9.09,-26.11,-43.13,-60.15,-77.17,-94.19,-111.21,-128.23,-145.25,-162.27,-179.3,-196.32,-213.34,-230.36,-247.38,-264.4,-281.42,-298.44,-315.46,-332.48,-349.5,-366.52,-383.54,-400.57,-417.59,-434.61,-451.63,-468.65,-485.67,-502.89,502.09,485.07,468.04,451.02,434.0,416.98,399.96,382.94,365.92,348.9,331.88,314.86,297.84,280.82,263.8,246.77,229.75,212.73,195.71,178.69,161.67,144.65,127.63,110.61,93.59,76.57,59.55,42.53,25.5,8.48,-8.54,-25.56,-42.58,-59.6,-76.62,-93.64,-110.66,-127.68,-144.7,-161.72,-178.74,-195.77,-212.79,-229.81,-246.83,-263.85,-280.87,-297.89,-314.91,-331.93,-348.95,-365.97,-382.99,-400.01,-417.03,-434.06,-451.08,-468.1,-485.12,-503.14,499.81,482.79,465.77,448.75,431.73,414.71,397.69,380.67,363.65,346.63,329.61,312.59,295.57,278.54,261.52,244.5,227.48,210.46,193.44,176.42,159.4,142.38,125.36,108.34,91.32,74.3,57.28,40.25,23.23,6.21,-10.81,-27.83,-44.85,-61.87,-78.89,-95.91,-112.93,-129.95,-146.97,-163.99,-181.02,-198.04,-215.06,-232.08,-249.1,-266.12,-283.14,-300.16,-317.18,-334.2,-351.22,-368.24,-385.26,-402.29,-419.31,-436.33,-453.35,-470.37,-487.39,-504.41,504.42,487.39,470.37,453.35,436.33,419.31,402.29,385.27,368.25,351.23,334.21,317.19,300.17,283.15,266.13,249.1,232.08,215.06,198.04,181.02,164.0,146.98,129.96,112.94,95.92,78.9,61.88,44.86,27.83,10.81,-6.21,-23.23,-40.25,-57.27,-74.29,-91.31,-108.33,-125.35,-142.37,-159.39,-176.41,-193.44,-210.46,-227.48,-244.5,-261.52,-278.54,-295.56,-312.58,-329.6,-346.62,-363.64,-380.66,-397.68,-414.71,-431.73,-448.75,-465.77,-482.79,-500.51,497.06,480.04,463.02,446.0,428.98,411.96,394.94,377.92,360.9,343.88,326.86,309.84,292.82,275.79,258.77,241.75,224.73,207.71,190.69,173.67,156.65,139.63,122.61,105.59,88.57,71.55,54.53,37.5,20.48,3.46,-13.56,-30.58,-47.6,-64.62,-81.64,-98.66,-115.68,-132.7,-149.72,-166.74,-183.77,-200.79,-217.81,-234.83,-251.85,-268.87,-285.89,-302.91,-319.93,-336.95,-353.97,-370.99,-388.01,-405.04,-422.06,-439.08,-456.1,-473.12,-490.14,-507.16,505.72,488.7,471.68,454.66,437.64,420.62,403.6,386.58,369.56,352.54,335.52,318.5,301.48,284.45,267.43,250.41,233.39,216.37,199.35,182.33,165.31,148.29,131.27,114.25,97.23,80.21,63.19,46.16,29.14,12.12,-4.9,-21.92,-38.94,-55.96,-72.98,-90.0,-107.02,-124.04,-141.06,-158.08,-175.11,-192.13,-209.15,-226.17,-243.19,-260.21,-277.23,-294.25,-311.27,-328.29,-345.31,-362.33,-379.35,-396.38,-413.4,-430.42,-447.44,-464.46,-481.48,-498.5,502.01,484.98,467.96,450.94,433.92,416.9,399.88,382.86,365.84,348.82,331.8,314.78,297.76,280.74,263.71,246.69,229.67,212.65,195.63,178.61,161.59,144.57,127.55,110.53,93.51,76.49,59.47,42.44,25.42,8.4,-8.62,-25.64,-42.66,-59.68,-76.7,-93.72,-110.74,-127.76,-144.78,-161.8,-178.83,-195.85,-212.87,-229.89,-246.91,-263.93,-280.95,-297.97,-314.99,-332.01,-349.03,-366.05,-383.07,-400.09,-417.12,-434.14,-451.16,-468.18,-485.2,-502.62,502.42,485.4,468.38,451.36,434.34,417.32,400.3,383.28,366.26,349.24,332.22,315.2,298.18,281.15,264.13,247.11,230.09,213.07,196.05,179.03,162.01,144.99,127.97,110.95,93.93,76.91,59.89,42.86,25.84,8.82,-8.2,-25.22,-42.24,-59.26,-76.28,-93.3,-110.32,-127.34,-144.36,-161.38,-178.41,-195.43,-212.45,-229.47,-246.49,-263.51,-280.53,-297.55,-314.57,-331.59,-348.61,-365.63,-382.65,-399.68,-416.7,-433.72,-450.74,-467.76,-484.78,-501.8,501.49,484.46,467.44,450.42,433.4,416.38,399.36,382.34,365.32,348.3,331.28,314.26,297.24,280.22,263.19,246.17,229.15,212.13,195.11,178.09,161.07,144.05,127.03,110.01,92.99,75.97,58.95,41.92,24.9,7.88,-9.14,-26.16,-43.18,-60.2,-77.22,-94.24,-111.26,-128.28,-145.3,-162.32,-179.34,-196.37,-213.39,-230.41,-247.43,-264.45,-281.47,-298.49,-315.51,-332.53,-349.55,-366.57,-383.59,-400.61,-417.64,-434.66,-451.68,-468.7,-485.72,-503.24,504.66,487.64,470.62,453.6,436.58,419.56,402.54,385.52,368.5,351.48,334.46,317.44,300.42,283.39,266.37,249.35,232.33,215.31,198.29,181.27,164.25,147.23,130.21,113.19,96.17,79.15,62.13,45.1,28.08,11.06,-5.96,-22.98,-40.0,-57.02,-74.04,-91.06,-108.08,-125.1,-142.12,-159.14,-176.17,-193.19,-210.21,-227.23,-244.25,-261.27,-278.29,-295.31,-312.33,-329.35,-346.37,-363.39,-380.41,-397.44,-414.46,-431.48,-448.5,-465.52,-482.54,-499.56,188.29,178.28,168.27,158.26,148.24,138.23,128.22,118.21,108.2,98.18,-159.13,-166.14,-173.15,-180.16,-187.16,-194.17,-201.18,-208.19,-215.2,-222.21,-229.22,-236.22,-243.23,-250.24,-257.25,-264.26,-271.27,-278.28,-285.28,-292.29,-299.3,-306.31,-313.32,-320.33,-327.34,-334.34,-341.35,-348.36,-355.37,-362.38,-369.39,-376.4,-383.4,-390.41,-397.42,-404.43,-411.44,-418.45,-425.45,-432.46,-439.47,-446.48,-453.49,-460.5,-467.51,-474.51,-481.52,-488.53,-495.54,-503.42,187.59,177.58,167.57,157.56,147.54,137.53,127.52,117.51,107.5,97.48,-159.83,-166.84,-173.85,-180.86,-187.86,-194.87,-201.88,-208.89,-215.9,-222.91,-229.92,-236.92,-243.93,-250.94,-257.95,-264.96,-271.97,-278.98,-285.98,-292.99,-300.0,-307.01,-314.02,-321.03,-328.04,-335.04,-342.05,-349.06,-356.07,-363.08,-370.09,-377.1,-384.1,-391.11,-398.12,-405.13,-412.14,-419.15,-426.16,-433.16,-440.17,-447.18,-454.19,-461.2,-468.21,-475.22,-482.22,-489.23,-496.24,-503.63,189.52,179.51,169.5,159.49,149.47,139.46,129.45,119.44,109.43,99.41,-157.9,-164.91,-171.92,-178.93,-185.93,-192.94,-199.95,-206.96,-213.97,-220.98,-227.99,-234.99,-242.0,-249.01,-256.02,-263.03,-270.04,-277.05,-284.05,-291.06,-298.07,-305.08,-312.09,-319.1,-326.11,-333.11,-340.12,-347.13,-354.14,-361.15,-368.16,-375.17,-382.17,-389.18,-396.19,-403.2,-410.21,-417.22,-424.23,-431.23,-438.24,-445.25,-452.26,-459.27,-466.28,-473.29,-480.29,-487.3,-494.31,-501.61,186.66,176.65,166.64,156.63,146.61,136.6,126.59,116.58,106.56,96.55,-160.76,-167.77,-174.78,-181.79,-188.8,-195.8,-202.81,-209.82,-216.83,-223.84,-230.85,-237.86,-244.86,-251.87,-258.88,-265.89,-272.9,-279.91,-286.92,-293.92,-300.93,-307.94,-314.95,-321.96,-328.97,-335.98,-342.98,-349.99,-357.0,-364.01,-371.02,-378.03,-385.04,-392.04,-399.05,-406.06,-413.07,-420.08,-427.09,-434.1,-441.1,-448.11,-455.12,-462.13,-469.14,-476.15,-483.16,-490.16,-497.17,-503.62,186.32,176.31,166.3,156.29,146.27,136.26,126.25,116.24,106.23,96.21,-161.1,-168.11,-175.12,-182.13,-189.13,-196.14,-203.15,-210.16,-217.17,-224.18,-231.19,-238.19,-245.2,-252.21,-259.22,-266.23,-273.24,-280.25,-287.25,-294.26,-301.27,-308.28,-315.29,-322.3,-329.31,-336.31,-343.32,-350.33,-357.34,-364.35,-371.36,-378.37,-385.37,-392.38,-399.39,-406.4,-413.41,-420.42,-427.42,-434.43,-441.44,-448.45,-455.46,-462.47,-469.48,-476.48,-483.49,-490.5,-497.28,-505.41,186.02,176.01,166.0,155.99,145.97,135.96,125.95,115.94,105.92,95.91,-161.4,-168.41,-175.42,-182.43,-189.44,-196.44,-203.45,-210.46,-217.47,-224.48,-231.49,-238.5,-245.5,-252.51,-259.52,-266.53,-273.54,-280.55,-287.56,-294.56,-301.57,-308.58,-315.59,-322.6,-329.61,-336.62,-343.62,-350.63,-357.64,-364.65,-371.66,-378.67,-385.68,-392.68,-399.69,-406.7,-413.71,-420.72,-427.73,-434.74,-441.74,-448.75,-455.76,-462.77,-469.78,-476.79,-483.79,-490.8,-497.81,-504.3,191.01,181.0,170.99,160.98,150.96,140.95,130.94,120.93,110.91,100.9,-156.41,-163.42,-170.43,-177.44,-184.45,-191.45,-198.46,-205.47,-212.48,-219.49,-226.5,-233.51,-240.51,-247.52,-254.53,-261.54,-268.55,-275.56,-282.57,-289.57,-296.58,-303.59,-310.6,-317.61,-324.62,-331.63,-338.63,-345.64,-352.65,-359.66,-366.67,-373.68,-380.69,-387.69,-394.7,-401.71,-408.72,-415.73,-422.74,-429.75,-436.75,-443.76,-450.77,-457.78,-464.79,-471.8,-478.81,-485.81,-492.82,-499.28,190.42,180.41,170.4,160.39,150.37,140.36,130.35,120.34,110.33,100.31,-157.0,-164.01,-171.02,-178.03,-185.03,-192.04,-199.05,-206.06,-213.07,-220.08,-227.09,-234.09,-241.1,-248.11,-255.12,-262.13,-269.14,-276.15,-283.15,-290.16,-297.17,-304.18,-311.19,-318.2,-325.21,-332.21,-339.22,-346.23,-353.24,-360.25,-367.26,-374.27,-381.27,-388.28,-395.29,-402.3,-409.31,-416.32,-423.33,-430.33,-437.34,-444.35,-451.36,-458.37,-465.38,-472.39,-479.39,-486.4,-493.41,-500.73],\"type\":\"scatter3d\"}],                        {\"template\":{\"data\":{\"histogram2dcontour\":[{\"type\":\"histogram2dcontour\",\"colorbar\":{\"outlinewidth\":0,\"ticks\":\"\"},\"colorscale\":[[0.0,\"#0d0887\"],[0.1111111111111111,\"#46039f\"],[0.2222222222222222,\"#7201a8\"],[0.3333333333333333,\"#9c179e\"],[0.4444444444444444,\"#bd3786\"],[0.5555555555555556,\"#d8576b\"],[0.6666666666666666,\"#ed7953\"],[0.7777777777777778,\"#fb9f3a\"],[0.8888888888888888,\"#fdca26\"],[1.0,\"#f0f921\"]]}],\"choropleth\":[{\"type\":\"choropleth\",\"colorbar\":{\"outlinewidth\":0,\"ticks\":\"\"}}],\"histogram2d\":[{\"type\":\"histogram2d\",\"colorbar\":{\"outlinewidth\":0,\"ticks\":\"\"},\"colorscale\":[[0.0,\"#0d0887\"],[0.1111111111111111,\"#46039f\"],[0.2222222222222222,\"#7201a8\"],[0.3333333333333333,\"#9c179e\"],[0.4444444444444444,\"#bd3786\"],[0.5555555555555556,\"#d8576b\"],[0.6666666666666666,\"#ed7953\"],[0.7777777777777778,\"#fb9f3a\"],[0.8888888888888888,\"#fdca26\"],[1.0,\"#f0f921\"]]}],\"heatmap\":[{\"type\":\"heatmap\",\"colorbar\":{\"outlinewidth\":0,\"ticks\":\"\"},\"colorscale\":[[0.0,\"#0d0887\"],[0.1111111111111111,\"#46039f\"],[0.2222222222222222,\"#7201a8\"],[0.3333333333333333,\"#9c179e\"],[0.4444444444444444,\"#bd3786\"],[0.5555555555555556,\"#d8576b\"],[0.6666666666666666,\"#ed7953\"],[0.7777777777777778,\"#fb9f3a\"],[0.8888888888888888,\"#fdca26\"],[1.0,\"#f0f921\"]]}],\"heatmapgl\":[{\"type\":\"heatmapgl\",\"colorbar\":{\"outlinewidth\":0,\"ticks\":\"\"},\"colorscale\":[[0.0,\"#0d0887\"],[0.1111111111111111,\"#46039f\"],[0.2222222222222222,\"#7201a8\"],[0.3333333333333333,\"#9c179e\"],[0.4444444444444444,\"#bd3786\"],[0.5555555555555556,\"#d8576b\"],[0.6666666666666666,\"#ed7953\"],[0.7777777777777778,\"#fb9f3a\"],[0.8888888888888888,\"#fdca26\"],[1.0,\"#f0f921\"]]}],\"contourcarpet\":[{\"type\":\"contourcarpet\",\"colorbar\":{\"outlinewidth\":0,\"ticks\":\"\"}}],\"contour\":[{\"type\":\"contour\",\"colorbar\":{\"outlinewidth\":0,\"ticks\":\"\"},\"colorscale\":[[0.0,\"#0d0887\"],[0.1111111111111111,\"#46039f\"],[0.2222222222222222,\"#7201a8\"],[0.3333333333333333,\"#9c179e\"],[0.4444444444444444,\"#bd3786\"],[0.5555555555555556,\"#d8576b\"],[0.6666666666666666,\"#ed7953\"],[0.7777777777777778,\"#fb9f3a\"],[0.8888888888888888,\"#fdca26\"],[1.0,\"#f0f921\"]]}],\"surface\":[{\"type\":\"surface\",\"colorbar\":{\"outlinewidth\":0,\"ticks\":\"\"},\"colorscale\":[[0.0,\"#0d0887\"],[0.1111111111111111,\"#46039f\"],[0.2222222222222222,\"#7201a8\"],[0.3333333333333333,\"#9c179e\"],[0.4444444444444444,\"#bd3786\"],[0.5555555555555556,\"#d8576b\"],[0.6666666666666666,\"#ed7953\"],[0.7777777777777778,\"#fb9f3a\"],[0.8888888888888888,\"#fdca26\"],[1.0,\"#f0f921\"]]}],\"mesh3d\":[{\"type\":\"mesh3d\",\"colorbar\":{\"outlinewidth\":0,\"ticks\":\"\"}}],\"scatter\":[{\"fillpattern\":{\"fillmode\":\"overlay\",\"size\":10,\"solidity\":0.2},\"type\":\"scatter\"}],\"parcoords\":[{\"type\":\"parcoords\",\"line\":{\"colorbar\":{\"outlinewidth\":0,\"ticks\":\"\"}}}],\"scatterpolargl\":[{\"type\":\"scatterpolargl\",\"marker\":{\"colorbar\":{\"outlinewidth\":0,\"ticks\":\"\"}}}],\"bar\":[{\"error_x\":{\"color\":\"#2a3f5f\"},\"error_y\":{\"color\":\"#2a3f5f\"},\"marker\":{\"line\":{\"color\":\"#E5ECF6\",\"width\":0.5},\"pattern\":{\"fillmode\":\"overlay\",\"size\":10,\"solidity\":0.2}},\"type\":\"bar\"}],\"scattergeo\":[{\"type\":\"scattergeo\",\"marker\":{\"colorbar\":{\"outlinewidth\":0,\"ticks\":\"\"}}}],\"scatterpolar\":[{\"type\":\"scatterpolar\",\"marker\":{\"colorbar\":{\"outlinewidth\":0,\"ticks\":\"\"}}}],\"histogram\":[{\"marker\":{\"pattern\":{\"fillmode\":\"overlay\",\"size\":10,\"solidity\":0.2}},\"type\":\"histogram\"}],\"scattergl\":[{\"type\":\"scattergl\",\"marker\":{\"colorbar\":{\"outlinewidth\":0,\"ticks\":\"\"}}}],\"scatter3d\":[{\"type\":\"scatter3d\",\"line\":{\"colorbar\":{\"outlinewidth\":0,\"ticks\":\"\"}},\"marker\":{\"colorbar\":{\"outlinewidth\":0,\"ticks\":\"\"}}}],\"scattermapbox\":[{\"type\":\"scattermapbox\",\"marker\":{\"colorbar\":{\"outlinewidth\":0,\"ticks\":\"\"}}}],\"scatterternary\":[{\"type\":\"scatterternary\",\"marker\":{\"colorbar\":{\"outlinewidth\":0,\"ticks\":\"\"}}}],\"scattercarpet\":[{\"type\":\"scattercarpet\",\"marker\":{\"colorbar\":{\"outlinewidth\":0,\"ticks\":\"\"}}}],\"carpet\":[{\"aaxis\":{\"endlinecolor\":\"#2a3f5f\",\"gridcolor\":\"white\",\"linecolor\":\"white\",\"minorgridcolor\":\"white\",\"startlinecolor\":\"#2a3f5f\"},\"baxis\":{\"endlinecolor\":\"#2a3f5f\",\"gridcolor\":\"white\",\"linecolor\":\"white\",\"minorgridcolor\":\"white\",\"startlinecolor\":\"#2a3f5f\"},\"type\":\"carpet\"}],\"table\":[{\"cells\":{\"fill\":{\"color\":\"#EBF0F8\"},\"line\":{\"color\":\"white\"}},\"header\":{\"fill\":{\"color\":\"#C8D4E3\"},\"line\":{\"color\":\"white\"}},\"type\":\"table\"}],\"barpolar\":[{\"marker\":{\"line\":{\"color\":\"#E5ECF6\",\"width\":0.5},\"pattern\":{\"fillmode\":\"overlay\",\"size\":10,\"solidity\":0.2}},\"type\":\"barpolar\"}],\"pie\":[{\"automargin\":true,\"type\":\"pie\"}]},\"layout\":{\"autotypenumbers\":\"strict\",\"colorway\":[\"#636efa\",\"#EF553B\",\"#00cc96\",\"#ab63fa\",\"#FFA15A\",\"#19d3f3\",\"#FF6692\",\"#B6E880\",\"#FF97FF\",\"#FECB52\"],\"font\":{\"color\":\"#2a3f5f\"},\"hovermode\":\"closest\",\"hoverlabel\":{\"align\":\"left\"},\"paper_bgcolor\":\"white\",\"plot_bgcolor\":\"#E5ECF6\",\"polar\":{\"bgcolor\":\"#E5ECF6\",\"angularaxis\":{\"gridcolor\":\"white\",\"linecolor\":\"white\",\"ticks\":\"\"},\"radialaxis\":{\"gridcolor\":\"white\",\"linecolor\":\"white\",\"ticks\":\"\"}},\"ternary\":{\"bgcolor\":\"#E5ECF6\",\"aaxis\":{\"gridcolor\":\"white\",\"linecolor\":\"white\",\"ticks\":\"\"},\"baxis\":{\"gridcolor\":\"white\",\"linecolor\":\"white\",\"ticks\":\"\"},\"caxis\":{\"gridcolor\":\"white\",\"linecolor\":\"white\",\"ticks\":\"\"}},\"coloraxis\":{\"colorbar\":{\"outlinewidth\":0,\"ticks\":\"\"}},\"colorscale\":{\"sequential\":[[0.0,\"#0d0887\"],[0.1111111111111111,\"#46039f\"],[0.2222222222222222,\"#7201a8\"],[0.3333333333333333,\"#9c179e\"],[0.4444444444444444,\"#bd3786\"],[0.5555555555555556,\"#d8576b\"],[0.6666666666666666,\"#ed7953\"],[0.7777777777777778,\"#fb9f3a\"],[0.8888888888888888,\"#fdca26\"],[1.0,\"#f0f921\"]],\"sequentialminus\":[[0.0,\"#0d0887\"],[0.1111111111111111,\"#46039f\"],[0.2222222222222222,\"#7201a8\"],[0.3333333333333333,\"#9c179e\"],[0.4444444444444444,\"#bd3786\"],[0.5555555555555556,\"#d8576b\"],[0.6666666666666666,\"#ed7953\"],[0.7777777777777778,\"#fb9f3a\"],[0.8888888888888888,\"#fdca26\"],[1.0,\"#f0f921\"]],\"diverging\":[[0,\"#8e0152\"],[0.1,\"#c51b7d\"],[0.2,\"#de77ae\"],[0.3,\"#f1b6da\"],[0.4,\"#fde0ef\"],[0.5,\"#f7f7f7\"],[0.6,\"#e6f5d0\"],[0.7,\"#b8e186\"],[0.8,\"#7fbc41\"],[0.9,\"#4d9221\"],[1,\"#276419\"]]},\"xaxis\":{\"gridcolor\":\"white\",\"linecolor\":\"white\",\"ticks\":\"\",\"title\":{\"standoff\":15},\"zerolinecolor\":\"white\",\"automargin\":true,\"zerolinewidth\":2},\"yaxis\":{\"gridcolor\":\"white\",\"linecolor\":\"white\",\"ticks\":\"\",\"title\":{\"standoff\":15},\"zerolinecolor\":\"white\",\"automargin\":true,\"zerolinewidth\":2},\"scene\":{\"xaxis\":{\"backgroundcolor\":\"#E5ECF6\",\"gridcolor\":\"white\",\"linecolor\":\"white\",\"showbackground\":true,\"ticks\":\"\",\"zerolinecolor\":\"white\",\"gridwidth\":2},\"yaxis\":{\"backgroundcolor\":\"#E5ECF6\",\"gridcolor\":\"white\",\"linecolor\":\"white\",\"showbackground\":true,\"ticks\":\"\",\"zerolinecolor\":\"white\",\"gridwidth\":2},\"zaxis\":{\"backgroundcolor\":\"#E5ECF6\",\"gridcolor\":\"white\",\"linecolor\":\"white\",\"showbackground\":true,\"ticks\":\"\",\"zerolinecolor\":\"white\",\"gridwidth\":2}},\"shapedefaults\":{\"line\":{\"color\":\"#2a3f5f\"}},\"annotationdefaults\":{\"arrowcolor\":\"#2a3f5f\",\"arrowhead\":0,\"arrowwidth\":1},\"geo\":{\"bgcolor\":\"white\",\"landcolor\":\"#E5ECF6\",\"subunitcolor\":\"white\",\"showland\":true,\"showlakes\":true,\"lakecolor\":\"white\"},\"title\":{\"x\":0.05},\"mapbox\":{\"style\":\"light\"}}},\"scene\":{\"domain\":{\"x\":[0.0,1.0],\"y\":[0.0,1.0]},\"xaxis\":{\"title\":{\"text\":\"x\"}},\"yaxis\":{\"title\":{\"text\":\"y\"}},\"zaxis\":{\"title\":{\"text\":\"z\"}}},\"legend\":{\"tracegroupgap\":0},\"margin\":{\"t\":60}},                        {\"responsive\": true}                    ).then(function(){\n",
       "                            \n",
       "var gd = document.getElementById('63e83dbf-ce8c-4d81-8c2c-693315045db5');\n",
       "var x = new MutationObserver(function (mutations, observer) {{\n",
       "        var display = window.getComputedStyle(gd).display;\n",
       "        if (!display || display === 'none') {{\n",
       "            console.log([gd, 'removed!']);\n",
       "            Plotly.purge(gd);\n",
       "            observer.disconnect();\n",
       "        }}\n",
       "}});\n",
       "\n",
       "// Listen for the removal of the full notebook cells\n",
       "var notebookContainer = gd.closest('#notebook-container');\n",
       "if (notebookContainer) {{\n",
       "    x.observe(notebookContainer, {childList: true});\n",
       "}}\n",
       "\n",
       "// Listen for the clearing of the current output cell\n",
       "var outputEl = gd.closest('.output');\n",
       "if (outputEl) {{\n",
       "    x.observe(outputEl, {childList: true});\n",
       "}}\n",
       "\n",
       "                        })                };                });            </script>        </div>"
      ]
     },
     "metadata": {},
     "output_type": "display_data"
    }
   ],
   "source": [
    "fig = px.scatter_3d(sensor_geometry, x='x', y='y', z='z', opacity=0.5)\n",
    "fig.update_traces(marker_size=2)\n",
    "fig.show()"
   ]
  },
  {
   "cell_type": "markdown",
   "id": "868c2ea5",
   "metadata": {
    "papermill": {
     "duration": 0.012836,
     "end_time": "2023-01-23T21:57:04.521062",
     "exception": false,
     "start_time": "2023-01-23T21:57:04.508226",
     "status": "completed"
    },
    "tags": []
   },
   "source": [
    "# Test meta"
   ]
  },
  {
   "cell_type": "code",
   "execution_count": 9,
   "id": "92558d2c",
   "metadata": {
    "execution": {
     "iopub.execute_input": "2023-01-23T21:57:04.551951Z",
     "iopub.status.busy": "2023-01-23T21:57:04.551101Z",
     "iopub.status.idle": "2023-01-23T21:57:04.581725Z",
     "shell.execute_reply": "2023-01-23T21:57:04.580249Z"
    },
    "papermill": {
     "duration": 0.050667,
     "end_time": "2023-01-23T21:57:04.584572",
     "exception": false,
     "start_time": "2023-01-23T21:57:04.533905",
     "status": "completed"
    },
    "tags": []
   },
   "outputs": [
    {
     "data": {
      "text/html": [
       "<div>\n",
       "<style scoped>\n",
       "    .dataframe tbody tr th:only-of-type {\n",
       "        vertical-align: middle;\n",
       "    }\n",
       "\n",
       "    .dataframe tbody tr th {\n",
       "        vertical-align: top;\n",
       "    }\n",
       "\n",
       "    .dataframe thead th {\n",
       "        text-align: right;\n",
       "    }\n",
       "</style>\n",
       "<table border=\"1\" class=\"dataframe\">\n",
       "  <thead>\n",
       "    <tr style=\"text-align: right;\">\n",
       "      <th></th>\n",
       "      <th>batch_id</th>\n",
       "      <th>event_id</th>\n",
       "      <th>first_pulse_index</th>\n",
       "      <th>last_pulse_index</th>\n",
       "    </tr>\n",
       "  </thead>\n",
       "  <tbody>\n",
       "    <tr>\n",
       "      <th>0</th>\n",
       "      <td>661</td>\n",
       "      <td>2092</td>\n",
       "      <td>0</td>\n",
       "      <td>298</td>\n",
       "    </tr>\n",
       "    <tr>\n",
       "      <th>1</th>\n",
       "      <td>661</td>\n",
       "      <td>7344</td>\n",
       "      <td>299</td>\n",
       "      <td>334</td>\n",
       "    </tr>\n",
       "    <tr>\n",
       "      <th>2</th>\n",
       "      <td>661</td>\n",
       "      <td>9482</td>\n",
       "      <td>335</td>\n",
       "      <td>377</td>\n",
       "    </tr>\n",
       "  </tbody>\n",
       "</table>\n",
       "</div>"
      ],
      "text/plain": [
       "   batch_id  event_id  first_pulse_index  last_pulse_index\n",
       "0       661      2092                  0               298\n",
       "1       661      7344                299               334\n",
       "2       661      9482                335               377"
      ]
     },
     "execution_count": 9,
     "metadata": {},
     "output_type": "execute_result"
    }
   ],
   "source": [
    "test_meta = pd.read_parquet('/kaggle/input/icecube-neutrinos-in-deep-ice/test_meta.parquet')\n",
    "test_meta = pd.read_parquet('/kaggle/input/icecube-neutrinos-in-deep-ice/test_meta.parquet')\n",
    "test_meta.head()"
   ]
  },
  {
   "cell_type": "code",
   "execution_count": 10,
   "id": "2c167c34",
   "metadata": {
    "execution": {
     "iopub.execute_input": "2023-01-23T21:57:04.612040Z",
     "iopub.status.busy": "2023-01-23T21:57:04.611605Z",
     "iopub.status.idle": "2023-01-23T21:57:04.618636Z",
     "shell.execute_reply": "2023-01-23T21:57:04.617163Z"
    },
    "papermill": {
     "duration": 0.024103,
     "end_time": "2023-01-23T21:57:04.621921",
     "exception": false,
     "start_time": "2023-01-23T21:57:04.597818",
     "status": "completed"
    },
    "tags": []
   },
   "outputs": [
    {
     "name": "stdout",
     "output_type": "stream",
     "text": [
      "3\n"
     ]
    }
   ],
   "source": [
    "print(len(test_meta))"
   ]
  },
  {
   "cell_type": "markdown",
   "id": "1835b86d",
   "metadata": {
    "papermill": {
     "duration": 0.0125,
     "end_time": "2023-01-23T21:57:04.647190",
     "exception": false,
     "start_time": "2023-01-23T21:57:04.634690",
     "status": "completed"
    },
    "tags": []
   },
   "source": [
    "# Understanding the data\n",
    "### I will explore event 67 (number three in train_meta) as a case event"
   ]
  },
  {
   "cell_type": "code",
   "execution_count": 11,
   "id": "1f8e9d35",
   "metadata": {
    "execution": {
     "iopub.execute_input": "2023-01-23T21:57:04.675998Z",
     "iopub.status.busy": "2023-01-23T21:57:04.675488Z",
     "iopub.status.idle": "2023-01-23T21:57:04.695991Z",
     "shell.execute_reply": "2023-01-23T21:57:04.694398Z"
    },
    "papermill": {
     "duration": 0.039083,
     "end_time": "2023-01-23T21:57:04.699173",
     "exception": false,
     "start_time": "2023-01-23T21:57:04.660090",
     "status": "completed"
    },
    "tags": []
   },
   "outputs": [
    {
     "name": "stdout",
     "output_type": "stream",
     "text": [
      "142\n"
     ]
    },
    {
     "data": {
      "text/html": [
       "<div>\n",
       "<style scoped>\n",
       "    .dataframe tbody tr th:only-of-type {\n",
       "        vertical-align: middle;\n",
       "    }\n",
       "\n",
       "    .dataframe tbody tr th {\n",
       "        vertical-align: top;\n",
       "    }\n",
       "\n",
       "    .dataframe thead th {\n",
       "        text-align: right;\n",
       "    }\n",
       "</style>\n",
       "<table border=\"1\" class=\"dataframe\">\n",
       "  <thead>\n",
       "    <tr style=\"text-align: right;\">\n",
       "      <th></th>\n",
       "      <th>sensor_id</th>\n",
       "      <th>time</th>\n",
       "      <th>charge</th>\n",
       "      <th>auxiliary</th>\n",
       "    </tr>\n",
       "    <tr>\n",
       "      <th>event_id</th>\n",
       "      <th></th>\n",
       "      <th></th>\n",
       "      <th></th>\n",
       "      <th></th>\n",
       "    </tr>\n",
       "  </thead>\n",
       "  <tbody>\n",
       "    <tr>\n",
       "      <th>67</th>\n",
       "      <td>1890</td>\n",
       "      <td>26683</td>\n",
       "      <td>1.675</td>\n",
       "      <td>True</td>\n",
       "    </tr>\n",
       "    <tr>\n",
       "      <th>67</th>\n",
       "      <td>3624</td>\n",
       "      <td>26961</td>\n",
       "      <td>1.075</td>\n",
       "      <td>True</td>\n",
       "    </tr>\n",
       "    <tr>\n",
       "      <th>67</th>\n",
       "      <td>1928</td>\n",
       "      <td>27065</td>\n",
       "      <td>1.075</td>\n",
       "      <td>True</td>\n",
       "    </tr>\n",
       "    <tr>\n",
       "      <th>67</th>\n",
       "      <td>4680</td>\n",
       "      <td>27100</td>\n",
       "      <td>0.425</td>\n",
       "      <td>True</td>\n",
       "    </tr>\n",
       "    <tr>\n",
       "      <th>67</th>\n",
       "      <td>3772</td>\n",
       "      <td>27144</td>\n",
       "      <td>1.475</td>\n",
       "      <td>True</td>\n",
       "    </tr>\n",
       "  </tbody>\n",
       "</table>\n",
       "</div>"
      ],
      "text/plain": [
       "          sensor_id   time  charge  auxiliary\n",
       "event_id                                     \n",
       "67             1890  26683   1.675       True\n",
       "67             3624  26961   1.075       True\n",
       "67             1928  27065   1.075       True\n",
       "67             4680  27100   0.425       True\n",
       "67             3772  27144   1.475       True"
      ]
     },
     "execution_count": 11,
     "metadata": {},
     "output_type": "execute_result"
    }
   ],
   "source": [
    "case_event_idx = 3\n",
    "case_event_pulses = train_batch_1.iloc[train_meta.iloc[case_event_idx].first_pulse_index.astype(int) : \n",
    "                                         train_meta.iloc[case_event_idx].last_pulse_index.astype(int)+1].copy()\n",
    "print(len(case_event_pulses))\n",
    "case_event_pulses.tail()"
   ]
  },
  {
   "cell_type": "markdown",
   "id": "70b5470a",
   "metadata": {
    "papermill": {
     "duration": 0.013532,
     "end_time": "2023-01-23T21:57:04.727393",
     "exception": false,
     "start_time": "2023-01-23T21:57:04.713861",
     "status": "completed"
    },
    "tags": []
   },
   "source": [
    "### Finding the coordinates of each pulse from the sensor_geometry data and mean normalizing"
   ]
  },
  {
   "cell_type": "code",
   "execution_count": 12,
   "id": "0a3d048d",
   "metadata": {
    "execution": {
     "iopub.execute_input": "2023-01-23T21:57:04.759026Z",
     "iopub.status.busy": "2023-01-23T21:57:04.758482Z",
     "iopub.status.idle": "2023-01-23T21:57:04.794703Z",
     "shell.execute_reply": "2023-01-23T21:57:04.792839Z"
    },
    "papermill": {
     "duration": 0.057804,
     "end_time": "2023-01-23T21:57:04.799384",
     "exception": false,
     "start_time": "2023-01-23T21:57:04.741580",
     "status": "completed"
    },
    "tags": []
   },
   "outputs": [
    {
     "data": {
      "text/html": [
       "<div>\n",
       "<style scoped>\n",
       "    .dataframe tbody tr th:only-of-type {\n",
       "        vertical-align: middle;\n",
       "    }\n",
       "\n",
       "    .dataframe tbody tr th {\n",
       "        vertical-align: top;\n",
       "    }\n",
       "\n",
       "    .dataframe thead th {\n",
       "        text-align: right;\n",
       "    }\n",
       "</style>\n",
       "<table border=\"1\" class=\"dataframe\">\n",
       "  <thead>\n",
       "    <tr style=\"text-align: right;\">\n",
       "      <th></th>\n",
       "      <th>event_id</th>\n",
       "      <th>sensor_id</th>\n",
       "      <th>time</th>\n",
       "      <th>charge</th>\n",
       "      <th>auxiliary</th>\n",
       "      <th>x</th>\n",
       "      <th>y</th>\n",
       "      <th>z</th>\n",
       "    </tr>\n",
       "  </thead>\n",
       "  <tbody>\n",
       "    <tr>\n",
       "      <th>0</th>\n",
       "      <td>67</td>\n",
       "      <td>5060</td>\n",
       "      <td>6751</td>\n",
       "      <td>0.675</td>\n",
       "      <td>True</td>\n",
       "      <td>38.258521</td>\n",
       "      <td>-16.083732</td>\n",
       "      <td>-165.493873</td>\n",
       "    </tr>\n",
       "    <tr>\n",
       "      <th>1</th>\n",
       "      <td>67</td>\n",
       "      <td>2420</td>\n",
       "      <td>7308</td>\n",
       "      <td>0.575</td>\n",
       "      <td>True</td>\n",
       "      <td>-478.691479</td>\n",
       "      <td>47.816268</td>\n",
       "      <td>223.256127</td>\n",
       "    </tr>\n",
       "    <tr>\n",
       "      <th>2</th>\n",
       "      <td>67</td>\n",
       "      <td>2420</td>\n",
       "      <td>7320</td>\n",
       "      <td>0.875</td>\n",
       "      <td>True</td>\n",
       "      <td>-478.691479</td>\n",
       "      <td>47.816268</td>\n",
       "      <td>223.256127</td>\n",
       "    </tr>\n",
       "    <tr>\n",
       "      <th>3</th>\n",
       "      <td>67</td>\n",
       "      <td>1968</td>\n",
       "      <td>7377</td>\n",
       "      <td>0.425</td>\n",
       "      <td>True</td>\n",
       "      <td>-276.451479</td>\n",
       "      <td>-30.013732</td>\n",
       "      <td>-255.853873</td>\n",
       "    </tr>\n",
       "    <tr>\n",
       "      <th>4</th>\n",
       "      <td>67</td>\n",
       "      <td>2989</td>\n",
       "      <td>7655</td>\n",
       "      <td>1.375</td>\n",
       "      <td>True</td>\n",
       "      <td>624.308521</td>\n",
       "      <td>234.336268</td>\n",
       "      <td>-278.963873</td>\n",
       "    </tr>\n",
       "  </tbody>\n",
       "</table>\n",
       "</div>"
      ],
      "text/plain": [
       "   event_id  sensor_id  time  charge  auxiliary           x           y  \\\n",
       "0        67       5060  6751   0.675       True   38.258521  -16.083732   \n",
       "1        67       2420  7308   0.575       True -478.691479   47.816268   \n",
       "2        67       2420  7320   0.875       True -478.691479   47.816268   \n",
       "3        67       1968  7377   0.425       True -276.451479  -30.013732   \n",
       "4        67       2989  7655   1.375       True  624.308521  234.336268   \n",
       "\n",
       "            z  \n",
       "0 -165.493873  \n",
       "1  223.256127  \n",
       "2  223.256127  \n",
       "3 -255.853873  \n",
       "4 -278.963873  "
      ]
     },
     "execution_count": 12,
     "metadata": {},
     "output_type": "execute_result"
    }
   ],
   "source": [
    "case_event_pulses = case_event_pulses.reset_index()\n",
    "case_event_pulses[['x', 'y', 'z']] = sensor_geometry.loc[case_event_pulses.sensor_id].reset_index()[['x', 'y', 'z']]\n",
    "\n",
    "case_event_pulses.x = case_event_pulses.x - case_event_pulses.x.mean()\n",
    "case_event_pulses.y = case_event_pulses.y - case_event_pulses.y.mean()\n",
    "case_event_pulses.z = case_event_pulses.z - case_event_pulses.z.mean()\n",
    "case_event_pulses.head()"
   ]
  },
  {
   "cell_type": "markdown",
   "id": "771a0790",
   "metadata": {
    "papermill": {
     "duration": 0.01739,
     "end_time": "2023-01-23T21:57:04.843707",
     "exception": false,
     "start_time": "2023-01-23T21:57:04.826317",
     "status": "completed"
    },
    "tags": []
   },
   "source": [
    "### Calculating the vector of the case event from the target angles and preparing for visualisation"
   ]
  },
  {
   "cell_type": "code",
   "execution_count": 13,
   "id": "2183a058",
   "metadata": {
    "execution": {
     "iopub.execute_input": "2023-01-23T21:57:04.879831Z",
     "iopub.status.busy": "2023-01-23T21:57:04.878365Z",
     "iopub.status.idle": "2023-01-23T21:57:04.896950Z",
     "shell.execute_reply": "2023-01-23T21:57:04.895002Z"
    },
    "papermill": {
     "duration": 0.039354,
     "end_time": "2023-01-23T21:57:04.900056",
     "exception": false,
     "start_time": "2023-01-23T21:57:04.860702",
     "status": "completed"
    },
    "tags": []
   },
   "outputs": [
    {
     "data": {
      "text/html": [
       "<div>\n",
       "<style scoped>\n",
       "    .dataframe tbody tr th:only-of-type {\n",
       "        vertical-align: middle;\n",
       "    }\n",
       "\n",
       "    .dataframe tbody tr th {\n",
       "        vertical-align: top;\n",
       "    }\n",
       "\n",
       "    .dataframe thead th {\n",
       "        text-align: right;\n",
       "    }\n",
       "</style>\n",
       "<table border=\"1\" class=\"dataframe\">\n",
       "  <thead>\n",
       "    <tr style=\"text-align: right;\">\n",
       "      <th></th>\n",
       "      <th>x</th>\n",
       "      <th>y</th>\n",
       "      <th>z</th>\n",
       "    </tr>\n",
       "  </thead>\n",
       "  <tbody>\n",
       "    <tr>\n",
       "      <th>0</th>\n",
       "      <td>-311.74527</td>\n",
       "      <td>145.711308</td>\n",
       "      <td>-362.743851</td>\n",
       "    </tr>\n",
       "    <tr>\n",
       "      <th>1</th>\n",
       "      <td>311.74527</td>\n",
       "      <td>-145.711308</td>\n",
       "      <td>362.743851</td>\n",
       "    </tr>\n",
       "  </tbody>\n",
       "</table>\n",
       "</div>"
      ],
      "text/plain": [
       "           x           y           z\n",
       "0 -311.74527  145.711308 -362.743851\n",
       "1  311.74527 -145.711308  362.743851"
      ]
     },
     "execution_count": 13,
     "metadata": {},
     "output_type": "execute_result"
    }
   ],
   "source": [
    "zenith_target = train_meta.iloc[case_event_idx].zenith\n",
    "azimuth_target = train_meta.iloc[case_event_idx].azimuth\n",
    "\n",
    "vector_target = [np.cos(azimuth_target) * np.sin(zenith_target), np.sin(azimuth_target) * np.sin(zenith_target),\n",
    "                 np.cos(zenith_target)]\n",
    "\n",
    "vector_base = np.array([-500, 500])\n",
    "x = vector_base*vector_target[0]\n",
    "y = vector_base*vector_target[1]\n",
    "z = vector_base*vector_target[2]\n",
    "vector_target_df = pd.DataFrame({'x': x, 'y': y, 'z': z})\n",
    "vector_target_df.head()"
   ]
  },
  {
   "cell_type": "markdown",
   "id": "d1aa81e5",
   "metadata": {
    "papermill": {
     "duration": 0.016086,
     "end_time": "2023-01-23T21:57:04.933988",
     "exception": false,
     "start_time": "2023-01-23T21:57:04.917902",
     "status": "completed"
    },
    "tags": []
   },
   "source": [
    "### Many thanks to JIRKA BOROVEC for demonstrating plotly [here](https://www.kaggle.com/code/jirkaborovec/icecube-eda-3d-interactive-viewer). I was quite frustrated by the lack of pyplot interactivity in kaggle.\n"
   ]
  },
  {
   "cell_type": "code",
   "execution_count": 14,
   "id": "7a24758b",
   "metadata": {
    "execution": {
     "iopub.execute_input": "2023-01-23T21:57:04.972874Z",
     "iopub.status.busy": "2023-01-23T21:57:04.971532Z",
     "iopub.status.idle": "2023-01-23T21:57:05.183828Z",
     "shell.execute_reply": "2023-01-23T21:57:05.182377Z"
    },
    "papermill": {
     "duration": 0.235321,
     "end_time": "2023-01-23T21:57:05.186937",
     "exception": false,
     "start_time": "2023-01-23T21:57:04.951616",
     "status": "completed"
    },
    "tags": []
   },
   "outputs": [
    {
     "data": {
      "text/html": [
       "<div>                            <div id=\"6517908c-00ae-4668-bf67-d9df617e682b\" class=\"plotly-graph-div\" style=\"height:525px; width:100%;\"></div>            <script type=\"text/javascript\">                require([\"plotly\"], function(Plotly) {                    window.PLOTLYENV=window.PLOTLYENV || {};                                    if (document.getElementById(\"6517908c-00ae-4668-bf67-d9df617e682b\")) {                    Plotly.newPlot(                        \"6517908c-00ae-4668-bf67-d9df617e682b\",                        [{\"hovertemplate\":\"x=%{x}<br>y=%{y}<br>z=%{z}<extra></extra>\",\"legendgroup\":\"\",\"marker\":{\"color\":\"red\",\"opacity\":0.5,\"size\":2,\"symbol\":\"circle\"},\"mode\":\"markers\",\"name\":\"\",\"scene\":\"scene\",\"showlegend\":false,\"x\":[38.25852112676057,-478.6914788732394,-478.6914788732394,-276.4514788732394,624.3085211267605,285.71852112676055,-231.5914788732394,4.668521126760567,-231.5914788732394,330.1185211267606,-63.571478873239435,285.71852112676055,105.13852112676057,172.90852112676058,154.87852112676057,70.04852112676056,-276.4514788732394,38.25852112676057,272.51852112676056,120.30852112676058,-478.6914788732394,408.9385211267606,-478.6914788732394,162.32852112676056,83.47852112676057,206.87852112676057,206.87852112676057,127.34852112676057,127.34852112676057,-84.86147887323943,258.40852112676055,-365.5214788732394,83.47852112676057,386.3785211267606,36.96852112676057,-53.12147887323943,-231.5914788732394,172.90852112676058,-399.80147887323943,330.1185211267606,374.7885211267606,-242.72147887323945,-276.4514788732394,351.3485211267606,4.668521126760567,553.2085211267605,179.96852112676058,-163.41147887323942,49.64852112676057,14.978521126760569,172.90852112676058,-276.4514788732394,-53.12147887323943,-29.861478873239427,-444.49147887323943,-108.29147887323941,206.87852112676057,491.7485211267606,154.87852112676057,89.53852112676057,-97.51147887323941,-53.12147887323943,-231.5914788732394,-310.5014788732394,-231.5914788732394,-310.5014788732394,-389.10147887323944,-73.83147887323943,-97.51147887323941,-310.5014788732394,285.71852112676055,-276.4514788732394,148.97852112676057,-310.5014788732394,38.25852112676057,-197.71147887323943,-365.5214788732394,59.80852112676057,340.83852112676055,-276.4514788732394,-399.80147887323943,-265.66147887323945,-276.4514788732394,79.18852112676058,-18.761478873239433],\"y\":[-16.08373239436621,47.81626760563379,47.81626760563379,-30.013732394366215,234.3362676056338,-379.00373239436624,86.5862676056338,-204.1037323943662,86.5862676056338,-262.32373239436623,223.3962676056338,-379.00373239436624,-42.103732394366205,-67.83373239436621,90.5062676056338,572.9162676056338,-30.013732394366215,-16.08373239436621,495.7662676056338,-3.183732394366203,47.81626760563379,-359.4137323943662,47.81626760563379,-398.57373239436623,-301.4137323943662,-281.81373239436624,-281.81373239436624,-184.82373239436623,-184.82373239436623,-438.0337323943662,-146.3537323943662,-263.8537323943662,-301.4137323943662,527.1362676056339,70.13626760563379,553.6362676056339,86.5862676056338,-67.83373239436621,-49.713732394366204,-262.32373239436623,-145.65373239436622,-243.96373239436622,-30.013732394366215,399.05626760563376,-204.1037323943662,321.2962676056338,266.3962676056338,-341.06373239436624,-87.2137323943662,125.85626760563379,-67.83373239436621,-30.013732394366215,553.6362676056339,9.086267605633793,-166.7437323943662,106.78626760563378,-281.81373239436624,-130.96373239436622,90.5062676056338,98.90626760563379,437.6562676056338,553.6362676056339,86.5862676056338,183.97626760563378,86.5862676056338,183.97626760563378,281.2162676056338,-107.61373239436621,437.6562676056338,183.97626760563378,-379.00373239436624,-30.013732394366215,476.2062676056338,183.97626760563378,-16.08373239436621,-127.07373239436622,-263.8537323943662,242.60626760563378,68.6162676056338,-30.013732394366215,-49.713732394366204,300.8562676056338,-30.013732394366215,-9.513732394366215,340.3362676056338],\"z\":[-165.49387323943662,223.25612676056338,223.25612676056338,-255.85387323943664,-278.9638732394366,358.22612676056343,-425.3938732394366,373.9061267605634,-425.3938732394366,-393.7138732394366,-289.4938732394366,273.1161267605634,-373.7338732394366,-228.29387323943664,-338.0438732394366,463.5461267605634,-255.85387323943664,-165.49387323943662,-327.0038732394366,-288.0538732394366,-236.30387323943663,-52.22387323943662,223.25612676056338,49.04612676056338,-122.11387323943663,-307.2138732394366,-102.96387323943662,-257.08387323943657,-308.1438732394366,288.7461267605634,-361.1738732394366,-443.6238732394366,-309.33387323943657,-369.4138732394366,-152.06387323943662,85.90612676056338,-425.3938732394366,-279.3538732394366,476.5761267605634,-393.7138732394366,-308.6238732394366,3.466126760563384,-255.85387323943664,284.60612676056337,-136.7238732394366,56.61612676056338,223.32612676056337,-2.0538732394366193,319.9661267605634,182.3661267605634,-228.29387323943664,424.97612676056343,51.86612676056338,70.10612676056338,99.04612676056338,0.1561267605633816,-102.96387323943662,-324.4238732394366,-345.0538732394366,210.47612676056337,-339.0038732394366,-118.33387323943663,172.13612676056337,-138.78387323943662,-253.3838732394366,-326.0038732394366,-339.6238732394366,-49.463873239436616,-253.90387323943665,-274.9438732394366,358.22612676056343,424.97612676056343,225.00612676056338,-394.0938732394366,-123.44387323943661,-390.0638732394366,-358.52387323943657,308.0361267605634,24.76612676056338,-255.85387323943664,51.05612676056339,153.7061267605634,424.97612676056343,249.29612676056337,-326.2438732394366],\"type\":\"scatter3d\"},{\"hovertemplate\":\"x=%{x}<br>y=%{y}<br>z=%{z}<extra></extra>\",\"legendgroup\":\"\",\"marker\":{\"color\":\"blue\",\"opacity\":0.5,\"size\":2,\"symbol\":\"circle\"},\"mode\":\"markers\",\"name\":\"\",\"scene\":\"scene\",\"showlegend\":false,\"x\":[162.32852112676056,162.32852112676056,162.32852112676056,162.32852112676056,162.32852112676056,330.1185211267606,330.1185211267606,172.90852112676058,172.90852112676058,172.90852112676058,172.90852112676058,172.90852112676058,79.18852112676058,79.18852112676058,79.18852112676058,79.18852112676058,105.13852112676057,172.90852112676058,79.18852112676058,79.18852112676058,79.18852112676058,79.18852112676058,79.18852112676058,79.18852112676058,38.25852112676057,120.30852112676058,105.13852112676057,38.25852112676057,38.25852112676057,38.25852112676057,79.18852112676058,38.25852112676057,38.25852112676057,120.30852112676058,105.13852112676057,120.30852112676058,105.13852112676057,38.25852112676057,36.96852112676057,38.25852112676057,-29.861478873239427,79.18852112676058,-29.861478873239427,-29.861478873239427,36.96852112676057,-108.29147887323941,-310.5014788732394,-310.5014788732394,-231.5914788732394,-310.5014788732394,-231.5914788732394,-310.5014788732394,-108.29147887323941,-231.5914788732394,-231.5914788732394,-310.5014788732394,-310.5014788732394],\"y\":[-398.57373239436623,-398.57373239436623,-398.57373239436623,-398.57373239436623,-398.57373239436623,-262.32373239436623,-262.32373239436623,-67.83373239436621,-67.83373239436621,-67.83373239436621,-67.83373239436621,-67.83373239436621,-9.513732394366215,-9.513732394366215,-9.513732394366215,-9.513732394366215,-42.103732394366205,-67.83373239436621,-9.513732394366215,-9.513732394366215,-9.513732394366215,-9.513732394366215,-9.513732394366215,-9.513732394366215,-16.08373239436621,-3.183732394366203,-42.103732394366205,-16.08373239436621,-16.08373239436621,-16.08373239436621,-9.513732394366215,-16.08373239436621,-16.08373239436621,-3.183732394366203,-42.103732394366205,-3.183732394366203,-42.103732394366205,-16.08373239436621,70.13626760563379,-16.08373239436621,9.086267605633793,-9.513732394366215,9.086267605633793,9.086267605633793,70.13626760563379,106.78626760563378,183.97626760563378,183.97626760563378,86.5862676056338,183.97626760563378,86.5862676056338,183.97626760563378,106.78626760563378,86.5862676056338,86.5862676056338,183.97626760563378,183.97626760563378],\"z\":[32.026126760563386,15.006126760563383,15.006126760563383,-2.01387323943662,32.026126760563386,-257.5438732394366,-274.5638732394366,367.4361267605634,367.4361267605634,384.4561267605634,418.4961267605634,384.4561267605634,249.29612676056337,249.29612676056337,249.29612676056337,239.28612676056338,247.0261267605634,418.4961267605634,229.2761267605634,229.2761267605634,229.2761267605634,249.29612676056337,209.24612676056339,199.23612676056337,211.96612676056338,198.53612676056338,237.01612676056337,191.94612676056337,191.94612676056337,171.91612676056337,199.23612676056337,181.93612676056338,221.98612676056337,188.5261267605634,186.9561267605634,208.54612676056337,176.94612676056337,201.95612676056336,231.40612676056338,201.95612676056336,138.19612676056337,189.22612676056337,155.21612676056338,121.17612676056339,211.37612676056338,-101.96387323943662,-206.86387323943663,-189.84387323943662,-100.19387323943661,-223.8838732394366,-117.21387323943662,-223.8838732394366,-84.94387323943661,-117.21387323943662,-100.19387323943661,-206.86387323943663,-206.86387323943663],\"type\":\"scatter3d\"},{\"hovertemplate\":\"x=%{x}<br>y=%{y}<br>z=%{z}<extra></extra>\",\"legendgroup\":\"\",\"line\":{\"color\":\"#636efa\",\"dash\":\"solid\"},\"marker\":{\"symbol\":\"circle\"},\"mode\":\"lines\",\"name\":\"\",\"scene\":\"scene\",\"showlegend\":false,\"x\":[-311.7452701474624,311.7452701474624],\"y\":[145.71130789800958,-145.71130789800958],\"z\":[-362.7438507974148,362.7438507974148],\"type\":\"scatter3d\"}],                        {\"template\":{\"data\":{\"histogram2dcontour\":[{\"type\":\"histogram2dcontour\",\"colorbar\":{\"outlinewidth\":0,\"ticks\":\"\"},\"colorscale\":[[0.0,\"#0d0887\"],[0.1111111111111111,\"#46039f\"],[0.2222222222222222,\"#7201a8\"],[0.3333333333333333,\"#9c179e\"],[0.4444444444444444,\"#bd3786\"],[0.5555555555555556,\"#d8576b\"],[0.6666666666666666,\"#ed7953\"],[0.7777777777777778,\"#fb9f3a\"],[0.8888888888888888,\"#fdca26\"],[1.0,\"#f0f921\"]]}],\"choropleth\":[{\"type\":\"choropleth\",\"colorbar\":{\"outlinewidth\":0,\"ticks\":\"\"}}],\"histogram2d\":[{\"type\":\"histogram2d\",\"colorbar\":{\"outlinewidth\":0,\"ticks\":\"\"},\"colorscale\":[[0.0,\"#0d0887\"],[0.1111111111111111,\"#46039f\"],[0.2222222222222222,\"#7201a8\"],[0.3333333333333333,\"#9c179e\"],[0.4444444444444444,\"#bd3786\"],[0.5555555555555556,\"#d8576b\"],[0.6666666666666666,\"#ed7953\"],[0.7777777777777778,\"#fb9f3a\"],[0.8888888888888888,\"#fdca26\"],[1.0,\"#f0f921\"]]}],\"heatmap\":[{\"type\":\"heatmap\",\"colorbar\":{\"outlinewidth\":0,\"ticks\":\"\"},\"colorscale\":[[0.0,\"#0d0887\"],[0.1111111111111111,\"#46039f\"],[0.2222222222222222,\"#7201a8\"],[0.3333333333333333,\"#9c179e\"],[0.4444444444444444,\"#bd3786\"],[0.5555555555555556,\"#d8576b\"],[0.6666666666666666,\"#ed7953\"],[0.7777777777777778,\"#fb9f3a\"],[0.8888888888888888,\"#fdca26\"],[1.0,\"#f0f921\"]]}],\"heatmapgl\":[{\"type\":\"heatmapgl\",\"colorbar\":{\"outlinewidth\":0,\"ticks\":\"\"},\"colorscale\":[[0.0,\"#0d0887\"],[0.1111111111111111,\"#46039f\"],[0.2222222222222222,\"#7201a8\"],[0.3333333333333333,\"#9c179e\"],[0.4444444444444444,\"#bd3786\"],[0.5555555555555556,\"#d8576b\"],[0.6666666666666666,\"#ed7953\"],[0.7777777777777778,\"#fb9f3a\"],[0.8888888888888888,\"#fdca26\"],[1.0,\"#f0f921\"]]}],\"contourcarpet\":[{\"type\":\"contourcarpet\",\"colorbar\":{\"outlinewidth\":0,\"ticks\":\"\"}}],\"contour\":[{\"type\":\"contour\",\"colorbar\":{\"outlinewidth\":0,\"ticks\":\"\"},\"colorscale\":[[0.0,\"#0d0887\"],[0.1111111111111111,\"#46039f\"],[0.2222222222222222,\"#7201a8\"],[0.3333333333333333,\"#9c179e\"],[0.4444444444444444,\"#bd3786\"],[0.5555555555555556,\"#d8576b\"],[0.6666666666666666,\"#ed7953\"],[0.7777777777777778,\"#fb9f3a\"],[0.8888888888888888,\"#fdca26\"],[1.0,\"#f0f921\"]]}],\"surface\":[{\"type\":\"surface\",\"colorbar\":{\"outlinewidth\":0,\"ticks\":\"\"},\"colorscale\":[[0.0,\"#0d0887\"],[0.1111111111111111,\"#46039f\"],[0.2222222222222222,\"#7201a8\"],[0.3333333333333333,\"#9c179e\"],[0.4444444444444444,\"#bd3786\"],[0.5555555555555556,\"#d8576b\"],[0.6666666666666666,\"#ed7953\"],[0.7777777777777778,\"#fb9f3a\"],[0.8888888888888888,\"#fdca26\"],[1.0,\"#f0f921\"]]}],\"mesh3d\":[{\"type\":\"mesh3d\",\"colorbar\":{\"outlinewidth\":0,\"ticks\":\"\"}}],\"scatter\":[{\"fillpattern\":{\"fillmode\":\"overlay\",\"size\":10,\"solidity\":0.2},\"type\":\"scatter\"}],\"parcoords\":[{\"type\":\"parcoords\",\"line\":{\"colorbar\":{\"outlinewidth\":0,\"ticks\":\"\"}}}],\"scatterpolargl\":[{\"type\":\"scatterpolargl\",\"marker\":{\"colorbar\":{\"outlinewidth\":0,\"ticks\":\"\"}}}],\"bar\":[{\"error_x\":{\"color\":\"#2a3f5f\"},\"error_y\":{\"color\":\"#2a3f5f\"},\"marker\":{\"line\":{\"color\":\"#E5ECF6\",\"width\":0.5},\"pattern\":{\"fillmode\":\"overlay\",\"size\":10,\"solidity\":0.2}},\"type\":\"bar\"}],\"scattergeo\":[{\"type\":\"scattergeo\",\"marker\":{\"colorbar\":{\"outlinewidth\":0,\"ticks\":\"\"}}}],\"scatterpolar\":[{\"type\":\"scatterpolar\",\"marker\":{\"colorbar\":{\"outlinewidth\":0,\"ticks\":\"\"}}}],\"histogram\":[{\"marker\":{\"pattern\":{\"fillmode\":\"overlay\",\"size\":10,\"solidity\":0.2}},\"type\":\"histogram\"}],\"scattergl\":[{\"type\":\"scattergl\",\"marker\":{\"colorbar\":{\"outlinewidth\":0,\"ticks\":\"\"}}}],\"scatter3d\":[{\"type\":\"scatter3d\",\"line\":{\"colorbar\":{\"outlinewidth\":0,\"ticks\":\"\"}},\"marker\":{\"colorbar\":{\"outlinewidth\":0,\"ticks\":\"\"}}}],\"scattermapbox\":[{\"type\":\"scattermapbox\",\"marker\":{\"colorbar\":{\"outlinewidth\":0,\"ticks\":\"\"}}}],\"scatterternary\":[{\"type\":\"scatterternary\",\"marker\":{\"colorbar\":{\"outlinewidth\":0,\"ticks\":\"\"}}}],\"scattercarpet\":[{\"type\":\"scattercarpet\",\"marker\":{\"colorbar\":{\"outlinewidth\":0,\"ticks\":\"\"}}}],\"carpet\":[{\"aaxis\":{\"endlinecolor\":\"#2a3f5f\",\"gridcolor\":\"white\",\"linecolor\":\"white\",\"minorgridcolor\":\"white\",\"startlinecolor\":\"#2a3f5f\"},\"baxis\":{\"endlinecolor\":\"#2a3f5f\",\"gridcolor\":\"white\",\"linecolor\":\"white\",\"minorgridcolor\":\"white\",\"startlinecolor\":\"#2a3f5f\"},\"type\":\"carpet\"}],\"table\":[{\"cells\":{\"fill\":{\"color\":\"#EBF0F8\"},\"line\":{\"color\":\"white\"}},\"header\":{\"fill\":{\"color\":\"#C8D4E3\"},\"line\":{\"color\":\"white\"}},\"type\":\"table\"}],\"barpolar\":[{\"marker\":{\"line\":{\"color\":\"#E5ECF6\",\"width\":0.5},\"pattern\":{\"fillmode\":\"overlay\",\"size\":10,\"solidity\":0.2}},\"type\":\"barpolar\"}],\"pie\":[{\"automargin\":true,\"type\":\"pie\"}]},\"layout\":{\"autotypenumbers\":\"strict\",\"colorway\":[\"#636efa\",\"#EF553B\",\"#00cc96\",\"#ab63fa\",\"#FFA15A\",\"#19d3f3\",\"#FF6692\",\"#B6E880\",\"#FF97FF\",\"#FECB52\"],\"font\":{\"color\":\"#2a3f5f\"},\"hovermode\":\"closest\",\"hoverlabel\":{\"align\":\"left\"},\"paper_bgcolor\":\"white\",\"plot_bgcolor\":\"#E5ECF6\",\"polar\":{\"bgcolor\":\"#E5ECF6\",\"angularaxis\":{\"gridcolor\":\"white\",\"linecolor\":\"white\",\"ticks\":\"\"},\"radialaxis\":{\"gridcolor\":\"white\",\"linecolor\":\"white\",\"ticks\":\"\"}},\"ternary\":{\"bgcolor\":\"#E5ECF6\",\"aaxis\":{\"gridcolor\":\"white\",\"linecolor\":\"white\",\"ticks\":\"\"},\"baxis\":{\"gridcolor\":\"white\",\"linecolor\":\"white\",\"ticks\":\"\"},\"caxis\":{\"gridcolor\":\"white\",\"linecolor\":\"white\",\"ticks\":\"\"}},\"coloraxis\":{\"colorbar\":{\"outlinewidth\":0,\"ticks\":\"\"}},\"colorscale\":{\"sequential\":[[0.0,\"#0d0887\"],[0.1111111111111111,\"#46039f\"],[0.2222222222222222,\"#7201a8\"],[0.3333333333333333,\"#9c179e\"],[0.4444444444444444,\"#bd3786\"],[0.5555555555555556,\"#d8576b\"],[0.6666666666666666,\"#ed7953\"],[0.7777777777777778,\"#fb9f3a\"],[0.8888888888888888,\"#fdca26\"],[1.0,\"#f0f921\"]],\"sequentialminus\":[[0.0,\"#0d0887\"],[0.1111111111111111,\"#46039f\"],[0.2222222222222222,\"#7201a8\"],[0.3333333333333333,\"#9c179e\"],[0.4444444444444444,\"#bd3786\"],[0.5555555555555556,\"#d8576b\"],[0.6666666666666666,\"#ed7953\"],[0.7777777777777778,\"#fb9f3a\"],[0.8888888888888888,\"#fdca26\"],[1.0,\"#f0f921\"]],\"diverging\":[[0,\"#8e0152\"],[0.1,\"#c51b7d\"],[0.2,\"#de77ae\"],[0.3,\"#f1b6da\"],[0.4,\"#fde0ef\"],[0.5,\"#f7f7f7\"],[0.6,\"#e6f5d0\"],[0.7,\"#b8e186\"],[0.8,\"#7fbc41\"],[0.9,\"#4d9221\"],[1,\"#276419\"]]},\"xaxis\":{\"gridcolor\":\"white\",\"linecolor\":\"white\",\"ticks\":\"\",\"title\":{\"standoff\":15},\"zerolinecolor\":\"white\",\"automargin\":true,\"zerolinewidth\":2},\"yaxis\":{\"gridcolor\":\"white\",\"linecolor\":\"white\",\"ticks\":\"\",\"title\":{\"standoff\":15},\"zerolinecolor\":\"white\",\"automargin\":true,\"zerolinewidth\":2},\"scene\":{\"xaxis\":{\"backgroundcolor\":\"#E5ECF6\",\"gridcolor\":\"white\",\"linecolor\":\"white\",\"showbackground\":true,\"ticks\":\"\",\"zerolinecolor\":\"white\",\"gridwidth\":2},\"yaxis\":{\"backgroundcolor\":\"#E5ECF6\",\"gridcolor\":\"white\",\"linecolor\":\"white\",\"showbackground\":true,\"ticks\":\"\",\"zerolinecolor\":\"white\",\"gridwidth\":2},\"zaxis\":{\"backgroundcolor\":\"#E5ECF6\",\"gridcolor\":\"white\",\"linecolor\":\"white\",\"showbackground\":true,\"ticks\":\"\",\"zerolinecolor\":\"white\",\"gridwidth\":2}},\"shapedefaults\":{\"line\":{\"color\":\"#2a3f5f\"}},\"annotationdefaults\":{\"arrowcolor\":\"#2a3f5f\",\"arrowhead\":0,\"arrowwidth\":1},\"geo\":{\"bgcolor\":\"white\",\"landcolor\":\"#E5ECF6\",\"subunitcolor\":\"white\",\"showland\":true,\"showlakes\":true,\"lakecolor\":\"white\"},\"title\":{\"x\":0.05},\"mapbox\":{\"style\":\"light\"}}}},                        {\"responsive\": true}                    ).then(function(){\n",
       "                            \n",
       "var gd = document.getElementById('6517908c-00ae-4668-bf67-d9df617e682b');\n",
       "var x = new MutationObserver(function (mutations, observer) {{\n",
       "        var display = window.getComputedStyle(gd).display;\n",
       "        if (!display || display === 'none') {{\n",
       "            console.log([gd, 'removed!']);\n",
       "            Plotly.purge(gd);\n",
       "            observer.disconnect();\n",
       "        }}\n",
       "}});\n",
       "\n",
       "// Listen for the removal of the full notebook cells\n",
       "var notebookContainer = gd.closest('#notebook-container');\n",
       "if (notebookContainer) {{\n",
       "    x.observe(notebookContainer, {childList: true});\n",
       "}}\n",
       "\n",
       "// Listen for the clearing of the current output cell\n",
       "var outputEl = gd.closest('.output');\n",
       "if (outputEl) {{\n",
       "    x.observe(outputEl, {childList: true});\n",
       "}}\n",
       "\n",
       "                        })                };                });            </script>        </div>"
      ]
     },
     "metadata": {},
     "output_type": "display_data"
    }
   ],
   "source": [
    "fig_auxiliary = px.scatter_3d(case_event_pulses.loc[case_event_pulses.auxiliary],\n",
    "                              x='x', y='y', z='z', opacity=0.5, color_discrete_sequence=['red'])\n",
    "fig_non_auxiliary = px.scatter_3d(case_event_pulses.loc[~case_event_pulses.auxiliary],\n",
    "                              x='x', y='y', z='z', opacity=0.5, color_discrete_sequence=['blue'])\n",
    "fig_line = px.line_3d(vector_target_df, x=\"x\", y=\"y\", z=\"z\")\n",
    "\n",
    "\n",
    "fig_auxiliary.update_traces(marker_size=2)\n",
    "fig_non_auxiliary.update_traces(marker_size=2)\n",
    "\n",
    "fig = go.Figure(data = fig_auxiliary.data + fig_non_auxiliary.data + fig_line.data)\n",
    "fig.show()"
   ]
  },
  {
   "cell_type": "markdown",
   "id": "562bc972",
   "metadata": {
    "papermill": {
     "duration": 0.02177,
     "end_time": "2023-01-23T21:57:05.227198",
     "exception": false,
     "start_time": "2023-01-23T21:57:05.205428",
     "status": "completed"
    },
    "tags": []
   },
   "source": [
    "The figure demonstrates the alignment of the angles with the 'true' pulses. Unfortunately, many events (probably most) do not have a clear pulse line like this one (hence I chose it for demonstration). Try to change case_event_idx to other numbers, then rerun the last four cells and see for yourself :)\n",
    "An important thing to note is that most non-auxiliary pulses appear as a short vertical line of close dots, not because they come straight from the top but due to the structure of the detector. Watch [this](https://www.youtube.com/watch?v=iv-Rz3-s4BM) video for a better explanation, and in particular, 3:12-3:25.\n"
   ]
  },
  {
   "cell_type": "markdown",
   "id": "28bd799e",
   "metadata": {
    "papermill": {
     "duration": 0.017009,
     "end_time": "2023-01-23T21:57:05.265663",
     "exception": false,
     "start_time": "2023-01-23T21:57:05.248654",
     "status": "completed"
    },
    "tags": []
   },
   "source": [
    "### Trying a naive fitting: first principal component"
   ]
  },
  {
   "cell_type": "code",
   "execution_count": 15,
   "id": "b500325e",
   "metadata": {
    "execution": {
     "iopub.execute_input": "2023-01-23T21:57:05.326509Z",
     "iopub.status.busy": "2023-01-23T21:57:05.321461Z",
     "iopub.status.idle": "2023-01-23T21:57:05.669664Z",
     "shell.execute_reply": "2023-01-23T21:57:05.666888Z"
    },
    "papermill": {
     "duration": 0.40041,
     "end_time": "2023-01-23T21:57:05.681844",
     "exception": false,
     "start_time": "2023-01-23T21:57:05.281434",
     "status": "completed"
    },
    "tags": []
   },
   "outputs": [
    {
     "data": {
      "text/html": [
       "<div>                            <div id=\"e10c98f8-955f-4118-b124-6a953fa39252\" class=\"plotly-graph-div\" style=\"height:525px; width:100%;\"></div>            <script type=\"text/javascript\">                require([\"plotly\"], function(Plotly) {                    window.PLOTLYENV=window.PLOTLYENV || {};                                    if (document.getElementById(\"e10c98f8-955f-4118-b124-6a953fa39252\")) {                    Plotly.newPlot(                        \"e10c98f8-955f-4118-b124-6a953fa39252\",                        [{\"hovertemplate\":\"x=%{x}<br>y=%{y}<br>z=%{z}<extra></extra>\",\"legendgroup\":\"\",\"marker\":{\"color\":\"red\",\"opacity\":0.5,\"size\":2,\"symbol\":\"circle\"},\"mode\":\"markers\",\"name\":\"\",\"scene\":\"scene\",\"showlegend\":false,\"x\":[38.25852112676057,-478.6914788732394,-478.6914788732394,-276.4514788732394,624.3085211267605,285.71852112676055,-231.5914788732394,4.668521126760567,-231.5914788732394,330.1185211267606,-63.571478873239435,285.71852112676055,105.13852112676057,172.90852112676058,154.87852112676057,70.04852112676056,-276.4514788732394,38.25852112676057,272.51852112676056,120.30852112676058,-478.6914788732394,408.9385211267606,-478.6914788732394,162.32852112676056,83.47852112676057,206.87852112676057,206.87852112676057,127.34852112676057,127.34852112676057,-84.86147887323943,258.40852112676055,-365.5214788732394,83.47852112676057,386.3785211267606,36.96852112676057,-53.12147887323943,-231.5914788732394,172.90852112676058,-399.80147887323943,330.1185211267606,374.7885211267606,-242.72147887323945,-276.4514788732394,351.3485211267606,4.668521126760567,553.2085211267605,179.96852112676058,-163.41147887323942,49.64852112676057,14.978521126760569,172.90852112676058,-276.4514788732394,-53.12147887323943,-29.861478873239427,-444.49147887323943,-108.29147887323941,206.87852112676057,491.7485211267606,154.87852112676057,89.53852112676057,-97.51147887323941,-53.12147887323943,-231.5914788732394,-310.5014788732394,-231.5914788732394,-310.5014788732394,-389.10147887323944,-73.83147887323943,-97.51147887323941,-310.5014788732394,285.71852112676055,-276.4514788732394,148.97852112676057,-310.5014788732394,38.25852112676057,-197.71147887323943,-365.5214788732394,59.80852112676057,340.83852112676055,-276.4514788732394,-399.80147887323943,-265.66147887323945,-276.4514788732394,79.18852112676058,-18.761478873239433],\"y\":[-16.08373239436621,47.81626760563379,47.81626760563379,-30.013732394366215,234.3362676056338,-379.00373239436624,86.5862676056338,-204.1037323943662,86.5862676056338,-262.32373239436623,223.3962676056338,-379.00373239436624,-42.103732394366205,-67.83373239436621,90.5062676056338,572.9162676056338,-30.013732394366215,-16.08373239436621,495.7662676056338,-3.183732394366203,47.81626760563379,-359.4137323943662,47.81626760563379,-398.57373239436623,-301.4137323943662,-281.81373239436624,-281.81373239436624,-184.82373239436623,-184.82373239436623,-438.0337323943662,-146.3537323943662,-263.8537323943662,-301.4137323943662,527.1362676056339,70.13626760563379,553.6362676056339,86.5862676056338,-67.83373239436621,-49.713732394366204,-262.32373239436623,-145.65373239436622,-243.96373239436622,-30.013732394366215,399.05626760563376,-204.1037323943662,321.2962676056338,266.3962676056338,-341.06373239436624,-87.2137323943662,125.85626760563379,-67.83373239436621,-30.013732394366215,553.6362676056339,9.086267605633793,-166.7437323943662,106.78626760563378,-281.81373239436624,-130.96373239436622,90.5062676056338,98.90626760563379,437.6562676056338,553.6362676056339,86.5862676056338,183.97626760563378,86.5862676056338,183.97626760563378,281.2162676056338,-107.61373239436621,437.6562676056338,183.97626760563378,-379.00373239436624,-30.013732394366215,476.2062676056338,183.97626760563378,-16.08373239436621,-127.07373239436622,-263.8537323943662,242.60626760563378,68.6162676056338,-30.013732394366215,-49.713732394366204,300.8562676056338,-30.013732394366215,-9.513732394366215,340.3362676056338],\"z\":[-165.49387323943662,223.25612676056338,223.25612676056338,-255.85387323943664,-278.9638732394366,358.22612676056343,-425.3938732394366,373.9061267605634,-425.3938732394366,-393.7138732394366,-289.4938732394366,273.1161267605634,-373.7338732394366,-228.29387323943664,-338.0438732394366,463.5461267605634,-255.85387323943664,-165.49387323943662,-327.0038732394366,-288.0538732394366,-236.30387323943663,-52.22387323943662,223.25612676056338,49.04612676056338,-122.11387323943663,-307.2138732394366,-102.96387323943662,-257.08387323943657,-308.1438732394366,288.7461267605634,-361.1738732394366,-443.6238732394366,-309.33387323943657,-369.4138732394366,-152.06387323943662,85.90612676056338,-425.3938732394366,-279.3538732394366,476.5761267605634,-393.7138732394366,-308.6238732394366,3.466126760563384,-255.85387323943664,284.60612676056337,-136.7238732394366,56.61612676056338,223.32612676056337,-2.0538732394366193,319.9661267605634,182.3661267605634,-228.29387323943664,424.97612676056343,51.86612676056338,70.10612676056338,99.04612676056338,0.1561267605633816,-102.96387323943662,-324.4238732394366,-345.0538732394366,210.47612676056337,-339.0038732394366,-118.33387323943663,172.13612676056337,-138.78387323943662,-253.3838732394366,-326.0038732394366,-339.6238732394366,-49.463873239436616,-253.90387323943665,-274.9438732394366,358.22612676056343,424.97612676056343,225.00612676056338,-394.0938732394366,-123.44387323943661,-390.0638732394366,-358.52387323943657,308.0361267605634,24.76612676056338,-255.85387323943664,51.05612676056339,153.7061267605634,424.97612676056343,249.29612676056337,-326.2438732394366],\"type\":\"scatter3d\"},{\"hovertemplate\":\"x=%{x}<br>y=%{y}<br>z=%{z}<extra></extra>\",\"legendgroup\":\"\",\"marker\":{\"color\":\"blue\",\"opacity\":0.5,\"size\":2,\"symbol\":\"circle\"},\"mode\":\"markers\",\"name\":\"\",\"scene\":\"scene\",\"showlegend\":false,\"x\":[162.32852112676056,162.32852112676056,162.32852112676056,162.32852112676056,162.32852112676056,330.1185211267606,330.1185211267606,172.90852112676058,172.90852112676058,172.90852112676058,172.90852112676058,172.90852112676058,79.18852112676058,79.18852112676058,79.18852112676058,79.18852112676058,105.13852112676057,172.90852112676058,79.18852112676058,79.18852112676058,79.18852112676058,79.18852112676058,79.18852112676058,79.18852112676058,38.25852112676057,120.30852112676058,105.13852112676057,38.25852112676057,38.25852112676057,38.25852112676057,79.18852112676058,38.25852112676057,38.25852112676057,120.30852112676058,105.13852112676057,120.30852112676058,105.13852112676057,38.25852112676057,36.96852112676057,38.25852112676057,-29.861478873239427,79.18852112676058,-29.861478873239427,-29.861478873239427,36.96852112676057,-108.29147887323941,-310.5014788732394,-310.5014788732394,-231.5914788732394,-310.5014788732394,-231.5914788732394,-310.5014788732394,-108.29147887323941,-231.5914788732394,-231.5914788732394,-310.5014788732394,-310.5014788732394],\"y\":[-398.57373239436623,-398.57373239436623,-398.57373239436623,-398.57373239436623,-398.57373239436623,-262.32373239436623,-262.32373239436623,-67.83373239436621,-67.83373239436621,-67.83373239436621,-67.83373239436621,-67.83373239436621,-9.513732394366215,-9.513732394366215,-9.513732394366215,-9.513732394366215,-42.103732394366205,-67.83373239436621,-9.513732394366215,-9.513732394366215,-9.513732394366215,-9.513732394366215,-9.513732394366215,-9.513732394366215,-16.08373239436621,-3.183732394366203,-42.103732394366205,-16.08373239436621,-16.08373239436621,-16.08373239436621,-9.513732394366215,-16.08373239436621,-16.08373239436621,-3.183732394366203,-42.103732394366205,-3.183732394366203,-42.103732394366205,-16.08373239436621,70.13626760563379,-16.08373239436621,9.086267605633793,-9.513732394366215,9.086267605633793,9.086267605633793,70.13626760563379,106.78626760563378,183.97626760563378,183.97626760563378,86.5862676056338,183.97626760563378,86.5862676056338,183.97626760563378,106.78626760563378,86.5862676056338,86.5862676056338,183.97626760563378,183.97626760563378],\"z\":[32.026126760563386,15.006126760563383,15.006126760563383,-2.01387323943662,32.026126760563386,-257.5438732394366,-274.5638732394366,367.4361267605634,367.4361267605634,384.4561267605634,418.4961267605634,384.4561267605634,249.29612676056337,249.29612676056337,249.29612676056337,239.28612676056338,247.0261267605634,418.4961267605634,229.2761267605634,229.2761267605634,229.2761267605634,249.29612676056337,209.24612676056339,199.23612676056337,211.96612676056338,198.53612676056338,237.01612676056337,191.94612676056337,191.94612676056337,171.91612676056337,199.23612676056337,181.93612676056338,221.98612676056337,188.5261267605634,186.9561267605634,208.54612676056337,176.94612676056337,201.95612676056336,231.40612676056338,201.95612676056336,138.19612676056337,189.22612676056337,155.21612676056338,121.17612676056339,211.37612676056338,-101.96387323943662,-206.86387323943663,-189.84387323943662,-100.19387323943661,-223.8838732394366,-117.21387323943662,-223.8838732394366,-84.94387323943661,-117.21387323943662,-100.19387323943661,-206.86387323943663,-206.86387323943663],\"type\":\"scatter3d\"},{\"hovertemplate\":\"x=%{x}<br>y=%{y}<br>z=%{z}<extra></extra>\",\"legendgroup\":\"\",\"line\":{\"color\":\"#636efa\",\"dash\":\"solid\"},\"marker\":{\"symbol\":\"circle\"},\"mode\":\"lines\",\"name\":\"\",\"scene\":\"scene\",\"showlegend\":false,\"x\":[-311.7452701474624,311.7452701474624],\"y\":[145.71130789800958,-145.71130789800958],\"z\":[-362.7438507974148,362.7438507974148],\"type\":\"scatter3d\"},{\"hovertemplate\":\"x=%{x}<br>y=%{y}<br>z=%{z}<extra></extra>\",\"legendgroup\":\"\",\"line\":{\"color\":\"magenta\",\"dash\":\"solid\"},\"marker\":{\"symbol\":\"circle\"},\"mode\":\"lines\",\"name\":\"\",\"scene\":\"scene\",\"showlegend\":false,\"x\":[-227.25470157171304,227.25470157171304],\"y\":[164.41411601947715,-164.41411601947715],\"z\":[-413.9121876281077,413.9121876281077],\"type\":\"scatter3d\"}],                        {\"template\":{\"data\":{\"histogram2dcontour\":[{\"type\":\"histogram2dcontour\",\"colorbar\":{\"outlinewidth\":0,\"ticks\":\"\"},\"colorscale\":[[0.0,\"#0d0887\"],[0.1111111111111111,\"#46039f\"],[0.2222222222222222,\"#7201a8\"],[0.3333333333333333,\"#9c179e\"],[0.4444444444444444,\"#bd3786\"],[0.5555555555555556,\"#d8576b\"],[0.6666666666666666,\"#ed7953\"],[0.7777777777777778,\"#fb9f3a\"],[0.8888888888888888,\"#fdca26\"],[1.0,\"#f0f921\"]]}],\"choropleth\":[{\"type\":\"choropleth\",\"colorbar\":{\"outlinewidth\":0,\"ticks\":\"\"}}],\"histogram2d\":[{\"type\":\"histogram2d\",\"colorbar\":{\"outlinewidth\":0,\"ticks\":\"\"},\"colorscale\":[[0.0,\"#0d0887\"],[0.1111111111111111,\"#46039f\"],[0.2222222222222222,\"#7201a8\"],[0.3333333333333333,\"#9c179e\"],[0.4444444444444444,\"#bd3786\"],[0.5555555555555556,\"#d8576b\"],[0.6666666666666666,\"#ed7953\"],[0.7777777777777778,\"#fb9f3a\"],[0.8888888888888888,\"#fdca26\"],[1.0,\"#f0f921\"]]}],\"heatmap\":[{\"type\":\"heatmap\",\"colorbar\":{\"outlinewidth\":0,\"ticks\":\"\"},\"colorscale\":[[0.0,\"#0d0887\"],[0.1111111111111111,\"#46039f\"],[0.2222222222222222,\"#7201a8\"],[0.3333333333333333,\"#9c179e\"],[0.4444444444444444,\"#bd3786\"],[0.5555555555555556,\"#d8576b\"],[0.6666666666666666,\"#ed7953\"],[0.7777777777777778,\"#fb9f3a\"],[0.8888888888888888,\"#fdca26\"],[1.0,\"#f0f921\"]]}],\"heatmapgl\":[{\"type\":\"heatmapgl\",\"colorbar\":{\"outlinewidth\":0,\"ticks\":\"\"},\"colorscale\":[[0.0,\"#0d0887\"],[0.1111111111111111,\"#46039f\"],[0.2222222222222222,\"#7201a8\"],[0.3333333333333333,\"#9c179e\"],[0.4444444444444444,\"#bd3786\"],[0.5555555555555556,\"#d8576b\"],[0.6666666666666666,\"#ed7953\"],[0.7777777777777778,\"#fb9f3a\"],[0.8888888888888888,\"#fdca26\"],[1.0,\"#f0f921\"]]}],\"contourcarpet\":[{\"type\":\"contourcarpet\",\"colorbar\":{\"outlinewidth\":0,\"ticks\":\"\"}}],\"contour\":[{\"type\":\"contour\",\"colorbar\":{\"outlinewidth\":0,\"ticks\":\"\"},\"colorscale\":[[0.0,\"#0d0887\"],[0.1111111111111111,\"#46039f\"],[0.2222222222222222,\"#7201a8\"],[0.3333333333333333,\"#9c179e\"],[0.4444444444444444,\"#bd3786\"],[0.5555555555555556,\"#d8576b\"],[0.6666666666666666,\"#ed7953\"],[0.7777777777777778,\"#fb9f3a\"],[0.8888888888888888,\"#fdca26\"],[1.0,\"#f0f921\"]]}],\"surface\":[{\"type\":\"surface\",\"colorbar\":{\"outlinewidth\":0,\"ticks\":\"\"},\"colorscale\":[[0.0,\"#0d0887\"],[0.1111111111111111,\"#46039f\"],[0.2222222222222222,\"#7201a8\"],[0.3333333333333333,\"#9c179e\"],[0.4444444444444444,\"#bd3786\"],[0.5555555555555556,\"#d8576b\"],[0.6666666666666666,\"#ed7953\"],[0.7777777777777778,\"#fb9f3a\"],[0.8888888888888888,\"#fdca26\"],[1.0,\"#f0f921\"]]}],\"mesh3d\":[{\"type\":\"mesh3d\",\"colorbar\":{\"outlinewidth\":0,\"ticks\":\"\"}}],\"scatter\":[{\"fillpattern\":{\"fillmode\":\"overlay\",\"size\":10,\"solidity\":0.2},\"type\":\"scatter\"}],\"parcoords\":[{\"type\":\"parcoords\",\"line\":{\"colorbar\":{\"outlinewidth\":0,\"ticks\":\"\"}}}],\"scatterpolargl\":[{\"type\":\"scatterpolargl\",\"marker\":{\"colorbar\":{\"outlinewidth\":0,\"ticks\":\"\"}}}],\"bar\":[{\"error_x\":{\"color\":\"#2a3f5f\"},\"error_y\":{\"color\":\"#2a3f5f\"},\"marker\":{\"line\":{\"color\":\"#E5ECF6\",\"width\":0.5},\"pattern\":{\"fillmode\":\"overlay\",\"size\":10,\"solidity\":0.2}},\"type\":\"bar\"}],\"scattergeo\":[{\"type\":\"scattergeo\",\"marker\":{\"colorbar\":{\"outlinewidth\":0,\"ticks\":\"\"}}}],\"scatterpolar\":[{\"type\":\"scatterpolar\",\"marker\":{\"colorbar\":{\"outlinewidth\":0,\"ticks\":\"\"}}}],\"histogram\":[{\"marker\":{\"pattern\":{\"fillmode\":\"overlay\",\"size\":10,\"solidity\":0.2}},\"type\":\"histogram\"}],\"scattergl\":[{\"type\":\"scattergl\",\"marker\":{\"colorbar\":{\"outlinewidth\":0,\"ticks\":\"\"}}}],\"scatter3d\":[{\"type\":\"scatter3d\",\"line\":{\"colorbar\":{\"outlinewidth\":0,\"ticks\":\"\"}},\"marker\":{\"colorbar\":{\"outlinewidth\":0,\"ticks\":\"\"}}}],\"scattermapbox\":[{\"type\":\"scattermapbox\",\"marker\":{\"colorbar\":{\"outlinewidth\":0,\"ticks\":\"\"}}}],\"scatterternary\":[{\"type\":\"scatterternary\",\"marker\":{\"colorbar\":{\"outlinewidth\":0,\"ticks\":\"\"}}}],\"scattercarpet\":[{\"type\":\"scattercarpet\",\"marker\":{\"colorbar\":{\"outlinewidth\":0,\"ticks\":\"\"}}}],\"carpet\":[{\"aaxis\":{\"endlinecolor\":\"#2a3f5f\",\"gridcolor\":\"white\",\"linecolor\":\"white\",\"minorgridcolor\":\"white\",\"startlinecolor\":\"#2a3f5f\"},\"baxis\":{\"endlinecolor\":\"#2a3f5f\",\"gridcolor\":\"white\",\"linecolor\":\"white\",\"minorgridcolor\":\"white\",\"startlinecolor\":\"#2a3f5f\"},\"type\":\"carpet\"}],\"table\":[{\"cells\":{\"fill\":{\"color\":\"#EBF0F8\"},\"line\":{\"color\":\"white\"}},\"header\":{\"fill\":{\"color\":\"#C8D4E3\"},\"line\":{\"color\":\"white\"}},\"type\":\"table\"}],\"barpolar\":[{\"marker\":{\"line\":{\"color\":\"#E5ECF6\",\"width\":0.5},\"pattern\":{\"fillmode\":\"overlay\",\"size\":10,\"solidity\":0.2}},\"type\":\"barpolar\"}],\"pie\":[{\"automargin\":true,\"type\":\"pie\"}]},\"layout\":{\"autotypenumbers\":\"strict\",\"colorway\":[\"#636efa\",\"#EF553B\",\"#00cc96\",\"#ab63fa\",\"#FFA15A\",\"#19d3f3\",\"#FF6692\",\"#B6E880\",\"#FF97FF\",\"#FECB52\"],\"font\":{\"color\":\"#2a3f5f\"},\"hovermode\":\"closest\",\"hoverlabel\":{\"align\":\"left\"},\"paper_bgcolor\":\"white\",\"plot_bgcolor\":\"#E5ECF6\",\"polar\":{\"bgcolor\":\"#E5ECF6\",\"angularaxis\":{\"gridcolor\":\"white\",\"linecolor\":\"white\",\"ticks\":\"\"},\"radialaxis\":{\"gridcolor\":\"white\",\"linecolor\":\"white\",\"ticks\":\"\"}},\"ternary\":{\"bgcolor\":\"#E5ECF6\",\"aaxis\":{\"gridcolor\":\"white\",\"linecolor\":\"white\",\"ticks\":\"\"},\"baxis\":{\"gridcolor\":\"white\",\"linecolor\":\"white\",\"ticks\":\"\"},\"caxis\":{\"gridcolor\":\"white\",\"linecolor\":\"white\",\"ticks\":\"\"}},\"coloraxis\":{\"colorbar\":{\"outlinewidth\":0,\"ticks\":\"\"}},\"colorscale\":{\"sequential\":[[0.0,\"#0d0887\"],[0.1111111111111111,\"#46039f\"],[0.2222222222222222,\"#7201a8\"],[0.3333333333333333,\"#9c179e\"],[0.4444444444444444,\"#bd3786\"],[0.5555555555555556,\"#d8576b\"],[0.6666666666666666,\"#ed7953\"],[0.7777777777777778,\"#fb9f3a\"],[0.8888888888888888,\"#fdca26\"],[1.0,\"#f0f921\"]],\"sequentialminus\":[[0.0,\"#0d0887\"],[0.1111111111111111,\"#46039f\"],[0.2222222222222222,\"#7201a8\"],[0.3333333333333333,\"#9c179e\"],[0.4444444444444444,\"#bd3786\"],[0.5555555555555556,\"#d8576b\"],[0.6666666666666666,\"#ed7953\"],[0.7777777777777778,\"#fb9f3a\"],[0.8888888888888888,\"#fdca26\"],[1.0,\"#f0f921\"]],\"diverging\":[[0,\"#8e0152\"],[0.1,\"#c51b7d\"],[0.2,\"#de77ae\"],[0.3,\"#f1b6da\"],[0.4,\"#fde0ef\"],[0.5,\"#f7f7f7\"],[0.6,\"#e6f5d0\"],[0.7,\"#b8e186\"],[0.8,\"#7fbc41\"],[0.9,\"#4d9221\"],[1,\"#276419\"]]},\"xaxis\":{\"gridcolor\":\"white\",\"linecolor\":\"white\",\"ticks\":\"\",\"title\":{\"standoff\":15},\"zerolinecolor\":\"white\",\"automargin\":true,\"zerolinewidth\":2},\"yaxis\":{\"gridcolor\":\"white\",\"linecolor\":\"white\",\"ticks\":\"\",\"title\":{\"standoff\":15},\"zerolinecolor\":\"white\",\"automargin\":true,\"zerolinewidth\":2},\"scene\":{\"xaxis\":{\"backgroundcolor\":\"#E5ECF6\",\"gridcolor\":\"white\",\"linecolor\":\"white\",\"showbackground\":true,\"ticks\":\"\",\"zerolinecolor\":\"white\",\"gridwidth\":2},\"yaxis\":{\"backgroundcolor\":\"#E5ECF6\",\"gridcolor\":\"white\",\"linecolor\":\"white\",\"showbackground\":true,\"ticks\":\"\",\"zerolinecolor\":\"white\",\"gridwidth\":2},\"zaxis\":{\"backgroundcolor\":\"#E5ECF6\",\"gridcolor\":\"white\",\"linecolor\":\"white\",\"showbackground\":true,\"ticks\":\"\",\"zerolinecolor\":\"white\",\"gridwidth\":2}},\"shapedefaults\":{\"line\":{\"color\":\"#2a3f5f\"}},\"annotationdefaults\":{\"arrowcolor\":\"#2a3f5f\",\"arrowhead\":0,\"arrowwidth\":1},\"geo\":{\"bgcolor\":\"white\",\"landcolor\":\"#E5ECF6\",\"subunitcolor\":\"white\",\"showland\":true,\"showlakes\":true,\"lakecolor\":\"white\"},\"title\":{\"x\":0.05},\"mapbox\":{\"style\":\"light\"}}}},                        {\"responsive\": true}                    ).then(function(){\n",
       "                            \n",
       "var gd = document.getElementById('e10c98f8-955f-4118-b124-6a953fa39252');\n",
       "var x = new MutationObserver(function (mutations, observer) {{\n",
       "        var display = window.getComputedStyle(gd).display;\n",
       "        if (!display || display === 'none') {{\n",
       "            console.log([gd, 'removed!']);\n",
       "            Plotly.purge(gd);\n",
       "            observer.disconnect();\n",
       "        }}\n",
       "}});\n",
       "\n",
       "// Listen for the removal of the full notebook cells\n",
       "var notebookContainer = gd.closest('#notebook-container');\n",
       "if (notebookContainer) {{\n",
       "    x.observe(notebookContainer, {childList: true});\n",
       "}}\n",
       "\n",
       "// Listen for the clearing of the current output cell\n",
       "var outputEl = gd.closest('.output');\n",
       "if (outputEl) {{\n",
       "    x.observe(outputEl, {childList: true});\n",
       "}}\n",
       "\n",
       "                        })                };                });            </script>        </div>"
      ]
     },
     "metadata": {},
     "output_type": "display_data"
    }
   ],
   "source": [
    "pca = PCA(n_components=1).fit(case_event_pulses[['x', 'y', 'z']])\n",
    "vector = pca.components_[0]\n",
    "vector_base = np.array([-500, 500])\n",
    "x = vector_base*vector[0]\n",
    "y = vector_base*vector[1]\n",
    "z = vector_base*vector[2]\n",
    "vector_df = pd.DataFrame({'x': x, 'y': y, 'z': z})\n",
    "\n",
    "fig_auxiliary = px.scatter_3d(case_event_pulses.loc[case_event_pulses.auxiliary],\n",
    "                              x='x', y='y', z='z', opacity=0.5, color_discrete_sequence=['red'])\n",
    "fig_non_auxiliary = px.scatter_3d(case_event_pulses.loc[~case_event_pulses.auxiliary],\n",
    "                              x='x', y='y', z='z', opacity=0.5, color_discrete_sequence=['blue'])\n",
    "fig_line = px.line_3d(vector_target_df, x=\"x\", y=\"y\", z=\"z\")\n",
    "fig_fit_line = px.line_3d(vector_df, x=\"x\", y=\"y\", z=\"z\", color_discrete_sequence=['magenta'])\n",
    "\n",
    "fig_auxiliary.update_traces(marker_size=2)\n",
    "fig_non_auxiliary.update_traces(marker_size=2)\n",
    "\n",
    "fig = go.Figure(data = fig_auxiliary.data + fig_non_auxiliary.data + fig_line.data + fig_fit_line.data)\n",
    "fig.show()"
   ]
  },
  {
   "cell_type": "markdown",
   "id": "264cb05f",
   "metadata": {
    "papermill": {
     "duration": 0.019464,
     "end_time": "2023-01-23T21:57:05.728532",
     "exception": false,
     "start_time": "2023-01-23T21:57:05.709068",
     "status": "completed"
    },
    "tags": []
   },
   "source": [
    "### Let's calculate the error using [this scheme](https://www.kaggle.com/code/sohier/mean-angular-error)"
   ]
  },
  {
   "cell_type": "code",
   "execution_count": 16,
   "id": "d0e901b3",
   "metadata": {
    "execution": {
     "iopub.execute_input": "2023-01-23T21:57:05.769847Z",
     "iopub.status.busy": "2023-01-23T21:57:05.768245Z",
     "iopub.status.idle": "2023-01-23T21:57:05.782727Z",
     "shell.execute_reply": "2023-01-23T21:57:05.781595Z"
    },
    "papermill": {
     "duration": 0.040865,
     "end_time": "2023-01-23T21:57:05.785689",
     "exception": false,
     "start_time": "2023-01-23T21:57:05.744824",
     "status": "completed"
    },
    "tags": []
   },
   "outputs": [],
   "source": [
    "def angular_dist_score(az_true, zen_true, az_pred, zen_pred):\n",
    "    '''\n",
    "    calculate the MAE of the angular distance between two directions.\n",
    "    The two vectors are first converted to cartesian unit vectors,\n",
    "    and then their scalar product is computed, which is equal to\n",
    "    the cosine of the angle between the two vectors. The inverse \n",
    "    cosine (arccos) thereof is then the angle between the two input vectors\n",
    "    \n",
    "    Parameters:\n",
    "    -----------\n",
    "    \n",
    "    az_true : float (or array thereof)\n",
    "        true azimuth value(s) in radian\n",
    "    zen_true : float (or array thereof)\n",
    "        true zenith value(s) in radian\n",
    "    az_pred : float (or array thereof)\n",
    "        predicted azimuth value(s) in radian\n",
    "    zen_pred : float (or array thereof)\n",
    "        predicted zenith value(s) in radian\n",
    "    \n",
    "    Returns:\n",
    "    --------\n",
    "    \n",
    "    dist : float\n",
    "        mean over the angular distance(s) in radian\n",
    "    '''\n",
    "    \n",
    "    if not (np.all(np.isfinite(az_true)) and\n",
    "            np.all(np.isfinite(zen_true)) and\n",
    "            np.all(np.isfinite(az_pred)) and\n",
    "            np.all(np.isfinite(zen_pred))):\n",
    "        raise ValueError(\"All arguments must be finite\")\n",
    "    \n",
    "    # pre-compute all sine and cosine values\n",
    "    sa1 = np.sin(az_true)\n",
    "    ca1 = np.cos(az_true)\n",
    "    sz1 = np.sin(zen_true)\n",
    "    cz1 = np.cos(zen_true)\n",
    "    \n",
    "    sa2 = np.sin(az_pred)\n",
    "    ca2 = np.cos(az_pred)\n",
    "    sz2 = np.sin(zen_pred)\n",
    "    cz2 = np.cos(zen_pred)\n",
    "    \n",
    "    # scalar product of the two cartesian vectors (x = sz*ca, y = sz*sa, z = cz)\n",
    "    scalar_prod = sz1*sz2*(ca1*ca2 + sa1*sa2) + (cz1*cz2)\n",
    "    \n",
    "    # scalar product of two unit vectors is always between -1 and 1, this is against nummerical instability\n",
    "    # that might otherwise occure from the finite precision of the sine and cosine functions\n",
    "    scalar_prod =  np.clip(scalar_prod, -1, 1)\n",
    "    \n",
    "    # convert back to an angle (in radian)\n",
    "    return np.average(np.abs(np.arccos(scalar_prod)))"
   ]
  },
  {
   "cell_type": "code",
   "execution_count": 17,
   "id": "459a1fad",
   "metadata": {
    "execution": {
     "iopub.execute_input": "2023-01-23T21:57:05.824650Z",
     "iopub.status.busy": "2023-01-23T21:57:05.823289Z",
     "iopub.status.idle": "2023-01-23T21:57:05.836830Z",
     "shell.execute_reply": "2023-01-23T21:57:05.835393Z"
    },
    "papermill": {
     "duration": 0.037981,
     "end_time": "2023-01-23T21:57:05.841478",
     "exception": false,
     "start_time": "2023-01-23T21:57:05.803497",
     "status": "completed"
    },
    "tags": []
   },
   "outputs": [
    {
     "name": "stdout",
     "output_type": "stream",
     "text": [
      "Predictions:\n",
      "zenith: 0.5955780199750245\n",
      "azimuth: 5.656874481284984\n",
      "Target:\n",
      "zenith: 0.7590535704990591\n",
      "azimuth: 5.845951997240071\n",
      "Error:\n",
      "0.2014039002172295\n"
     ]
    }
   ],
   "source": [
    "zenith = np.arccos(vector[2])\n",
    "azimuth = np.arctan2(vector[1], vector[0])\n",
    "if azimuth<0:\n",
    "    azimuth = 2*np.pi + azimuth\n",
    "\n",
    "print('Predictions:')\n",
    "print(f'zenith: {zenith}')\n",
    "print(f'azimuth: {azimuth}')\n",
    "print('Target:')\n",
    "print(f'zenith: {zenith_target}')\n",
    "print(f'azimuth: {azimuth_target}')\n",
    "print('Error:')\n",
    "print(angular_dist_score(azimuth_target, zenith_target, azimuth, zenith))"
   ]
  },
  {
   "cell_type": "markdown",
   "id": "45915919",
   "metadata": {
    "papermill": {
     "duration": 0.016793,
     "end_time": "2023-01-23T21:57:05.876007",
     "exception": false,
     "start_time": "2023-01-23T21:57:05.859214",
     "status": "completed"
    },
    "tags": []
   },
   "source": [
    "# Baseline validation"
   ]
  },
  {
   "cell_type": "markdown",
   "id": "f094cb0e",
   "metadata": {
    "papermill": {
     "duration": 0.015791,
     "end_time": "2023-01-23T21:57:05.910060",
     "exception": false,
     "start_time": "2023-01-23T21:57:05.894269",
     "status": "completed"
    },
    "tags": []
   },
   "source": [
    "The baseline strategy will be fitting a vector through only the 'true' pulses if there are enough (>15); otherwise, fitting a vector through all the data. Additionally, I will calculate the average time of the 'true' pulses on the negative and positive sides of the vector and flip its direction if it points to the wrong one. (lower times should be on the positive side since it is supposed to point to the source of the neutrino). This analysis is done only for the 'true' pulses since the auxiliary pulses times are too noisy for this analysis without further refinement."
   ]
  },
  {
   "cell_type": "code",
   "execution_count": 18,
   "id": "24fb178f",
   "metadata": {
    "execution": {
     "iopub.execute_input": "2023-01-23T21:57:05.944999Z",
     "iopub.status.busy": "2023-01-23T21:57:05.944070Z",
     "iopub.status.idle": "2023-01-23T21:57:08.015338Z",
     "shell.execute_reply": "2023-01-23T21:57:08.014069Z"
    },
    "papermill": {
     "duration": 2.092679,
     "end_time": "2023-01-23T21:57:08.018861",
     "exception": false,
     "start_time": "2023-01-23T21:57:05.926182",
     "status": "completed"
    },
    "tags": []
   },
   "outputs": [
    {
     "data": {
      "text/html": [
       "<div>\n",
       "<style scoped>\n",
       "    .dataframe tbody tr th:only-of-type {\n",
       "        vertical-align: middle;\n",
       "    }\n",
       "\n",
       "    .dataframe tbody tr th {\n",
       "        vertical-align: top;\n",
       "    }\n",
       "\n",
       "    .dataframe thead th {\n",
       "        text-align: right;\n",
       "    }\n",
       "</style>\n",
       "<table border=\"1\" class=\"dataframe\">\n",
       "  <thead>\n",
       "    <tr style=\"text-align: right;\">\n",
       "      <th></th>\n",
       "      <th>batch_id</th>\n",
       "      <th>event_id</th>\n",
       "      <th>first_pulse_index</th>\n",
       "      <th>last_pulse_index</th>\n",
       "      <th>azimuth</th>\n",
       "      <th>zenith</th>\n",
       "    </tr>\n",
       "  </thead>\n",
       "  <tbody>\n",
       "    <tr>\n",
       "      <th>0</th>\n",
       "      <td>1</td>\n",
       "      <td>24</td>\n",
       "      <td>0</td>\n",
       "      <td>60</td>\n",
       "      <td>5.029555</td>\n",
       "      <td>2.087498</td>\n",
       "    </tr>\n",
       "    <tr>\n",
       "      <th>1</th>\n",
       "      <td>1</td>\n",
       "      <td>41</td>\n",
       "      <td>61</td>\n",
       "      <td>111</td>\n",
       "      <td>0.417742</td>\n",
       "      <td>1.549686</td>\n",
       "    </tr>\n",
       "    <tr>\n",
       "      <th>2</th>\n",
       "      <td>1</td>\n",
       "      <td>59</td>\n",
       "      <td>112</td>\n",
       "      <td>147</td>\n",
       "      <td>1.160466</td>\n",
       "      <td>2.401942</td>\n",
       "    </tr>\n",
       "    <tr>\n",
       "      <th>3</th>\n",
       "      <td>1</td>\n",
       "      <td>67</td>\n",
       "      <td>148</td>\n",
       "      <td>289</td>\n",
       "      <td>5.845952</td>\n",
       "      <td>0.759054</td>\n",
       "    </tr>\n",
       "    <tr>\n",
       "      <th>4</th>\n",
       "      <td>1</td>\n",
       "      <td>72</td>\n",
       "      <td>290</td>\n",
       "      <td>351</td>\n",
       "      <td>0.653719</td>\n",
       "      <td>0.939117</td>\n",
       "    </tr>\n",
       "  </tbody>\n",
       "</table>\n",
       "</div>"
      ],
      "text/plain": [
       "   batch_id  event_id  first_pulse_index  last_pulse_index   azimuth    zenith\n",
       "0         1        24                  0                60  5.029555  2.087498\n",
       "1         1        41                 61               111  0.417742  1.549686\n",
       "2         1        59                112               147  1.160466  2.401942\n",
       "3         1        67                148               289  5.845952  0.759054\n",
       "4         1        72                290               351  0.653719  0.939117"
      ]
     },
     "execution_count": 18,
     "metadata": {},
     "output_type": "execute_result"
    }
   ],
   "source": [
    "train_batches = train_meta.batch_id.unique()\n",
    "train_meta_baseline = train_meta.loc[train_meta.batch_id == train_batches[0]].iloc[:10000].copy()\n",
    "train_meta_baseline.head()"
   ]
  },
  {
   "cell_type": "code",
   "execution_count": 19,
   "id": "0db79340",
   "metadata": {
    "execution": {
     "iopub.execute_input": "2023-01-23T21:57:08.078886Z",
     "iopub.status.busy": "2023-01-23T21:57:08.078264Z",
     "iopub.status.idle": "2023-01-23T21:57:13.165673Z",
     "shell.execute_reply": "2023-01-23T21:57:13.164288Z"
    },
    "papermill": {
     "duration": 5.122284,
     "end_time": "2023-01-23T21:57:13.169707",
     "exception": false,
     "start_time": "2023-01-23T21:57:08.047423",
     "status": "completed"
    },
    "tags": []
   },
   "outputs": [
    {
     "name": "stdout",
     "output_type": "stream",
     "text": [
      "1671723\n"
     ]
    },
    {
     "data": {
      "text/html": [
       "<div>\n",
       "<style scoped>\n",
       "    .dataframe tbody tr th:only-of-type {\n",
       "        vertical-align: middle;\n",
       "    }\n",
       "\n",
       "    .dataframe tbody tr th {\n",
       "        vertical-align: top;\n",
       "    }\n",
       "\n",
       "    .dataframe thead th {\n",
       "        text-align: right;\n",
       "    }\n",
       "</style>\n",
       "<table border=\"1\" class=\"dataframe\">\n",
       "  <thead>\n",
       "    <tr style=\"text-align: right;\">\n",
       "      <th></th>\n",
       "      <th>event_id</th>\n",
       "      <th>sensor_id</th>\n",
       "      <th>time</th>\n",
       "      <th>charge</th>\n",
       "      <th>auxiliary</th>\n",
       "      <th>x</th>\n",
       "      <th>y</th>\n",
       "      <th>z</th>\n",
       "    </tr>\n",
       "  </thead>\n",
       "  <tbody>\n",
       "    <tr>\n",
       "      <th>0</th>\n",
       "      <td>24</td>\n",
       "      <td>3918</td>\n",
       "      <td>5928</td>\n",
       "      <td>1.325</td>\n",
       "      <td>True</td>\n",
       "      <td>291.498033</td>\n",
       "      <td>364.956393</td>\n",
       "      <td>180.170984</td>\n",
       "    </tr>\n",
       "    <tr>\n",
       "      <th>1</th>\n",
       "      <td>24</td>\n",
       "      <td>4157</td>\n",
       "      <td>6115</td>\n",
       "      <td>1.175</td>\n",
       "      <td>True</td>\n",
       "      <td>-157.361967</td>\n",
       "      <td>403.556393</td>\n",
       "      <td>186.320984</td>\n",
       "    </tr>\n",
       "    <tr>\n",
       "      <th>2</th>\n",
       "      <td>24</td>\n",
       "      <td>3520</td>\n",
       "      <td>6492</td>\n",
       "      <td>0.925</td>\n",
       "      <td>True</td>\n",
       "      <td>493.358033</td>\n",
       "      <td>287.196393</td>\n",
       "      <td>-201.009016</td>\n",
       "    </tr>\n",
       "    <tr>\n",
       "      <th>3</th>\n",
       "      <td>24</td>\n",
       "      <td>5041</td>\n",
       "      <td>6665</td>\n",
       "      <td>0.225</td>\n",
       "      <td>True</td>\n",
       "      <td>-21.591967</td>\n",
       "      <td>-50.183607</td>\n",
       "      <td>154.590984</td>\n",
       "    </tr>\n",
       "    <tr>\n",
       "      <th>4</th>\n",
       "      <td>24</td>\n",
       "      <td>2948</td>\n",
       "      <td>8054</td>\n",
       "      <td>1.575</td>\n",
       "      <td>True</td>\n",
       "      <td>564.458033</td>\n",
       "      <td>200.236393</td>\n",
       "      <td>331.470984</td>\n",
       "    </tr>\n",
       "  </tbody>\n",
       "</table>\n",
       "</div>"
      ],
      "text/plain": [
       "   event_id  sensor_id  time  charge  auxiliary           x           y  \\\n",
       "0        24       3918  5928   1.325       True  291.498033  364.956393   \n",
       "1        24       4157  6115   1.175       True -157.361967  403.556393   \n",
       "2        24       3520  6492   0.925       True  493.358033  287.196393   \n",
       "3        24       5041  6665   0.225       True  -21.591967  -50.183607   \n",
       "4        24       2948  8054   1.575       True  564.458033  200.236393   \n",
       "\n",
       "            z  \n",
       "0  180.170984  \n",
       "1  186.320984  \n",
       "2 -201.009016  \n",
       "3  154.590984  \n",
       "4  331.470984  "
      ]
     },
     "execution_count": 19,
     "metadata": {},
     "output_type": "execute_result"
    }
   ],
   "source": [
    "train_baseline = pd.read_parquet(f'/kaggle/input/icecube-neutrinos-in-deep-ice/train/batch_{str(train_batches[0])}.parquet')\n",
    "train_baseline = train_baseline.iloc[:train_meta_baseline.iloc[-1].last_pulse_index.astype(int)]\n",
    "train_baseline = train_baseline.reset_index()\n",
    "train_baseline[['x', 'y', 'z']] = sensor_geometry.loc[train_baseline.sensor_id].reset_index()[['x', 'y', 'z']]\n",
    "\n",
    "train_baseline['x'] = train_baseline['x'] - train_baseline.groupby('event_id').x.transform('mean')\n",
    "train_baseline['y'] = train_baseline['y'] - train_baseline.groupby('event_id').y.transform('mean')\n",
    "train_baseline['z'] = train_baseline['z'] - train_baseline.groupby('event_id').z.transform('mean')\n",
    "\n",
    "print(len(train_baseline))\n",
    "train_baseline.head()"
   ]
  },
  {
   "cell_type": "code",
   "execution_count": 20,
   "id": "2ea66029",
   "metadata": {
    "execution": {
     "iopub.execute_input": "2023-01-23T21:57:13.206609Z",
     "iopub.status.busy": "2023-01-23T21:57:13.205840Z",
     "iopub.status.idle": "2023-01-23T21:57:13.562026Z",
     "shell.execute_reply": "2023-01-23T21:57:13.560592Z"
    },
    "papermill": {
     "duration": 0.380012,
     "end_time": "2023-01-23T21:57:13.566214",
     "exception": false,
     "start_time": "2023-01-23T21:57:13.186202",
     "status": "completed"
    },
    "tags": []
   },
   "outputs": [
    {
     "data": {
      "text/plain": [
       "3503"
      ]
     },
     "execution_count": 20,
     "metadata": {},
     "output_type": "execute_result"
    }
   ],
   "source": [
    "import gc\n",
    "gc.collect()"
   ]
  },
  {
   "cell_type": "code",
   "execution_count": 21,
   "id": "dad8b24c",
   "metadata": {
    "execution": {
     "iopub.execute_input": "2023-01-23T21:57:13.620489Z",
     "iopub.status.busy": "2023-01-23T21:57:13.619306Z",
     "iopub.status.idle": "2023-01-23T21:57:13.638807Z",
     "shell.execute_reply": "2023-01-23T21:57:13.637182Z"
    },
    "papermill": {
     "duration": 0.041531,
     "end_time": "2023-01-23T21:57:13.643205",
     "exception": false,
     "start_time": "2023-01-23T21:57:13.601674",
     "status": "completed"
    },
    "tags": []
   },
   "outputs": [],
   "source": [
    "def get_angles(event_df):\n",
    "\n",
    "    if len(event_df.loc[~event_df.auxiliary]) > 15:\n",
    "        pca = PCA(n_components=2).fit(event_df.loc[~event_df.auxiliary][['x', 'y', 'z']])\n",
    "    else:\n",
    "        pca = PCA(n_components=2).fit(event_df[['x', 'y', 'z']])\n",
    "    vector = pca.components_[0]\n",
    "    \n",
    "    # In order to perform time direction analysis on the non-auxiliary ('true') pulses, we neeed to mean-normalize them separately\n",
    "    event_df_non_auxiliary = event_df.loc[~event_df.auxiliary].copy()\n",
    "    event_df_non_auxiliary.x = event_df_non_auxiliary.x - event_df_non_auxiliary.x.mean()\n",
    "    event_df_non_auxiliary.y = event_df_non_auxiliary.y - event_df_non_auxiliary.y.mean()\n",
    "    event_df_non_auxiliary.z = event_df_non_auxiliary.z - event_df_non_auxiliary.z.mean()\n",
    "    \n",
    "    # This is the formula for calculating a distance of a point from a plane. The plane direction is the first principal component, and it goes through the origin.\n",
    "    event_df_non_auxiliary['distance'] = (event_df_non_auxiliary.x*vector[0]+\n",
    "                                          event_df_non_auxiliary.y*vector[1]+\n",
    "                                          event_df_non_auxiliary.z*vector[2])/np.linalg.norm(vector)\n",
    "    \n",
    "    # Flip the vector direction if it points away from the neutrino origin\n",
    "    if (event_df_non_auxiliary.loc[(~event_df_non_auxiliary.auxiliary)&(event_df_non_auxiliary.distance>0)].time.mean() >\n",
    "        event_df_non_auxiliary.loc[(~event_df_non_auxiliary.auxiliary)&(event_df_non_auxiliary.distance<0)].time.mean()):\n",
    "        vector = -1*vector\n",
    "    \n",
    "    # This is important since minor numerical deviations can give a vector component like 1.00001, and then arccos fail.\n",
    "    vector = np.clip(vector, -1, 1)\n",
    "    \n",
    "    zenith = np.arccos(vector[2])\n",
    "    azimuth = np.arctan2(vector[1], vector[0])\n",
    "    if azimuth<0:\n",
    "        azimuth = 2*np.pi + azimuth\n",
    "    return zenith, azimuth"
   ]
  },
  {
   "cell_type": "code",
   "execution_count": 22,
   "id": "7e2c4069",
   "metadata": {
    "execution": {
     "iopub.execute_input": "2023-01-23T21:57:13.700926Z",
     "iopub.status.busy": "2023-01-23T21:57:13.699762Z",
     "iopub.status.idle": "2023-01-23T21:59:18.831072Z",
     "shell.execute_reply": "2023-01-23T21:59:18.829454Z"
    },
    "papermill": {
     "duration": 125.177718,
     "end_time": "2023-01-23T21:59:18.856146",
     "exception": false,
     "start_time": "2023-01-23T21:57:13.678428",
     "status": "completed"
    },
    "tags": []
   },
   "outputs": [
    {
     "name": "stdout",
     "output_type": "stream",
     "text": [
      "CPU times: user 2min 26s, sys: 33.9 s, total: 3min\n",
      "Wall time: 2min 5s\n"
     ]
    },
    {
     "data": {
      "text/html": [
       "<div>\n",
       "<style scoped>\n",
       "    .dataframe tbody tr th:only-of-type {\n",
       "        vertical-align: middle;\n",
       "    }\n",
       "\n",
       "    .dataframe tbody tr th {\n",
       "        vertical-align: top;\n",
       "    }\n",
       "\n",
       "    .dataframe thead th {\n",
       "        text-align: right;\n",
       "    }\n",
       "</style>\n",
       "<table border=\"1\" class=\"dataframe\">\n",
       "  <thead>\n",
       "    <tr style=\"text-align: right;\">\n",
       "      <th></th>\n",
       "      <th>batch_id</th>\n",
       "      <th>event_id</th>\n",
       "      <th>first_pulse_index</th>\n",
       "      <th>last_pulse_index</th>\n",
       "      <th>azimuth</th>\n",
       "      <th>zenith</th>\n",
       "      <th>azimuth_pred</th>\n",
       "      <th>zenith_pred</th>\n",
       "    </tr>\n",
       "  </thead>\n",
       "  <tbody>\n",
       "    <tr>\n",
       "      <th>0</th>\n",
       "      <td>1</td>\n",
       "      <td>24</td>\n",
       "      <td>0</td>\n",
       "      <td>60</td>\n",
       "      <td>5.029555</td>\n",
       "      <td>2.087498</td>\n",
       "      <td>3.326427</td>\n",
       "      <td>2.011019</td>\n",
       "    </tr>\n",
       "    <tr>\n",
       "      <th>1</th>\n",
       "      <td>1</td>\n",
       "      <td>41</td>\n",
       "      <td>61</td>\n",
       "      <td>111</td>\n",
       "      <td>0.417742</td>\n",
       "      <td>1.549686</td>\n",
       "      <td>1.985541</td>\n",
       "      <td>0.823662</td>\n",
       "    </tr>\n",
       "    <tr>\n",
       "      <th>2</th>\n",
       "      <td>1</td>\n",
       "      <td>59</td>\n",
       "      <td>112</td>\n",
       "      <td>147</td>\n",
       "      <td>1.160466</td>\n",
       "      <td>2.401942</td>\n",
       "      <td>1.278074</td>\n",
       "      <td>2.611237</td>\n",
       "    </tr>\n",
       "    <tr>\n",
       "      <th>3</th>\n",
       "      <td>1</td>\n",
       "      <td>67</td>\n",
       "      <td>148</td>\n",
       "      <td>289</td>\n",
       "      <td>5.845952</td>\n",
       "      <td>0.759054</td>\n",
       "      <td>5.722435</td>\n",
       "      <td>0.858858</td>\n",
       "    </tr>\n",
       "    <tr>\n",
       "      <th>4</th>\n",
       "      <td>1</td>\n",
       "      <td>72</td>\n",
       "      <td>290</td>\n",
       "      <td>351</td>\n",
       "      <td>0.653719</td>\n",
       "      <td>0.939117</td>\n",
       "      <td>5.992344</td>\n",
       "      <td>0.384247</td>\n",
       "    </tr>\n",
       "  </tbody>\n",
       "</table>\n",
       "</div>"
      ],
      "text/plain": [
       "   batch_id  event_id  first_pulse_index  last_pulse_index   azimuth  \\\n",
       "0         1        24                  0                60  5.029555   \n",
       "1         1        41                 61               111  0.417742   \n",
       "2         1        59                112               147  1.160466   \n",
       "3         1        67                148               289  5.845952   \n",
       "4         1        72                290               351  0.653719   \n",
       "\n",
       "     zenith azimuth_pred zenith_pred  \n",
       "0  2.087498     3.326427    2.011019  \n",
       "1  1.549686     1.985541    0.823662  \n",
       "2  2.401942     1.278074    2.611237  \n",
       "3  0.759054     5.722435    0.858858  \n",
       "4  0.939117     5.992344    0.384247  "
      ]
     },
     "execution_count": 22,
     "metadata": {},
     "output_type": "execute_result"
    }
   ],
   "source": [
    "%%time\n",
    "\n",
    "train_meta_baseline[['azimuth_pred', 'zenith_pred']] = None\n",
    "for i in range(len(train_meta_baseline)):\n",
    "    row = train_meta_baseline.iloc[i]\n",
    "    event_df = train_baseline.iloc[row.first_pulse_index.astype(int):row.last_pulse_index.astype(int)+1].copy()\n",
    "    zenith, azimuth = get_angles(event_df)\n",
    "    train_meta_baseline.loc[i, 'zenith_pred'] = zenith\n",
    "    train_meta_baseline.loc[i, 'azimuth_pred'] = azimuth\n",
    "    \n",
    "train_meta_baseline.head()"
   ]
  },
  {
   "cell_type": "code",
   "execution_count": 23,
   "id": "cb1e6f5c",
   "metadata": {
    "execution": {
     "iopub.execute_input": "2023-01-23T21:59:18.893976Z",
     "iopub.status.busy": "2023-01-23T21:59:18.893120Z",
     "iopub.status.idle": "2023-01-23T21:59:18.906386Z",
     "shell.execute_reply": "2023-01-23T21:59:18.905244Z"
    },
    "papermill": {
     "duration": 0.036489,
     "end_time": "2023-01-23T21:59:18.909263",
     "exception": false,
     "start_time": "2023-01-23T21:59:18.872774",
     "status": "completed"
    },
    "tags": []
   },
   "outputs": [
    {
     "data": {
      "text/plain": [
       "1.2819972660303094"
      ]
     },
     "execution_count": 23,
     "metadata": {},
     "output_type": "execute_result"
    }
   ],
   "source": [
    "angular_dist_score(train_meta_baseline.azimuth.to_numpy(), train_meta_baseline.zenith.to_numpy(),\n",
    "                   train_meta_baseline.azimuth_pred.astype(float).to_numpy(),\n",
    "                   train_meta_baseline.astype(float).zenith_pred.to_numpy())"
   ]
  },
  {
   "cell_type": "code",
   "execution_count": 24,
   "id": "e8a2f3e4",
   "metadata": {
    "execution": {
     "iopub.execute_input": "2023-01-23T21:59:18.943436Z",
     "iopub.status.busy": "2023-01-23T21:59:18.943019Z",
     "iopub.status.idle": "2023-01-23T21:59:19.141985Z",
     "shell.execute_reply": "2023-01-23T21:59:19.140253Z"
    },
    "papermill": {
     "duration": 0.220738,
     "end_time": "2023-01-23T21:59:19.145605",
     "exception": false,
     "start_time": "2023-01-23T21:59:18.924867",
     "status": "completed"
    },
    "tags": []
   },
   "outputs": [
    {
     "data": {
      "text/plain": [
       "42"
      ]
     },
     "execution_count": 24,
     "metadata": {},
     "output_type": "execute_result"
    }
   ],
   "source": [
    "del train_meta_baseline,train_baseline, train_batch_1, train_meta\n",
    "gc.collect()"
   ]
  },
  {
   "cell_type": "markdown",
   "id": "93310429",
   "metadata": {
    "papermill": {
     "duration": 0.017457,
     "end_time": "2023-01-23T21:59:19.179054",
     "exception": false,
     "start_time": "2023-01-23T21:59:19.161597",
     "status": "completed"
    },
    "tags": []
   },
   "source": [
    "# Making a submission"
   ]
  },
  {
   "cell_type": "code",
   "execution_count": 25,
   "id": "66b83ebf",
   "metadata": {
    "execution": {
     "iopub.execute_input": "2023-01-23T21:59:19.217432Z",
     "iopub.status.busy": "2023-01-23T21:59:19.216628Z",
     "iopub.status.idle": "2023-01-23T21:59:19.242959Z",
     "shell.execute_reply": "2023-01-23T21:59:19.241481Z"
    },
    "papermill": {
     "duration": 0.049792,
     "end_time": "2023-01-23T21:59:19.245797",
     "exception": false,
     "start_time": "2023-01-23T21:59:19.196005",
     "status": "completed"
    },
    "tags": []
   },
   "outputs": [
    {
     "data": {
      "text/html": [
       "<div>\n",
       "<style scoped>\n",
       "    .dataframe tbody tr th:only-of-type {\n",
       "        vertical-align: middle;\n",
       "    }\n",
       "\n",
       "    .dataframe tbody tr th {\n",
       "        vertical-align: top;\n",
       "    }\n",
       "\n",
       "    .dataframe thead th {\n",
       "        text-align: right;\n",
       "    }\n",
       "</style>\n",
       "<table border=\"1\" class=\"dataframe\">\n",
       "  <thead>\n",
       "    <tr style=\"text-align: right;\">\n",
       "      <th></th>\n",
       "      <th>event_id</th>\n",
       "      <th>azimuth</th>\n",
       "      <th>zenith</th>\n",
       "    </tr>\n",
       "  </thead>\n",
       "  <tbody>\n",
       "    <tr>\n",
       "      <th>0</th>\n",
       "      <td>2092</td>\n",
       "      <td>1</td>\n",
       "      <td>1</td>\n",
       "    </tr>\n",
       "    <tr>\n",
       "      <th>1</th>\n",
       "      <td>7344</td>\n",
       "      <td>1</td>\n",
       "      <td>1</td>\n",
       "    </tr>\n",
       "    <tr>\n",
       "      <th>2</th>\n",
       "      <td>9482</td>\n",
       "      <td>1</td>\n",
       "      <td>1</td>\n",
       "    </tr>\n",
       "  </tbody>\n",
       "</table>\n",
       "</div>"
      ],
      "text/plain": [
       "   event_id  azimuth  zenith\n",
       "0      2092        1       1\n",
       "1      7344        1       1\n",
       "2      9482        1       1"
      ]
     },
     "execution_count": 25,
     "metadata": {},
     "output_type": "execute_result"
    }
   ],
   "source": [
    "sample_submission = pd.read_parquet('/kaggle/input/icecube-neutrinos-in-deep-ice/sample_submission.parquet')\n",
    "sample_submission.head()"
   ]
  },
  {
   "cell_type": "code",
   "execution_count": 26,
   "id": "6afd5a62",
   "metadata": {
    "execution": {
     "iopub.execute_input": "2023-01-23T21:59:19.282996Z",
     "iopub.status.busy": "2023-01-23T21:59:19.281846Z",
     "iopub.status.idle": "2023-01-23T21:59:19.301531Z",
     "shell.execute_reply": "2023-01-23T21:59:19.299879Z"
    },
    "papermill": {
     "duration": 0.042997,
     "end_time": "2023-01-23T21:59:19.305960",
     "exception": false,
     "start_time": "2023-01-23T21:59:19.262963",
     "status": "completed"
    },
    "tags": []
   },
   "outputs": [
    {
     "data": {
      "text/html": [
       "<div>\n",
       "<style scoped>\n",
       "    .dataframe tbody tr th:only-of-type {\n",
       "        vertical-align: middle;\n",
       "    }\n",
       "\n",
       "    .dataframe tbody tr th {\n",
       "        vertical-align: top;\n",
       "    }\n",
       "\n",
       "    .dataframe thead th {\n",
       "        text-align: right;\n",
       "    }\n",
       "</style>\n",
       "<table border=\"1\" class=\"dataframe\">\n",
       "  <thead>\n",
       "    <tr style=\"text-align: right;\">\n",
       "      <th></th>\n",
       "      <th>batch_id</th>\n",
       "      <th>event_id</th>\n",
       "      <th>first_pulse_index</th>\n",
       "      <th>last_pulse_index</th>\n",
       "    </tr>\n",
       "  </thead>\n",
       "  <tbody>\n",
       "    <tr>\n",
       "      <th>0</th>\n",
       "      <td>661</td>\n",
       "      <td>2092</td>\n",
       "      <td>0</td>\n",
       "      <td>298</td>\n",
       "    </tr>\n",
       "    <tr>\n",
       "      <th>1</th>\n",
       "      <td>661</td>\n",
       "      <td>7344</td>\n",
       "      <td>299</td>\n",
       "      <td>334</td>\n",
       "    </tr>\n",
       "    <tr>\n",
       "      <th>2</th>\n",
       "      <td>661</td>\n",
       "      <td>9482</td>\n",
       "      <td>335</td>\n",
       "      <td>377</td>\n",
       "    </tr>\n",
       "  </tbody>\n",
       "</table>\n",
       "</div>"
      ],
      "text/plain": [
       "   batch_id  event_id  first_pulse_index  last_pulse_index\n",
       "0       661      2092                  0               298\n",
       "1       661      7344                299               334\n",
       "2       661      9482                335               377"
      ]
     },
     "execution_count": 26,
     "metadata": {},
     "output_type": "execute_result"
    }
   ],
   "source": [
    "test_meta = pd.read_parquet('/kaggle/input/icecube-neutrinos-in-deep-ice/test_meta.parquet')\n",
    "test_meta.head()"
   ]
  },
  {
   "cell_type": "code",
   "execution_count": 27,
   "id": "8dc6614c",
   "metadata": {
    "execution": {
     "iopub.execute_input": "2023-01-23T21:59:19.342771Z",
     "iopub.status.busy": "2023-01-23T21:59:19.342187Z",
     "iopub.status.idle": "2023-01-23T21:59:19.351174Z",
     "shell.execute_reply": "2023-01-23T21:59:19.349784Z"
    },
    "papermill": {
     "duration": 0.029343,
     "end_time": "2023-01-23T21:59:19.353514",
     "exception": false,
     "start_time": "2023-01-23T21:59:19.324171",
     "status": "completed"
    },
    "tags": []
   },
   "outputs": [],
   "source": [
    "def load_test_batch(test_batch_id):\n",
    "    test_batch = pd.read_parquet(f'/kaggle/input/icecube-neutrinos-in-deep-ice/test/batch_{str(int(test_batch_id))}.parquet')\n",
    "    test_batch = test_batch.reset_index()\n",
    "    test_batch[['x', 'y', 'z']] = sensor_geometry.loc[test_batch.sensor_id].reset_index()[['x', 'y', 'z']]\n",
    "    test_batch['x'] = test_batch['x'] - test_batch.groupby('event_id').x.transform('mean')\n",
    "    test_batch['y'] = test_batch['y'] - test_batch.groupby('event_id').y.transform('mean')\n",
    "    test_batch['z'] = test_batch['z'] - test_batch.groupby('event_id').z.transform('mean')\n",
    "    return test_batch"
   ]
  },
  {
   "cell_type": "code",
   "execution_count": 28,
   "id": "882b2a1d",
   "metadata": {
    "execution": {
     "iopub.execute_input": "2023-01-23T21:59:19.389419Z",
     "iopub.status.busy": "2023-01-23T21:59:19.387996Z",
     "iopub.status.idle": "2023-01-23T21:59:20.368812Z",
     "shell.execute_reply": "2023-01-23T21:59:20.366426Z"
    },
    "papermill": {
     "duration": 1.002153,
     "end_time": "2023-01-23T21:59:20.372430",
     "exception": false,
     "start_time": "2023-01-23T21:59:19.370277",
     "status": "completed"
    },
    "tags": []
   },
   "outputs": [
    {
     "data": {
      "text/html": [
       "<div>\n",
       "<style scoped>\n",
       "    .dataframe tbody tr th:only-of-type {\n",
       "        vertical-align: middle;\n",
       "    }\n",
       "\n",
       "    .dataframe tbody tr th {\n",
       "        vertical-align: top;\n",
       "    }\n",
       "\n",
       "    .dataframe thead th {\n",
       "        text-align: right;\n",
       "    }\n",
       "</style>\n",
       "<table border=\"1\" class=\"dataframe\">\n",
       "  <thead>\n",
       "    <tr style=\"text-align: right;\">\n",
       "      <th></th>\n",
       "      <th>batch_id</th>\n",
       "      <th>event_id</th>\n",
       "      <th>first_pulse_index</th>\n",
       "      <th>last_pulse_index</th>\n",
       "      <th>zenith</th>\n",
       "      <th>azimuth</th>\n",
       "    </tr>\n",
       "  </thead>\n",
       "  <tbody>\n",
       "    <tr>\n",
       "      <th>0</th>\n",
       "      <td>661</td>\n",
       "      <td>2092</td>\n",
       "      <td>0</td>\n",
       "      <td>298</td>\n",
       "      <td>2.299421</td>\n",
       "      <td>4.059076</td>\n",
       "    </tr>\n",
       "    <tr>\n",
       "      <th>1</th>\n",
       "      <td>661</td>\n",
       "      <td>7344</td>\n",
       "      <td>299</td>\n",
       "      <td>334</td>\n",
       "      <td>2.241980</td>\n",
       "      <td>2.193257</td>\n",
       "    </tr>\n",
       "    <tr>\n",
       "      <th>2</th>\n",
       "      <td>661</td>\n",
       "      <td>9482</td>\n",
       "      <td>335</td>\n",
       "      <td>377</td>\n",
       "      <td>2.353995</td>\n",
       "      <td>4.157449</td>\n",
       "    </tr>\n",
       "  </tbody>\n",
       "</table>\n",
       "</div>"
      ],
      "text/plain": [
       "   batch_id  event_id  first_pulse_index  last_pulse_index    zenith   azimuth\n",
       "0       661      2092                  0               298  2.299421  4.059076\n",
       "1       661      7344                299               334  2.241980  2.193257\n",
       "2       661      9482                335               377  2.353995  4.157449"
      ]
     },
     "execution_count": 28,
     "metadata": {},
     "output_type": "execute_result"
    }
   ],
   "source": [
    "batches = test_meta.batch_id.unique()\n",
    "for batch in batches:\n",
    "    test_batch = load_test_batch(batch)\n",
    "    test_meta_batch = test_meta.loc[test_meta.batch_id == batch]\n",
    "    \n",
    "    # multiprocessing ftw\n",
    "    items = []\n",
    "    for i in range(len(test_meta_batch)):\n",
    "        row = test_meta_batch.iloc[i]\n",
    "        items.append(test_batch.iloc[row.first_pulse_index.astype(int):row.last_pulse_index.astype(int)+1].copy())\n",
    "    results = []\n",
    "    with multiprocessing.Pool() as pool:\n",
    "        for result in pool.map(get_angles, items):\n",
    "            results.append(result)\n",
    "            \n",
    "    test_meta.loc[test_meta_batch.index, 'zenith'] = [results[i][0] for i in range(len(results))]\n",
    "    test_meta.loc[test_meta_batch.index, 'azimuth'] = [results[i][1] for i in range(len(results))]\n",
    "    \n",
    "    del items, test_batch, test_meta_batch,results\n",
    "    gc.collect()\n",
    "test_meta.head()"
   ]
  },
  {
   "cell_type": "code",
   "execution_count": 29,
   "id": "ee25ff62",
   "metadata": {
    "execution": {
     "iopub.execute_input": "2023-01-23T21:59:20.411986Z",
     "iopub.status.busy": "2023-01-23T21:59:20.409734Z",
     "iopub.status.idle": "2023-01-23T21:59:20.435419Z",
     "shell.execute_reply": "2023-01-23T21:59:20.433741Z"
    },
    "papermill": {
     "duration": 0.049365,
     "end_time": "2023-01-23T21:59:20.439680",
     "exception": false,
     "start_time": "2023-01-23T21:59:20.390315",
     "status": "completed"
    },
    "tags": []
   },
   "outputs": [
    {
     "data": {
      "text/html": [
       "<div>\n",
       "<style scoped>\n",
       "    .dataframe tbody tr th:only-of-type {\n",
       "        vertical-align: middle;\n",
       "    }\n",
       "\n",
       "    .dataframe tbody tr th {\n",
       "        vertical-align: top;\n",
       "    }\n",
       "\n",
       "    .dataframe thead th {\n",
       "        text-align: right;\n",
       "    }\n",
       "</style>\n",
       "<table border=\"1\" class=\"dataframe\">\n",
       "  <thead>\n",
       "    <tr style=\"text-align: right;\">\n",
       "      <th></th>\n",
       "      <th>event_id</th>\n",
       "      <th>azimuth</th>\n",
       "      <th>zenith</th>\n",
       "    </tr>\n",
       "  </thead>\n",
       "  <tbody>\n",
       "    <tr>\n",
       "      <th>0</th>\n",
       "      <td>2092</td>\n",
       "      <td>4.059076</td>\n",
       "      <td>2.299421</td>\n",
       "    </tr>\n",
       "    <tr>\n",
       "      <th>1</th>\n",
       "      <td>7344</td>\n",
       "      <td>2.193257</td>\n",
       "      <td>2.241980</td>\n",
       "    </tr>\n",
       "    <tr>\n",
       "      <th>2</th>\n",
       "      <td>9482</td>\n",
       "      <td>4.157449</td>\n",
       "      <td>2.353995</td>\n",
       "    </tr>\n",
       "  </tbody>\n",
       "</table>\n",
       "</div>"
      ],
      "text/plain": [
       "   event_id   azimuth    zenith\n",
       "0      2092  4.059076  2.299421\n",
       "1      7344  2.193257  2.241980\n",
       "2      9482  4.157449  2.353995"
      ]
     },
     "execution_count": 29,
     "metadata": {},
     "output_type": "execute_result"
    }
   ],
   "source": [
    "submission = test_meta[['event_id', 'azimuth', 'zenith']]\n",
    "submission.to_csv('submission.csv', index=False)\n",
    "submission.head()"
   ]
  }
 ],
 "metadata": {
  "kernelspec": {
   "display_name": "Python 3",
   "language": "python",
   "name": "python3"
  },
  "language_info": {
   "codemirror_mode": {
    "name": "ipython",
    "version": 3
   },
   "file_extension": ".py",
   "mimetype": "text/x-python",
   "name": "python",
   "nbconvert_exporter": "python",
   "pygments_lexer": "ipython3",
   "version": "3.7.12"
  },
  "papermill": {
   "default_parameters": {},
   "duration": 221.466468,
   "end_time": "2023-01-23T21:59:23.034118",
   "environment_variables": {},
   "exception": null,
   "input_path": "__notebook__.ipynb",
   "output_path": "__notebook__.ipynb",
   "parameters": {},
   "start_time": "2023-01-23T21:55:41.567650",
   "version": "2.3.4"
  }
 },
 "nbformat": 4,
 "nbformat_minor": 5
}
